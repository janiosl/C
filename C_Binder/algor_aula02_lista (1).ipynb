{
 "cells": [
  {
   "cell_type": "markdown",
   "id": "respected-church",
   "metadata": {},
   "source": [
    "# Vetor"
   ]
  },
  {
   "cell_type": "code",
   "execution_count": 1,
   "id": "recent-lexington",
   "metadata": {},
   "outputs": [
    {
     "name": "stdout",
     "output_type": "stream",
     "text": [
      "Elemento 0: 1\n",
      "Elemento 1: 2\n",
      "Elemento 2: 3\n",
      "Elemento 3: 4\n"
     ]
    }
   ],
   "source": [
    "#include <stdio.h>\n",
    "int main() {\n",
    "    int vetor[4] = {1, 2, 3, 4};\n",
    "    int j;\n",
    "    \n",
    "    for (j=0; j<=3; j++)\n",
    "        printf(\"Elemento %i: %i\\n\", j, vetor[j]);\n",
    "        \n",
    "    return 0;\n",
    "}"
   ]
  },
  {
   "cell_type": "markdown",
   "id": "pleased-holocaust",
   "metadata": {},
   "source": [
    "# Lista Encadeada"
   ]
  },
  {
   "cell_type": "markdown",
   "id": "approximate-ladder",
   "metadata": {},
   "source": [
    "## Criação de estrutura personalizada"
   ]
  },
  {
   "cell_type": "markdown",
   "id": "sound-architecture",
   "metadata": {},
   "source": [
    "### Primeira opção\n",
    "Cria a lista encadeada a partir de um tipo de estrutura de dados personalizada usando `struct`, contendo o primeiro campo `info` do tipo inteiro que armazena a informação do item atual da lista e o segundo campo `prox` como um ponteiro sem tipo (void) que apontará para o próximo item da lista."
   ]
  },
  {
   "cell_type": "code",
   "execution_count": 2,
   "id": "continuing-natural",
   "metadata": {},
   "outputs": [
    {
     "name": "stdout",
     "output_type": "stream",
     "text": [
      "Programa compilado corretamente\n"
     ]
    }
   ],
   "source": [
    "#include <stdio.h>\n",
    "\n",
    "/*Cria a estrutura da lista*/\n",
    "struct lista {\n",
    "    int info;\n",
    "    void* prox;\n",
    "};\n",
    "typedef struct lista Lista;\n",
    "\n",
    "int main(){\n",
    "    printf(\"Programa compilado corretamente\\n\");\n",
    "    return 0;\n",
    "}"
   ]
  },
  {
   "cell_type": "markdown",
   "id": "senior-referral",
   "metadata": {},
   "source": [
    "### Segunda opção\n",
    "A estrutura personalizada tem as mesmas características da anterior, exceto pelo campo próximo que usa o próprio tipo personalizado `lista` ao invés de `void`."
   ]
  },
  {
   "cell_type": "code",
   "execution_count": 5,
   "id": "invalid-adapter",
   "metadata": {},
   "outputs": [
    {
     "name": "stdout",
     "output_type": "stream",
     "text": [
      "Programa compilado corretamente\n"
     ]
    }
   ],
   "source": [
    "#include <stdio.h>\n",
    "\n",
    "/*Cria a estrutura da lista*/\n",
    "struct lista {\n",
    "    int info;\n",
    "    struct lista* prox;\n",
    "};\n",
    "typedef struct lista Lista;\n",
    "\n",
    "int main() {\n",
    "    printf(\"Programa compilado corretamente\\n\");\n",
    "    return 0;\n",
    "}"
   ]
  },
  {
   "cell_type": "markdown",
   "id": "competitive-marketing",
   "metadata": {},
   "source": [
    "### Função para criação de lista\n",
    "Preparativos para uso da estrutura personalizada no algoritmo de lista encadeada.\n",
    "\n",
    "* Criação da função para criar lista;\n",
    "* Criação da função para inserir elementos no início da lista;\n",
    "* Uso das funções no programa principal `main`"
   ]
  },
  {
   "cell_type": "code",
   "execution_count": 6,
   "id": "successful-iraqi",
   "metadata": {},
   "outputs": [
    {
     "name": "stdout",
     "output_type": "stream",
     "text": [
      "Programa compilado corretamente\n"
     ]
    }
   ],
   "source": [
    "#include <stdio.h>\n",
    "\n",
    "/*Cria a estrutura da lista*/\n",
    "struct lista {\n",
    "    int info;\n",
    "    struct lista* prox;\n",
    "};\n",
    "typedef struct lista Lista;\n",
    "\n",
    "/*==========================================*/\n",
    "/*Função de criação: retorna uma lista vazia*/\n",
    "Lista* lst_cria (void)\n",
    "{\n",
    "    return NULL;\n",
    "}\n",
    "\n",
    "int main() {\n",
    "    printf(\"Programa compilado corretamente\\n\");\n",
    "    return 0;\n",
    "}"
   ]
  },
  {
   "cell_type": "code",
   "execution_count": 11,
   "id": "auburn-library",
   "metadata": {},
   "outputs": [
    {
     "name": "stdout",
     "output_type": "stream",
     "text": [
      "Programa compilado corretamente\n"
     ]
    }
   ],
   "source": [
    "#include <stdio.h>\n",
    "#include <stdlib.h>\n",
    "\n",
    "/*Cria a estrutura da lista*/\n",
    "struct lista {\n",
    "    int info;\n",
    "    struct lista* prox;\n",
    "};\n",
    "typedef struct lista Lista;\n",
    "\n",
    "/*==========================================*/\n",
    "/*Função de criação: retorna uma lista vazia*/\n",
    "Lista* lst_cria (void)\n",
    "{\n",
    "    return NULL;\n",
    "}\n",
    "\n",
    "/*========================================================*/\n",
    "/*Função de inserção no início: retorna a lista atualizada*/\n",
    "Lista* lst_insere(Lista* lst, int val)\n",
    "{\n",
    "    Lista* novo = (Lista*) malloc(sizeof(Lista)); /*Incluir stdlib.h para usar malloc*/\n",
    "    novo->info = val;\n",
    "    novo->prox = lst;\n",
    "    return novo;\n",
    "}\n",
    "\n",
    "int main() {\n",
    "    printf(\"Programa compilado corretamente\\n\");\n",
    "    return 0;\n",
    "}"
   ]
  },
  {
   "cell_type": "code",
   "execution_count": 29,
   "id": "automated-emergency",
   "metadata": {},
   "outputs": [
    {
     "name": "stdout",
     "output_type": "stream",
     "text": [
      "Programa compilado corretamente\n"
     ]
    }
   ],
   "source": [
    "#include <stdio.h>\n",
    "#include <stdlib.h>\n",
    "\n",
    "/*Cria a estrutura da lista*/\n",
    "struct lista {\n",
    "    int info;\n",
    "    struct lista* prox;\n",
    "};\n",
    "typedef struct lista Lista;\n",
    "\n",
    "/*==========================================*/\n",
    "/*Função de criação: retorna uma lista vazia*/\n",
    "Lista* lst_cria (void)\n",
    "{\n",
    "    return NULL;\n",
    "}\n",
    "\n",
    "/*========================================================*/\n",
    "/*Função de inserção no início: retorna a lista atualizada*/\n",
    "Lista* lst_insere(Lista* lst, int val)\n",
    "{\n",
    "    Lista* novo = (Lista*) malloc(sizeof(Lista)); /*Incluir stdlib.h para usar malloc*/\n",
    "    novo->info = val;\n",
    "    novo->prox = lst;\n",
    "    return novo;\n",
    "}\n",
    "\n",
    "int main(void) {\n",
    "    Lista* lst;          /*Cria uma variável com o tipo personalizado*/\n",
    "    lst = lst_cria();    /*Cria uma lista vazia*/\n",
    "    \n",
    "    lst = lst_insere(lst, 23); /*Insere o elemento 23 na lista*/\n",
    "    lst = lst_insere(lst, 45); /*Insere o elemento 45 na lista*/\n",
    "    \n",
    "    printf(\"Programa compilado corretamente\\n\");\n",
    "    return 0;\n",
    "}"
   ]
  },
  {
   "cell_type": "markdown",
   "id": "native-boost",
   "metadata": {},
   "source": [
    "### Impressão dos elementos da lista\n",
    "\n",
    "* Inicialmente é feita apenas a impressão direta do elemento da lista\n",
    "* Criação da função de impressão para percorrer e exibir todos os elementos"
   ]
  },
  {
   "cell_type": "code",
   "execution_count": 35,
   "id": "worth-margin",
   "metadata": {},
   "outputs": [
    {
     "name": "stdout",
     "output_type": "stream",
     "text": [
      "Elemento: 45\n",
      "Programa compilado corretamente\n"
     ]
    }
   ],
   "source": [
    "#include <stdio.h>\n",
    "#include <stdlib.h>\n",
    "\n",
    "/*Cria a estrutura da lista*/\n",
    "struct lista {\n",
    "    int info;\n",
    "    struct lista* prox;\n",
    "};\n",
    "typedef struct lista Lista;\n",
    "\n",
    "\n",
    "/*==========================================*/\n",
    "/*Função de criação: retorna uma lista vazia*/\n",
    "Lista* lst_cria (void)\n",
    "{\n",
    "    return NULL;\n",
    "}\n",
    "\n",
    "\n",
    "/*========================================================*/\n",
    "/*Função de inserção no início: retorna a lista atualizada*/\n",
    "Lista* lst_insere(Lista* lst, int val)\n",
    "{\n",
    "    Lista* novo = (Lista*) malloc(sizeof(Lista)); /*Incluir stdlib.h para usar malloc*/\n",
    "    novo->info = val;\n",
    "    novo->prox = lst;\n",
    "    return novo;\n",
    "}\n",
    "\n",
    "\n",
    "int main() {\n",
    "    Lista* lst;          /*Cria uma variável com o tipo personalizado*/\n",
    "    lst = lst_cria();    /*Cria uma lista vazia*/\n",
    "    \n",
    "    lst = lst_insere(lst, 23); /*Insere o elemento 23 na lista*/\n",
    "    lst = lst_insere(lst, 45); /*Insere o elemento 45 na lista*/\n",
    "    \n",
    "    printf(\"Elemento: %d\\n\", lst->info); /*Exibe o último elemento inserido na lista*/\n",
    "    \n",
    "    printf(\"Programa compilado corretamente\\n\");\n",
    "    return 0;\n",
    "}"
   ]
  },
  {
   "cell_type": "code",
   "execution_count": 37,
   "id": "brilliant-bacteria",
   "metadata": {},
   "outputs": [
    {
     "name": "stdout",
     "output_type": "stream",
     "text": [
      "Impressão de itens da lista\n",
      "\n",
      "info = 45\n",
      "info = 23\n",
      "Lista concluída\n",
      "\n",
      "Programa compilado corretamente\n"
     ]
    }
   ],
   "source": [
    "#include <stdio.h>\n",
    "#include <stdlib.h>\n",
    "\n",
    "/*Cria a estrutura da lista*/\n",
    "struct lista {\n",
    "    int info;\n",
    "    struct lista* prox;\n",
    "};\n",
    "typedef struct lista Lista;\n",
    "\n",
    "\n",
    "/*==========================================*/\n",
    "/*Função de criação: retorna uma lista vazia*/\n",
    "Lista* lst_cria (void)\n",
    "{\n",
    "    return NULL;\n",
    "}\n",
    "\n",
    "\n",
    "/*========================================================*/\n",
    "/*Função de inserção no início: retorna a lista atualizada*/\n",
    "Lista* lst_insere(Lista* lst, int val)\n",
    "{\n",
    "    Lista* novo = (Lista*) malloc(sizeof(Lista)); /*Incluir stdlib.h para usar malloc*/\n",
    "    novo->info = val;\n",
    "    novo->prox = lst;\n",
    "    return novo;\n",
    "}\n",
    "\n",
    "\n",
    "/*==================================================*/\n",
    "/*Função de impressão: imprime valores dos elementos*/\n",
    "void lst_imprime(Lista* lst)\n",
    "{\n",
    "    Lista* p; /*Ponteiro para percorrer elementos da lista*/\n",
    "    for (p = lst; p != NULL; p = p->prox)\n",
    "        printf(\"info = %d\\n\", p->info);\n",
    "}\n",
    "\n",
    "\n",
    "int main() {\n",
    "    Lista* lst;          /*Cria uma variável com o tipo personalizado*/\n",
    "    lst = lst_cria();    /*Cria uma lista vazia*/\n",
    "    \n",
    "    lst = lst_insere(lst, 23); /*Insere o elemento 23 na lista*/\n",
    "    lst = lst_insere(lst, 45); /*Insere o elemento 45 na lista*/\n",
    "    \n",
    "    puts(\"Impressão de itens da lista\\n\");\n",
    "    lst_imprime(lst);\n",
    "    puts(\"Lista concluída\\n\");\n",
    "    \n",
    "    printf(\"Programa compilado corretamente\\n\");\n",
    "    return 0;\n",
    "}"
   ]
  },
  {
   "cell_type": "code",
   "execution_count": 38,
   "id": "conservative-spiritual",
   "metadata": {},
   "outputs": [
    {
     "name": "stdout",
     "output_type": "stream",
     "text": [
      "Impressão de itens da lista\n",
      "\n",
      "info = 7\n",
      "info = 33\n",
      "info = 45\n",
      "info = 23\n",
      "Lista concluída\n",
      "\n",
      "Programa compilado corretamente\n"
     ]
    }
   ],
   "source": [
    "#include <stdio.h>\n",
    "#include <stdlib.h>\n",
    "\n",
    "/*Cria a estrutura da lista*/\n",
    "struct lista {\n",
    "    int info;\n",
    "    struct lista* prox;\n",
    "};\n",
    "typedef struct lista Lista;\n",
    "\n",
    "\n",
    "/*==========================================*/\n",
    "/*Função de criação: retorna uma lista vazia*/\n",
    "Lista* lst_cria (void)\n",
    "{\n",
    "    return NULL;\n",
    "}\n",
    "\n",
    "\n",
    "/*========================================================*/\n",
    "/*Função de inserção no início: retorna a lista atualizada*/\n",
    "Lista* lst_insere(Lista* lst, int val)\n",
    "{\n",
    "    Lista* novo = (Lista*) malloc(sizeof(Lista)); /*Incluir stdlib.h para usar malloc*/\n",
    "    novo->info = val;\n",
    "    novo->prox = lst;\n",
    "    return novo;\n",
    "}\n",
    "\n",
    "\n",
    "/*==================================================*/\n",
    "/*Função de impressão: imprime valores dos elementos*/\n",
    "void lst_imprime(Lista* lst)\n",
    "{\n",
    "    Lista* p; /*Ponteiro para percorrer elementos da lista*/\n",
    "    for (p = lst; p != NULL; p = p->prox)\n",
    "        printf(\"info = %d\\n\", p->info);\n",
    "}\n",
    "\n",
    "\n",
    "int main() {\n",
    "    Lista* lst;          /*Cria uma variável com o tipo personalizado*/\n",
    "    lst = lst_cria();    /*Cria uma lista vazia*/\n",
    "    \n",
    "    /*Insere diversos elementos*/\n",
    "    lst = lst_insere(lst, 23);\n",
    "    lst = lst_insere(lst, 45);\n",
    "    lst = lst_insere(lst, 33);\n",
    "    lst = lst_insere(lst, 7);\n",
    "    \n",
    "    puts(\"Impressão de itens da lista\\n\");\n",
    "    lst_imprime(lst);\n",
    "    puts(\"Lista concluída\\n\");\n",
    "    \n",
    "    printf(\"Programa compilado corretamente\\n\");\n",
    "    return 0;\n",
    "}"
   ]
  },
  {
   "cell_type": "code",
   "execution_count": null,
   "id": "differential-gateway",
   "metadata": {},
   "outputs": [],
   "source": []
  }
 ],
 "metadata": {
  "kernelspec": {
   "display_name": "C",
   "language": "c",
   "name": "c"
  },
  "language_info": {
   "file_extension": ".c",
   "mimetype": "text/plain",
   "name": "c"
  }
 },
 "nbformat": 4,
 "nbformat_minor": 5
}
