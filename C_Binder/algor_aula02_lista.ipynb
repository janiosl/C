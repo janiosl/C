{
 "cells": [
  {
   "cell_type": "markdown",
   "id": "quick-result",
   "metadata": {},
   "source": [
    "# Vetor"
   ]
  },
  {
   "cell_type": "code",
   "execution_count": 1,
   "id": "toxic-garden",
   "metadata": {},
   "outputs": [
    {
     "name": "stdout",
     "output_type": "stream",
     "text": [
      "Elemento 0: 1\n",
      "Elemento 1: 2\n",
      "Elemento 2: 3\n",
      "Elemento 3: 4\n"
     ]
    }
   ],
   "source": [
    "#include <stdio.h>\n",
    "int main() {\n",
    "    int vetor[4] = {1, 2, 3, 4};\n",
    "    int j;\n",
    "    \n",
    "    for (j=0; j<=3; j++)\n",
    "        printf(\"Elemento %i: %i\\n\", j, vetor[j]);\n",
    "        \n",
    "    return 0;\n",
    "}"
   ]
  },
  {
   "cell_type": "markdown",
   "id": "pleased-holocaust",
   "metadata": {},
   "source": [
    "# Lista Encadeada"
   ]
  },
  {
   "cell_type": "markdown",
   "id": "approximate-ladder",
   "metadata": {},
   "source": [
    "## Criação de estrutura personalizada"
   ]
  },
  {
   "cell_type": "markdown",
   "id": "classified-wilson",
   "metadata": {},
   "source": [
    "### Primeira opção\n",
    "Cria a lista encadeada a partir de um tipo de estrutura de dados personalizada usando `struct`, contendo o primeiro campo `info` do tipo inteiro que armazena a informação do item atual da lista e o segundo campo `prox` como um ponteiro sem tipo (void) que apontará para o próximo item da lista."
   ]
  },
  {
   "cell_type": "code",
   "execution_count": 3,
   "id": "after-address",
   "metadata": {},
   "outputs": [
    {
     "name": "stdout",
     "output_type": "stream",
     "text": [
      "Programa compilado corretamente\n"
     ]
    }
   ],
   "source": [
    "#include <stdio.h>\n",
    "\n",
    "/*Cria a estrutura da lista*/\n",
    "struct lista {\n",
    "    int info;\n",
    "    void* prox;\n",
    "};\n",
    "typedef struct lista Lista;\n",
    "\n",
    "int main(){\n",
    "    printf(\"Programa compilado corretamente\\n\");\n",
    "    return 0;\n",
    "}"
   ]
  },
  {
   "cell_type": "markdown",
   "id": "respective-guest",
   "metadata": {},
   "source": [
    "### Segunda opção\n",
    "A estrutura personalizada tem as mesmas características da anterior, exceto pelo campo próximo que usa o próprio tipo personalizado `lista` ao invés de `void`."
   ]
  },
  {
   "cell_type": "code",
   "execution_count": 6,
   "id": "invalid-adapter",
   "metadata": {},
   "outputs": [
    {
     "name": "stdout",
     "output_type": "stream",
     "text": [
      "Programa compilado corretamente\n"
     ]
    }
   ],
   "source": [
    "#include <stdio.h>\n",
    "\n",
    "/*Cria a estrutura da lista*/\n",
    "struct lista {\n",
    "    int info;\n",
    "    struct lista* prox;\n",
    "};\n",
    "typedef struct lista Lista;\n",
    "\n",
    "int main() {\n",
    "    /*Cria uma variável com o tipo personalizado*/\n",
    "    Lista* lst;\n",
    "    printf(\"Programa compilado corretamente\\n\");\n",
    "    return 0;\n",
    "}"
   ]
  },
  {
   "cell_type": "code",
   "execution_count": null,
   "id": "roman-greece",
   "metadata": {},
   "outputs": [],
   "source": []
  }
 ],
 "metadata": {
  "kernelspec": {
   "display_name": "C",
   "language": "c",
   "name": "c"
  },
  "language_info": {
   "file_extension": ".c",
   "mimetype": "text/plain",
   "name": "c"
  }
 },
 "nbformat": 4,
 "nbformat_minor": 5
}
