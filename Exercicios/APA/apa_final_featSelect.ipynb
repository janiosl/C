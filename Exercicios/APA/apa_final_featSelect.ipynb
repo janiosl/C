{
  "nbformat": 4,
  "nbformat_minor": 0,
  "metadata": {
    "colab": {
      "name": "apa_final_featSelect.ipynb",
      "provenance": [],
      "collapsed_sections": [
        "jhGRS3XxbE4x"
      ],
      "toc_visible": true,
      "authorship_tag": "ABX9TyMsVWFNIbCMcLxsIagm0bKM",
      "include_colab_link": true
    },
    "kernelspec": {
      "name": "python3",
      "display_name": "Python 3"
    },
    "language_info": {
      "name": "python"
    }
  },
  "cells": [
    {
      "cell_type": "markdown",
      "metadata": {
        "id": "view-in-github",
        "colab_type": "text"
      },
      "source": [
        "<a href=\"https://colab.research.google.com/github/janiosl/C/blob/master/Exercicios/APA/apa_final_featSelect.ipynb\" target=\"_parent\"><img src=\"https://colab.research.google.com/assets/colab-badge.svg\" alt=\"Open In Colab\"/></a>"
      ]
    },
    {
      "cell_type": "markdown",
      "metadata": {
        "id": "DhF3tb08oxa_"
      },
      "source": [
        "# **CEFET-RJ**\n",
        "\n",
        "**Programa de Pós-Gradução em Ciência da Computação - PPCIC**\n",
        "\n",
        "**Mestrado em Ciência da Computação**\n",
        "\n",
        "**Disciplina: Análise e Projeto de Algoritmos - 2021/2**\n",
        "\n",
        "* **Trabalho Final**\n",
        "* **Prof.: Diego Nunes Brandão**\n",
        "* **Aluno: Cristiane Géa e Janio de Souza Lima**\n",
        "\n",
        "---\n",
        "\n",
        "Uma versão online para facilitar a leitura desse notebook foi disponibilizada em: https://github.com/janiosl/C/blob/master/Exercicios/APA/apa_lista03.ipynb"
      ]
    },
    {
      "cell_type": "markdown",
      "metadata": {
        "id": "E9xm8oihpgn9"
      },
      "source": [
        "## Preparação do ambiente e carga dos dados"
      ]
    },
    {
      "cell_type": "code",
      "metadata": {
        "id": "3VY9HQvsk7YR"
      },
      "source": [
        "from sklearn.tree import DecisionTreeClassifier"
      ],
      "execution_count": 98,
      "outputs": []
    },
    {
      "cell_type": "code",
      "metadata": {
        "id": "cd3B_08WmXME"
      },
      "source": [
        "#Bibliotecas\n",
        "import pandas as pd\n",
        "import numpy as np\n",
        "import seaborn as sns\n",
        "from matplotlib import pyplot as plt"
      ],
      "execution_count": 99,
      "outputs": []
    },
    {
      "cell_type": "code",
      "metadata": {
        "id": "mUxwDhKb_1MH"
      },
      "source": [
        "#SEGUNDA OPÇÃO\n",
        "#Carga do conjunto de dados a partir do GitHub do PythonDS\n",
        "arquivo = 'https://raw.githubusercontent.com/janiosl/python.ds/master/data/mpg.csv'"
      ],
      "execution_count": 100,
      "outputs": []
    },
    {
      "cell_type": "code",
      "metadata": {
        "id": "ohvagetsEFU6"
      },
      "source": [
        "dtree = DecisionTreeClassifier()"
      ],
      "execution_count": 101,
      "outputs": []
    },
    {
      "cell_type": "code",
      "metadata": {
        "colab": {
          "base_uri": "https://localhost:8080/",
          "height": 0
        },
        "id": "rhrUOjcX_3P7",
        "outputId": "b4b85947-373b-4552-c111-f6fd0f93b674"
      },
      "source": [
        "#Carga e visualização das primeiras observações do conjunto de dados\n",
        "carros = pd.read_csv(arquivo)\n",
        "carros.head()"
      ],
      "execution_count": 102,
      "outputs": [
        {
          "output_type": "execute_result",
          "data": {
            "text/html": [
              "<div>\n",
              "<style scoped>\n",
              "    .dataframe tbody tr th:only-of-type {\n",
              "        vertical-align: middle;\n",
              "    }\n",
              "\n",
              "    .dataframe tbody tr th {\n",
              "        vertical-align: top;\n",
              "    }\n",
              "\n",
              "    .dataframe thead th {\n",
              "        text-align: right;\n",
              "    }\n",
              "</style>\n",
              "<table border=\"1\" class=\"dataframe\">\n",
              "  <thead>\n",
              "    <tr style=\"text-align: right;\">\n",
              "      <th></th>\n",
              "      <th>manufacturer</th>\n",
              "      <th>model</th>\n",
              "      <th>displ</th>\n",
              "      <th>year</th>\n",
              "      <th>cyl</th>\n",
              "      <th>trans</th>\n",
              "      <th>drv</th>\n",
              "      <th>cty</th>\n",
              "      <th>hwy</th>\n",
              "      <th>fl</th>\n",
              "      <th>class</th>\n",
              "    </tr>\n",
              "  </thead>\n",
              "  <tbody>\n",
              "    <tr>\n",
              "      <th>0</th>\n",
              "      <td>audi</td>\n",
              "      <td>a4</td>\n",
              "      <td>1.8</td>\n",
              "      <td>1999</td>\n",
              "      <td>4</td>\n",
              "      <td>auto(l5)</td>\n",
              "      <td>f</td>\n",
              "      <td>18</td>\n",
              "      <td>29</td>\n",
              "      <td>p</td>\n",
              "      <td>compact</td>\n",
              "    </tr>\n",
              "    <tr>\n",
              "      <th>1</th>\n",
              "      <td>audi</td>\n",
              "      <td>a4</td>\n",
              "      <td>1.8</td>\n",
              "      <td>1999</td>\n",
              "      <td>4</td>\n",
              "      <td>manual(m5)</td>\n",
              "      <td>f</td>\n",
              "      <td>21</td>\n",
              "      <td>29</td>\n",
              "      <td>p</td>\n",
              "      <td>compact</td>\n",
              "    </tr>\n",
              "    <tr>\n",
              "      <th>2</th>\n",
              "      <td>audi</td>\n",
              "      <td>a4</td>\n",
              "      <td>2.0</td>\n",
              "      <td>2008</td>\n",
              "      <td>4</td>\n",
              "      <td>manual(m6)</td>\n",
              "      <td>f</td>\n",
              "      <td>20</td>\n",
              "      <td>31</td>\n",
              "      <td>p</td>\n",
              "      <td>compact</td>\n",
              "    </tr>\n",
              "    <tr>\n",
              "      <th>3</th>\n",
              "      <td>audi</td>\n",
              "      <td>a4</td>\n",
              "      <td>2.0</td>\n",
              "      <td>2008</td>\n",
              "      <td>4</td>\n",
              "      <td>auto(av)</td>\n",
              "      <td>f</td>\n",
              "      <td>21</td>\n",
              "      <td>30</td>\n",
              "      <td>p</td>\n",
              "      <td>compact</td>\n",
              "    </tr>\n",
              "    <tr>\n",
              "      <th>4</th>\n",
              "      <td>audi</td>\n",
              "      <td>a4</td>\n",
              "      <td>2.8</td>\n",
              "      <td>1999</td>\n",
              "      <td>6</td>\n",
              "      <td>auto(l5)</td>\n",
              "      <td>f</td>\n",
              "      <td>16</td>\n",
              "      <td>26</td>\n",
              "      <td>p</td>\n",
              "      <td>compact</td>\n",
              "    </tr>\n",
              "  </tbody>\n",
              "</table>\n",
              "</div>"
            ],
            "text/plain": [
              "  manufacturer model  displ  year  cyl       trans drv  cty  hwy fl    class\n",
              "0         audi    a4    1.8  1999    4    auto(l5)   f   18   29  p  compact\n",
              "1         audi    a4    1.8  1999    4  manual(m5)   f   21   29  p  compact\n",
              "2         audi    a4    2.0  2008    4  manual(m6)   f   20   31  p  compact\n",
              "3         audi    a4    2.0  2008    4    auto(av)   f   21   30  p  compact\n",
              "4         audi    a4    2.8  1999    6    auto(l5)   f   16   26  p  compact"
            ]
          },
          "metadata": {},
          "execution_count": 102
        }
      ]
    },
    {
      "cell_type": "markdown",
      "metadata": {
        "id": "WgHeqNyOJiDw"
      },
      "source": [
        "## Seção 1: Cálculo da matriz de correlação"
      ]
    },
    {
      "cell_type": "code",
      "metadata": {
        "colab": {
          "base_uri": "https://localhost:8080/",
          "height": 206
        },
        "id": "Ei195yT6_-bp",
        "outputId": "92a19945-7914-457d-bbde-39094457c83c"
      },
      "source": [
        "#Matriz de correlação de todas as características numéricas\n",
        "carros.corr()"
      ],
      "execution_count": 103,
      "outputs": [
        {
          "output_type": "execute_result",
          "data": {
            "text/html": [
              "<div>\n",
              "<style scoped>\n",
              "    .dataframe tbody tr th:only-of-type {\n",
              "        vertical-align: middle;\n",
              "    }\n",
              "\n",
              "    .dataframe tbody tr th {\n",
              "        vertical-align: top;\n",
              "    }\n",
              "\n",
              "    .dataframe thead th {\n",
              "        text-align: right;\n",
              "    }\n",
              "</style>\n",
              "<table border=\"1\" class=\"dataframe\">\n",
              "  <thead>\n",
              "    <tr style=\"text-align: right;\">\n",
              "      <th></th>\n",
              "      <th>displ</th>\n",
              "      <th>year</th>\n",
              "      <th>cyl</th>\n",
              "      <th>cty</th>\n",
              "      <th>hwy</th>\n",
              "    </tr>\n",
              "  </thead>\n",
              "  <tbody>\n",
              "    <tr>\n",
              "      <th>displ</th>\n",
              "      <td>1.000000</td>\n",
              "      <td>0.147843</td>\n",
              "      <td>0.930227</td>\n",
              "      <td>-0.798524</td>\n",
              "      <td>-0.766020</td>\n",
              "    </tr>\n",
              "    <tr>\n",
              "      <th>year</th>\n",
              "      <td>0.147843</td>\n",
              "      <td>1.000000</td>\n",
              "      <td>0.122245</td>\n",
              "      <td>-0.037232</td>\n",
              "      <td>0.002158</td>\n",
              "    </tr>\n",
              "    <tr>\n",
              "      <th>cyl</th>\n",
              "      <td>0.930227</td>\n",
              "      <td>0.122245</td>\n",
              "      <td>1.000000</td>\n",
              "      <td>-0.805771</td>\n",
              "      <td>-0.761912</td>\n",
              "    </tr>\n",
              "    <tr>\n",
              "      <th>cty</th>\n",
              "      <td>-0.798524</td>\n",
              "      <td>-0.037232</td>\n",
              "      <td>-0.805771</td>\n",
              "      <td>1.000000</td>\n",
              "      <td>0.955916</td>\n",
              "    </tr>\n",
              "    <tr>\n",
              "      <th>hwy</th>\n",
              "      <td>-0.766020</td>\n",
              "      <td>0.002158</td>\n",
              "      <td>-0.761912</td>\n",
              "      <td>0.955916</td>\n",
              "      <td>1.000000</td>\n",
              "    </tr>\n",
              "  </tbody>\n",
              "</table>\n",
              "</div>"
            ],
            "text/plain": [
              "          displ      year       cyl       cty       hwy\n",
              "displ  1.000000  0.147843  0.930227 -0.798524 -0.766020\n",
              "year   0.147843  1.000000  0.122245 -0.037232  0.002158\n",
              "cyl    0.930227  0.122245  1.000000 -0.805771 -0.761912\n",
              "cty   -0.798524 -0.037232 -0.805771  1.000000  0.955916\n",
              "hwy   -0.766020  0.002158 -0.761912  0.955916  1.000000"
            ]
          },
          "metadata": {},
          "execution_count": 103
        }
      ]
    },
    {
      "cell_type": "code",
      "metadata": {
        "id": "ZOncDIqTA0PB"
      },
      "source": [
        "Y = carros.hwy\n",
        "X = carros.displ"
      ],
      "execution_count": 104,
      "outputs": []
    },
    {
      "cell_type": "code",
      "metadata": {
        "id": "hnp0M2LvHcw2"
      },
      "source": [
        "X = np.array(carros.displ)"
      ],
      "execution_count": 105,
      "outputs": []
    },
    {
      "cell_type": "code",
      "metadata": {
        "id": "ZagNyYQPHlvM"
      },
      "source": [
        "Y = np.array(carros.hwy)"
      ],
      "execution_count": 106,
      "outputs": []
    },
    {
      "cell_type": "code",
      "metadata": {
        "id": "FBPUtrIVYF84"
      },
      "source": [
        "def raiz(numero):\n",
        "  \"\"\"\n",
        "  Função calcula a raiz quadrada de um número\n",
        "  \"\"\"\n",
        "  prec = 0.001\n",
        "  b = numero;\n",
        "  a = 1\n",
        "\n",
        "  while (b-a) >= prec:\n",
        "    b = (a+b)/2\n",
        "    a = numero/b\n",
        "\n",
        "  return b"
      ],
      "execution_count": 107,
      "outputs": []
    },
    {
      "cell_type": "code",
      "metadata": {
        "id": "d-My-5JYAvTA"
      },
      "source": [
        "def correlacao(X, Y):\n",
        "  \"\"\"\n",
        "  Função calcula o coeficiente de correlação de Pearson entre duas variáveis\n",
        "  X, Y: Variáveis a serem analisadas\n",
        "  \"\"\"\n",
        "  n = X.shape[0]\n",
        "  rXY = ((sum(X*Y))-(((sum(X))*(sum(Y)))/(n))) / (raiz(((sum(X ** 2))-((sum(X)**2)/n))*((sum(Y ** 2))-((sum(Y) ** 2)/n))))\n",
        "  return rXY"
      ],
      "execution_count": 108,
      "outputs": []
    },
    {
      "cell_type": "code",
      "metadata": {
        "colab": {
          "base_uri": "https://localhost:8080/"
        },
        "id": "jN8FlOnzBoVB",
        "outputId": "ac303708-26e6-4dd3-951a-6bcd42ba96d4"
      },
      "source": [
        "correlacao(X, Y)"
      ],
      "execution_count": 109,
      "outputs": [
        {
          "output_type": "execute_result",
          "data": {
            "text/plain": [
              "-0.766020003261723"
            ]
          },
          "metadata": {},
          "execution_count": 109
        }
      ]
    },
    {
      "cell_type": "code",
      "metadata": {
        "id": "O7qm132YCjUn"
      },
      "source": [
        "def matrizCorr(dados):\n",
        "  \"\"\"\n",
        "  Função calcula a matriz de correlação de um conjunto de dados\n",
        "  OBS.: Deve ser passado um data frame apenas com colunas numéricas\n",
        "  \"\"\"\n",
        "  mc = []\n",
        "  m = dados.shape[1] #Quantidade de colunas\n",
        "  n = dados.shape[0]\n",
        "\n",
        "  for k in range(0, m):\n",
        "    X = np.array(dados.iloc[:, [k]], ndmin=1)\n",
        "    for i in range(0, m):\n",
        "      Y = np.array(dados.iloc[:, [i]], ndmin=1)\n",
        "      cr = correlacao(X,Y)\n",
        "      mc.append(cr)\n",
        "\n",
        "  mc = np.array(mc).reshape(m,m)\n",
        "  #print(mc)\n",
        "  return mc"
      ],
      "execution_count": 110,
      "outputs": []
    },
    {
      "cell_type": "code",
      "metadata": {
        "id": "zP8IKPIUmtpJ"
      },
      "source": [
        "def matrizCorr_(dados):\n",
        "  \"\"\"\n",
        "  Função cálcula matriz de correlação de um conjunto de dados\n",
        "  Esta versão da função usa métodos embutidos para agilizar\n",
        "  o tratamento de conjuntos de dados grandes\n",
        "  \"\"\"\n",
        "  mc = []\n",
        "  m = dados.shape[1]\n",
        "  col = list(dados.columns)\n",
        "  for k in range(0, m):\n",
        "    for i in range(0, m):\n",
        "      #dados['hwy'].corr(dados['displ'])\n",
        "      cr = dados[col[k]].corr(dados[col[i]])\n",
        "      mc.append(cr)\n",
        "  \n",
        "  mc = np.array(mc).reshape(m,m)\n",
        "  return mc"
      ],
      "execution_count": 111,
      "outputs": []
    },
    {
      "cell_type": "code",
      "metadata": {
        "id": "VIyhIisbFN3w"
      },
      "source": [
        "dados = carros.iloc[:, [2,4,7,8]]"
      ],
      "execution_count": 112,
      "outputs": []
    },
    {
      "cell_type": "code",
      "metadata": {
        "colab": {
          "base_uri": "https://localhost:8080/",
          "height": 206
        },
        "id": "Vl8TneP2FfD1",
        "outputId": "7e4321cb-f06d-44c3-c205-460371726750"
      },
      "source": [
        "dados.head()"
      ],
      "execution_count": 113,
      "outputs": [
        {
          "output_type": "execute_result",
          "data": {
            "text/html": [
              "<div>\n",
              "<style scoped>\n",
              "    .dataframe tbody tr th:only-of-type {\n",
              "        vertical-align: middle;\n",
              "    }\n",
              "\n",
              "    .dataframe tbody tr th {\n",
              "        vertical-align: top;\n",
              "    }\n",
              "\n",
              "    .dataframe thead th {\n",
              "        text-align: right;\n",
              "    }\n",
              "</style>\n",
              "<table border=\"1\" class=\"dataframe\">\n",
              "  <thead>\n",
              "    <tr style=\"text-align: right;\">\n",
              "      <th></th>\n",
              "      <th>displ</th>\n",
              "      <th>cyl</th>\n",
              "      <th>cty</th>\n",
              "      <th>hwy</th>\n",
              "    </tr>\n",
              "  </thead>\n",
              "  <tbody>\n",
              "    <tr>\n",
              "      <th>0</th>\n",
              "      <td>1.8</td>\n",
              "      <td>4</td>\n",
              "      <td>18</td>\n",
              "      <td>29</td>\n",
              "    </tr>\n",
              "    <tr>\n",
              "      <th>1</th>\n",
              "      <td>1.8</td>\n",
              "      <td>4</td>\n",
              "      <td>21</td>\n",
              "      <td>29</td>\n",
              "    </tr>\n",
              "    <tr>\n",
              "      <th>2</th>\n",
              "      <td>2.0</td>\n",
              "      <td>4</td>\n",
              "      <td>20</td>\n",
              "      <td>31</td>\n",
              "    </tr>\n",
              "    <tr>\n",
              "      <th>3</th>\n",
              "      <td>2.0</td>\n",
              "      <td>4</td>\n",
              "      <td>21</td>\n",
              "      <td>30</td>\n",
              "    </tr>\n",
              "    <tr>\n",
              "      <th>4</th>\n",
              "      <td>2.8</td>\n",
              "      <td>6</td>\n",
              "      <td>16</td>\n",
              "      <td>26</td>\n",
              "    </tr>\n",
              "  </tbody>\n",
              "</table>\n",
              "</div>"
            ],
            "text/plain": [
              "   displ  cyl  cty  hwy\n",
              "0    1.8    4   18   29\n",
              "1    1.8    4   21   29\n",
              "2    2.0    4   20   31\n",
              "3    2.0    4   21   30\n",
              "4    2.8    6   16   26"
            ]
          },
          "metadata": {},
          "execution_count": 113
        }
      ]
    },
    {
      "cell_type": "code",
      "metadata": {
        "id": "BDdTiihVF5y6"
      },
      "source": [
        "X = np.array(dados.iloc[:, [3]])\n",
        "Y = np.array(dados.iloc[:, [0]])"
      ],
      "execution_count": 114,
      "outputs": []
    },
    {
      "cell_type": "code",
      "metadata": {
        "colab": {
          "base_uri": "https://localhost:8080/"
        },
        "id": "HVPQ4kXgEHTb",
        "outputId": "495d9b16-e54d-469f-8693-4f5d6ffdb696"
      },
      "source": [
        "correlacao(X, Y)"
      ],
      "execution_count": 115,
      "outputs": [
        {
          "output_type": "execute_result",
          "data": {
            "text/plain": [
              "array([-0.76602])"
            ]
          },
          "metadata": {},
          "execution_count": 115
        }
      ]
    },
    {
      "cell_type": "code",
      "metadata": {
        "id": "yNi49YICGVyI"
      },
      "source": [
        "m = matrizCorr(dados)"
      ],
      "execution_count": 116,
      "outputs": []
    },
    {
      "cell_type": "code",
      "metadata": {
        "colab": {
          "base_uri": "https://localhost:8080/"
        },
        "id": "wRFA40XtL2TS",
        "outputId": "f6247e84-63bd-49a2-cf3c-e3bd80e7a556"
      },
      "source": [
        "m"
      ],
      "execution_count": 117,
      "outputs": [
        {
          "output_type": "execute_result",
          "data": {
            "text/plain": [
              "array([[ 1.        ,  0.93022702, -0.79852397, -0.76602   ],\n",
              "       [ 0.93022702,  1.        , -0.80577141, -0.76191235],\n",
              "       [-0.79852397, -0.80577141,  1.        ,  0.95591591],\n",
              "       [-0.76602   , -0.76191235,  0.95591591,  1.        ]])"
            ]
          },
          "metadata": {},
          "execution_count": 117
        }
      ]
    },
    {
      "cell_type": "code",
      "metadata": {
        "colab": {
          "base_uri": "https://localhost:8080/",
          "height": 175
        },
        "id": "Zwai2dtyKQ0N",
        "outputId": "4b8d598b-a6d2-44d5-f867-150ce7b39114"
      },
      "source": [
        "#Conferência com a função pronta do pandas\n",
        "dados.corr()"
      ],
      "execution_count": 118,
      "outputs": [
        {
          "output_type": "execute_result",
          "data": {
            "text/html": [
              "<div>\n",
              "<style scoped>\n",
              "    .dataframe tbody tr th:only-of-type {\n",
              "        vertical-align: middle;\n",
              "    }\n",
              "\n",
              "    .dataframe tbody tr th {\n",
              "        vertical-align: top;\n",
              "    }\n",
              "\n",
              "    .dataframe thead th {\n",
              "        text-align: right;\n",
              "    }\n",
              "</style>\n",
              "<table border=\"1\" class=\"dataframe\">\n",
              "  <thead>\n",
              "    <tr style=\"text-align: right;\">\n",
              "      <th></th>\n",
              "      <th>displ</th>\n",
              "      <th>cyl</th>\n",
              "      <th>cty</th>\n",
              "      <th>hwy</th>\n",
              "    </tr>\n",
              "  </thead>\n",
              "  <tbody>\n",
              "    <tr>\n",
              "      <th>displ</th>\n",
              "      <td>1.000000</td>\n",
              "      <td>0.930227</td>\n",
              "      <td>-0.798524</td>\n",
              "      <td>-0.766020</td>\n",
              "    </tr>\n",
              "    <tr>\n",
              "      <th>cyl</th>\n",
              "      <td>0.930227</td>\n",
              "      <td>1.000000</td>\n",
              "      <td>-0.805771</td>\n",
              "      <td>-0.761912</td>\n",
              "    </tr>\n",
              "    <tr>\n",
              "      <th>cty</th>\n",
              "      <td>-0.798524</td>\n",
              "      <td>-0.805771</td>\n",
              "      <td>1.000000</td>\n",
              "      <td>0.955916</td>\n",
              "    </tr>\n",
              "    <tr>\n",
              "      <th>hwy</th>\n",
              "      <td>-0.766020</td>\n",
              "      <td>-0.761912</td>\n",
              "      <td>0.955916</td>\n",
              "      <td>1.000000</td>\n",
              "    </tr>\n",
              "  </tbody>\n",
              "</table>\n",
              "</div>"
            ],
            "text/plain": [
              "          displ       cyl       cty       hwy\n",
              "displ  1.000000  0.930227 -0.798524 -0.766020\n",
              "cyl    0.930227  1.000000 -0.805771 -0.761912\n",
              "cty   -0.798524 -0.805771  1.000000  0.955916\n",
              "hwy   -0.766020 -0.761912  0.955916  1.000000"
            ]
          },
          "metadata": {},
          "execution_count": 118
        }
      ]
    },
    {
      "cell_type": "code",
      "metadata": {
        "colab": {
          "base_uri": "https://localhost:8080/"
        },
        "id": "5otXH2AFnjVO",
        "outputId": "657e68d8-cc96-44c2-c45e-e0e8d0c10336"
      },
      "source": [
        "m2 = matrizCorr_(dados)\n",
        "m2"
      ],
      "execution_count": 119,
      "outputs": [
        {
          "output_type": "execute_result",
          "data": {
            "text/plain": [
              "array([[ 1.        ,  0.9302271 , -0.79852397, -0.76602002],\n",
              "       [ 0.9302271 ,  1.        , -0.80577141, -0.76191235],\n",
              "       [-0.79852397, -0.80577141,  1.        ,  0.95591591],\n",
              "       [-0.76602002, -0.76191235,  0.95591591,  1.        ]])"
            ]
          },
          "metadata": {},
          "execution_count": 119
        }
      ]
    },
    {
      "cell_type": "code",
      "metadata": {
        "colab": {
          "base_uri": "https://localhost:8080/"
        },
        "id": "UXWJD7oEoLuk",
        "outputId": "f45bca9d-f33e-4f17-ad5a-033c250c5876"
      },
      "source": [
        "dados['hwy'].corr(dados['displ'])"
      ],
      "execution_count": 120,
      "outputs": [
        {
          "output_type": "execute_result",
          "data": {
            "text/plain": [
              "-0.7660200208864681"
            ]
          },
          "metadata": {},
          "execution_count": 120
        }
      ]
    },
    {
      "cell_type": "code",
      "metadata": {
        "colab": {
          "base_uri": "https://localhost:8080/"
        },
        "id": "EvqnTvFqPiL2",
        "outputId": "1868c59c-784f-4061-982c-ac55eaf0e8db"
      },
      "source": [
        "m.shape"
      ],
      "execution_count": 121,
      "outputs": [
        {
          "output_type": "execute_result",
          "data": {
            "text/plain": [
              "(4, 4)"
            ]
          },
          "metadata": {},
          "execution_count": 121
        }
      ]
    },
    {
      "cell_type": "code",
      "metadata": {
        "colab": {
          "base_uri": "https://localhost:8080/"
        },
        "id": "U3x9GReFyrVG",
        "outputId": "0db15cf9-a7cd-4522-990e-688cf05320c9"
      },
      "source": [
        "m2"
      ],
      "execution_count": 122,
      "outputs": [
        {
          "output_type": "execute_result",
          "data": {
            "text/plain": [
              "array([[ 1.        ,  0.9302271 , -0.79852397, -0.76602002],\n",
              "       [ 0.9302271 ,  1.        , -0.80577141, -0.76191235],\n",
              "       [-0.79852397, -0.80577141,  1.        ,  0.95591591],\n",
              "       [-0.76602002, -0.76191235,  0.95591591,  1.        ]])"
            ]
          },
          "metadata": {},
          "execution_count": 122
        }
      ]
    },
    {
      "cell_type": "markdown",
      "metadata": {
        "id": "1v6YM2bdJXAC"
      },
      "source": [
        "## Seção 2: **Algoritmo de seleção de atributos baseado na correlação entre variáveis**"
      ]
    },
    {
      "cell_type": "markdown",
      "metadata": {
        "id": "vPqVST7QbW3-"
      },
      "source": [
        "**Dados**: Conjunto de dados com variáveis numéricas\n",
        "\n",
        "**Alvo**: definir a variável alvo da análise\n",
        "\n",
        "**Atributos**: demais variáveis (exceto alvo)\n",
        "\n",
        "**Fronteira**: valor entre 0 e 1 definido com o limite de correlação para considerar elevado e eliminar o atributo\n",
        "\n",
        "**Critério de eliminação**: critério para eliminar um dos atributos em um par que tenha correção igual ou maior que a fronteira definida\n",
        "\n",
        "\n",
        "Etapas:\n",
        "* Calcular matriz de correlação entre os atributos\n",
        "* Comparar pares de atributos\n",
        "* Para cada par de atributos, identificar e desconsiderar a correlação de um atributo com ele mesmo (correlações = 1)\n",
        "* Para cada par de atributo restante buscar correlações >= fronteira\n",
        "* Aplicar critério de eliminação do atributo\n",
        "* Retornar atributos (sem duplicação) que foram mantidos após a aplicação das regras\n"
      ]
    },
    {
      "cell_type": "code",
      "metadata": {
        "id": "A3Uv_cfqy2Qc"
      },
      "source": [
        "def matrizCorr_Select(dados, fronteira):\n",
        "  \"\"\"\n",
        "  Função cálcula matriz de correlação de um conjunto de dados\n",
        "  Esta versão da função usa métodos embutidos para agilizar\n",
        "  o tratamento de conjuntos de dados grandes\n",
        "  \"\"\"\n",
        "  mc = []\n",
        "  fs = []\n",
        "  m = dados.shape[1]\n",
        "  col = list(dados.columns)\n",
        "  for k in range(0, m):\n",
        "    for i in range(0, m):\n",
        "      cr = dados[col[k]].corr(dados[col[i]])\n",
        "      mc.append(cr)\n",
        "      if abs(cr) < fronteira:\n",
        "        fs.append(tuple([k,i,cr]))\n",
        "  \n",
        "  mc = np.array(mc).reshape(m,m)\n",
        "  return mc, fs\n",
        "\n",
        "\n",
        "def selectCand(candidatos):\n",
        "  \"\"\"\n",
        "  Seleciona candidatos únicos a partir dos dados\n",
        "  da função matrizCorr_Select, tendo em vista que\n",
        "  aquela função seleciona pares de atributros cuja\n",
        "  correlação atende ao limite definido\n",
        "  \"\"\"\n",
        "  c = []\n",
        "  for k in range(0, len(candidatos)):\n",
        "    c.append(candidatos[k][0])\n",
        "    c.append(candidatos[k][1])\n",
        "\n",
        "  features = set(c)\n",
        "  return features"
      ],
      "execution_count": 123,
      "outputs": []
    },
    {
      "cell_type": "code",
      "metadata": {
        "id": "I_ExMipbzW-Y"
      },
      "source": [
        "L = 0.8\n",
        "sel_mc, sel_ft = matrizCorr_Select(dados, L)"
      ],
      "execution_count": 124,
      "outputs": []
    },
    {
      "cell_type": "code",
      "metadata": {
        "colab": {
          "base_uri": "https://localhost:8080/"
        },
        "id": "XCS3271LzpEI",
        "outputId": "893d3dcf-6118-472a-bf83-0ae0ffcb67d8"
      },
      "source": [
        "sel_mc"
      ],
      "execution_count": 125,
      "outputs": [
        {
          "output_type": "execute_result",
          "data": {
            "text/plain": [
              "array([[ 1.        ,  0.9302271 , -0.79852397, -0.76602002],\n",
              "       [ 0.9302271 ,  1.        , -0.80577141, -0.76191235],\n",
              "       [-0.79852397, -0.80577141,  1.        ,  0.95591591],\n",
              "       [-0.76602002, -0.76191235,  0.95591591,  1.        ]])"
            ]
          },
          "metadata": {},
          "execution_count": 125
        }
      ]
    },
    {
      "cell_type": "code",
      "metadata": {
        "colab": {
          "base_uri": "https://localhost:8080/"
        },
        "id": "S5cJjwH90cbr",
        "outputId": "6c3f1d4f-b9c4-48a9-8b42-7eeaba7d60f7"
      },
      "source": [
        "sel_ft"
      ],
      "execution_count": 126,
      "outputs": [
        {
          "output_type": "execute_result",
          "data": {
            "text/plain": [
              "[(0, 2, -0.7985239689348552),\n",
              " (0, 3, -0.7660200208864681),\n",
              " (1, 3, -0.7619123538971945),\n",
              " (2, 0, -0.7985239689348552),\n",
              " (3, 0, -0.7660200208864681),\n",
              " (3, 1, -0.7619123538971944)]"
            ]
          },
          "metadata": {},
          "execution_count": 126
        }
      ]
    },
    {
      "cell_type": "code",
      "metadata": {
        "colab": {
          "base_uri": "https://localhost:8080/"
        },
        "id": "1VESR55J6T5F",
        "outputId": "bd275e78-a6a2-46ff-f80e-f07b9b17363f"
      },
      "source": [
        "selectCand(sel_ft)"
      ],
      "execution_count": 127,
      "outputs": [
        {
          "output_type": "execute_result",
          "data": {
            "text/plain": [
              "{0, 1, 2, 3}"
            ]
          },
          "metadata": {},
          "execution_count": 127
        }
      ]
    },
    {
      "cell_type": "code",
      "metadata": {
        "colab": {
          "base_uri": "https://localhost:8080/"
        },
        "id": "CHXibLn3feTZ",
        "outputId": "61ae0a1a-16f3-4edb-acd1-a37acb5b24f6"
      },
      "source": [
        "sel_ft"
      ],
      "execution_count": 170,
      "outputs": [
        {
          "output_type": "execute_result",
          "data": {
            "text/plain": [
              "[(0, 2, -0.7985239689348552),\n",
              " (0, 3, -0.7660200208864681),\n",
              " (1, 3, -0.7619123538971945),\n",
              " (2, 0, -0.7985239689348552),\n",
              " (3, 0, -0.7660200208864681),\n",
              " (3, 1, -0.7619123538971944)]"
            ]
          },
          "metadata": {},
          "execution_count": 170
        }
      ]
    },
    {
      "cell_type": "code",
      "metadata": {
        "colab": {
          "base_uri": "https://localhost:8080/"
        },
        "id": "M8a6jvXpff7K",
        "outputId": "a72e85a5-f3b1-423c-ec68-9597e47e3f13"
      },
      "source": [
        "min(sel_ft)"
      ],
      "execution_count": 171,
      "outputs": [
        {
          "output_type": "execute_result",
          "data": {
            "text/plain": [
              "(0, 2, -0.7985239689348552)"
            ]
          },
          "metadata": {},
          "execution_count": 171
        }
      ]
    },
    {
      "cell_type": "markdown",
      "metadata": {
        "id": "esRy6iaDEUBS"
      },
      "source": [
        "## Seção 3: Algoritmo de força bruta para comparação de combinações de atributos"
      ]
    },
    {
      "cell_type": "markdown",
      "metadata": {
        "id": "EgvL5q9z_WOn"
      },
      "source": [
        "Não foi implementado o algoritmo para execução automática desta abordagem de seleção dos atributos através de força bruta, mas apresentamos a seguir um exemplo simplificado executado os passos de maneira manual a partir da combinação de atributos de um subconjunto de dados que foi usado nas seções anteriores."
      ]
    },
    {
      "cell_type": "code",
      "metadata": {
        "id": "NG2MXa54F7qs"
      },
      "source": [
        "from sklearn.metrics import accuracy_score"
      ],
      "execution_count": 128,
      "outputs": []
    },
    {
      "cell_type": "code",
      "metadata": {
        "id": "Pj8YUHt8E_ky"
      },
      "source": [
        "from sklearn.model_selection import train_test_split"
      ],
      "execution_count": 129,
      "outputs": []
    },
    {
      "cell_type": "code",
      "metadata": {
        "id": "PHYieWKwEnPk"
      },
      "source": [
        "y = dados.hwy"
      ],
      "execution_count": 130,
      "outputs": []
    },
    {
      "cell_type": "code",
      "metadata": {
        "id": "GYMpAAs5EvTL"
      },
      "source": [
        "X1 = dados.iloc[:, [0, 1]]\n",
        "X2 = dados.iloc[:, [0]]\n",
        "X3 = dados.iloc[:, [1]]"
      ],
      "execution_count": 131,
      "outputs": []
    },
    {
      "cell_type": "code",
      "metadata": {
        "id": "IXf18cq9IOll"
      },
      "source": [
        "def featSelectEvaluate(X, y):\n",
        "  #Divisão dos valores em treino e teste\n",
        "  #OBSERVAÇÃO: random_state está sendo usado para reprodutibilidade dos resultados\n",
        "  X_train, X_test, y_train, y_test = train_test_split(X, y, \n",
        "                                                    test_size=0.2, \n",
        "                                                    random_state=42)\n",
        "  \n",
        "  dtree.fit(X_train, y_train)\n",
        "\n",
        "  y_pred = dtree.predict(X_test)\n",
        "\n",
        "  acc = accuracy_score(y_test, y_pred)\n",
        "\n",
        "  return acc"
      ],
      "execution_count": 132,
      "outputs": []
    },
    {
      "cell_type": "code",
      "metadata": {
        "colab": {
          "base_uri": "https://localhost:8080/"
        },
        "id": "uE4zSERXIvgZ",
        "outputId": "0978098c-7dd8-423e-ae17-5bf2d3480e23"
      },
      "source": [
        "acc1 = featSelectEvaluate(X1, y)\n",
        "acc1"
      ],
      "execution_count": 133,
      "outputs": [
        {
          "output_type": "execute_result",
          "data": {
            "text/plain": [
              "0.2127659574468085"
            ]
          },
          "metadata": {},
          "execution_count": 133
        }
      ]
    },
    {
      "cell_type": "code",
      "metadata": {
        "colab": {
          "base_uri": "https://localhost:8080/"
        },
        "id": "gKSh0U07I1A-",
        "outputId": "06d2f333-b57e-4f71-c74b-fa596889f9e4"
      },
      "source": [
        "acc2 = featSelectEvaluate(X2, y)\n",
        "acc2"
      ],
      "execution_count": 134,
      "outputs": [
        {
          "output_type": "execute_result",
          "data": {
            "text/plain": [
              "0.19148936170212766"
            ]
          },
          "metadata": {},
          "execution_count": 134
        }
      ]
    },
    {
      "cell_type": "code",
      "metadata": {
        "colab": {
          "base_uri": "https://localhost:8080/"
        },
        "id": "lZY77rVOI4MJ",
        "outputId": "613d4aa4-15b6-4a0a-e406-909a4991ceaa"
      },
      "source": [
        "acc3 = featSelectEvaluate(X3, y)\n",
        "acc3"
      ],
      "execution_count": 135,
      "outputs": [
        {
          "output_type": "execute_result",
          "data": {
            "text/plain": [
              "0.23404255319148937"
            ]
          },
          "metadata": {},
          "execution_count": 135
        }
      ]
    },
    {
      "cell_type": "code",
      "metadata": {
        "colab": {
          "base_uri": "https://localhost:8080/"
        },
        "id": "_5u2Mc6pI-Lq",
        "outputId": "bb0490aa-c366-4d62-f6a6-25d4494c4160"
      },
      "source": [
        "#Nesta abordagem seria selecionada a abordagem com o maior valor da métrica\n",
        "max(acc1, acc2, acc3)"
      ],
      "execution_count": 136,
      "outputs": [
        {
          "output_type": "execute_result",
          "data": {
            "text/plain": [
              "0.23404255319148937"
            ]
          },
          "metadata": {},
          "execution_count": 136
        }
      ]
    },
    {
      "cell_type": "code",
      "metadata": {
        "colab": {
          "base_uri": "https://localhost:8080/"
        },
        "id": "gIvONvJnG5cI",
        "outputId": "0006258b-ea32-4ff6-fe61-b403dbb4a4e7"
      },
      "source": [
        "print(acc1, acc2, acc3)"
      ],
      "execution_count": 137,
      "outputs": [
        {
          "output_type": "stream",
          "name": "stdout",
          "text": [
            "0.2127659574468085 0.19148936170212766 0.23404255319148937\n"
          ]
        }
      ]
    },
    {
      "cell_type": "markdown",
      "metadata": {
        "id": "73BPku7h_71G"
      },
      "source": [
        "Conforme apresentado acima, nesta abordagem seria selecionada a opção $X3$ que equivaleria ao uso apenas do atributo identificado pelo índice 1 no subconjunto de dados analisado."
      ]
    },
    {
      "cell_type": "markdown",
      "metadata": {
        "id": "wefV1BCfANRZ"
      },
      "source": [
        "###MAPEAMENTO DE FEATURES. Analisar se será mantido"
      ]
    },
    {
      "cell_type": "code",
      "metadata": {
        "colab": {
          "base_uri": "https://localhost:8080/",
          "height": 206
        },
        "id": "uGtduvvhQnxf",
        "outputId": "03b0a662-1de0-4af8-be17-57040219d64e"
      },
      "source": [
        "carros.head()"
      ],
      "execution_count": 138,
      "outputs": [
        {
          "output_type": "execute_result",
          "data": {
            "text/html": [
              "<div>\n",
              "<style scoped>\n",
              "    .dataframe tbody tr th:only-of-type {\n",
              "        vertical-align: middle;\n",
              "    }\n",
              "\n",
              "    .dataframe tbody tr th {\n",
              "        vertical-align: top;\n",
              "    }\n",
              "\n",
              "    .dataframe thead th {\n",
              "        text-align: right;\n",
              "    }\n",
              "</style>\n",
              "<table border=\"1\" class=\"dataframe\">\n",
              "  <thead>\n",
              "    <tr style=\"text-align: right;\">\n",
              "      <th></th>\n",
              "      <th>manufacturer</th>\n",
              "      <th>model</th>\n",
              "      <th>displ</th>\n",
              "      <th>year</th>\n",
              "      <th>cyl</th>\n",
              "      <th>trans</th>\n",
              "      <th>drv</th>\n",
              "      <th>cty</th>\n",
              "      <th>hwy</th>\n",
              "      <th>fl</th>\n",
              "      <th>class</th>\n",
              "    </tr>\n",
              "  </thead>\n",
              "  <tbody>\n",
              "    <tr>\n",
              "      <th>0</th>\n",
              "      <td>audi</td>\n",
              "      <td>a4</td>\n",
              "      <td>1.8</td>\n",
              "      <td>1999</td>\n",
              "      <td>4</td>\n",
              "      <td>auto(l5)</td>\n",
              "      <td>f</td>\n",
              "      <td>18</td>\n",
              "      <td>29</td>\n",
              "      <td>p</td>\n",
              "      <td>compact</td>\n",
              "    </tr>\n",
              "    <tr>\n",
              "      <th>1</th>\n",
              "      <td>audi</td>\n",
              "      <td>a4</td>\n",
              "      <td>1.8</td>\n",
              "      <td>1999</td>\n",
              "      <td>4</td>\n",
              "      <td>manual(m5)</td>\n",
              "      <td>f</td>\n",
              "      <td>21</td>\n",
              "      <td>29</td>\n",
              "      <td>p</td>\n",
              "      <td>compact</td>\n",
              "    </tr>\n",
              "    <tr>\n",
              "      <th>2</th>\n",
              "      <td>audi</td>\n",
              "      <td>a4</td>\n",
              "      <td>2.0</td>\n",
              "      <td>2008</td>\n",
              "      <td>4</td>\n",
              "      <td>manual(m6)</td>\n",
              "      <td>f</td>\n",
              "      <td>20</td>\n",
              "      <td>31</td>\n",
              "      <td>p</td>\n",
              "      <td>compact</td>\n",
              "    </tr>\n",
              "    <tr>\n",
              "      <th>3</th>\n",
              "      <td>audi</td>\n",
              "      <td>a4</td>\n",
              "      <td>2.0</td>\n",
              "      <td>2008</td>\n",
              "      <td>4</td>\n",
              "      <td>auto(av)</td>\n",
              "      <td>f</td>\n",
              "      <td>21</td>\n",
              "      <td>30</td>\n",
              "      <td>p</td>\n",
              "      <td>compact</td>\n",
              "    </tr>\n",
              "    <tr>\n",
              "      <th>4</th>\n",
              "      <td>audi</td>\n",
              "      <td>a4</td>\n",
              "      <td>2.8</td>\n",
              "      <td>1999</td>\n",
              "      <td>6</td>\n",
              "      <td>auto(l5)</td>\n",
              "      <td>f</td>\n",
              "      <td>16</td>\n",
              "      <td>26</td>\n",
              "      <td>p</td>\n",
              "      <td>compact</td>\n",
              "    </tr>\n",
              "  </tbody>\n",
              "</table>\n",
              "</div>"
            ],
            "text/plain": [
              "  manufacturer model  displ  year  cyl       trans drv  cty  hwy fl    class\n",
              "0         audi    a4    1.8  1999    4    auto(l5)   f   18   29  p  compact\n",
              "1         audi    a4    1.8  1999    4  manual(m5)   f   21   29  p  compact\n",
              "2         audi    a4    2.0  2008    4  manual(m6)   f   20   31  p  compact\n",
              "3         audi    a4    2.0  2008    4    auto(av)   f   21   30  p  compact\n",
              "4         audi    a4    2.8  1999    6    auto(l5)   f   16   26  p  compact"
            ]
          },
          "metadata": {},
          "execution_count": 138
        }
      ]
    },
    {
      "cell_type": "code",
      "metadata": {
        "id": "-wkvJa2DQAcY"
      },
      "source": [
        "carros2 = pd.get_dummies(data=carros,\n",
        "               prefix=['class', 'fl'],\n",
        "               columns=['class', 'fl'])"
      ],
      "execution_count": 139,
      "outputs": []
    },
    {
      "cell_type": "code",
      "metadata": {
        "colab": {
          "base_uri": "https://localhost:8080/",
          "height": 226
        },
        "id": "zYhdZvv6SE5n",
        "outputId": "0a59a798-127e-4af7-9ada-a0e3295a606d"
      },
      "source": [
        "carros2.head()"
      ],
      "execution_count": 140,
      "outputs": [
        {
          "output_type": "execute_result",
          "data": {
            "text/html": [
              "<div>\n",
              "<style scoped>\n",
              "    .dataframe tbody tr th:only-of-type {\n",
              "        vertical-align: middle;\n",
              "    }\n",
              "\n",
              "    .dataframe tbody tr th {\n",
              "        vertical-align: top;\n",
              "    }\n",
              "\n",
              "    .dataframe thead th {\n",
              "        text-align: right;\n",
              "    }\n",
              "</style>\n",
              "<table border=\"1\" class=\"dataframe\">\n",
              "  <thead>\n",
              "    <tr style=\"text-align: right;\">\n",
              "      <th></th>\n",
              "      <th>manufacturer</th>\n",
              "      <th>model</th>\n",
              "      <th>displ</th>\n",
              "      <th>year</th>\n",
              "      <th>cyl</th>\n",
              "      <th>trans</th>\n",
              "      <th>drv</th>\n",
              "      <th>cty</th>\n",
              "      <th>hwy</th>\n",
              "      <th>class_2seater</th>\n",
              "      <th>class_compact</th>\n",
              "      <th>class_midsize</th>\n",
              "      <th>class_minivan</th>\n",
              "      <th>class_pickup</th>\n",
              "      <th>class_subcompact</th>\n",
              "      <th>class_suv</th>\n",
              "      <th>fl_c</th>\n",
              "      <th>fl_d</th>\n",
              "      <th>fl_e</th>\n",
              "      <th>fl_p</th>\n",
              "      <th>fl_r</th>\n",
              "    </tr>\n",
              "  </thead>\n",
              "  <tbody>\n",
              "    <tr>\n",
              "      <th>0</th>\n",
              "      <td>audi</td>\n",
              "      <td>a4</td>\n",
              "      <td>1.8</td>\n",
              "      <td>1999</td>\n",
              "      <td>4</td>\n",
              "      <td>auto(l5)</td>\n",
              "      <td>f</td>\n",
              "      <td>18</td>\n",
              "      <td>29</td>\n",
              "      <td>0</td>\n",
              "      <td>1</td>\n",
              "      <td>0</td>\n",
              "      <td>0</td>\n",
              "      <td>0</td>\n",
              "      <td>0</td>\n",
              "      <td>0</td>\n",
              "      <td>0</td>\n",
              "      <td>0</td>\n",
              "      <td>0</td>\n",
              "      <td>1</td>\n",
              "      <td>0</td>\n",
              "    </tr>\n",
              "    <tr>\n",
              "      <th>1</th>\n",
              "      <td>audi</td>\n",
              "      <td>a4</td>\n",
              "      <td>1.8</td>\n",
              "      <td>1999</td>\n",
              "      <td>4</td>\n",
              "      <td>manual(m5)</td>\n",
              "      <td>f</td>\n",
              "      <td>21</td>\n",
              "      <td>29</td>\n",
              "      <td>0</td>\n",
              "      <td>1</td>\n",
              "      <td>0</td>\n",
              "      <td>0</td>\n",
              "      <td>0</td>\n",
              "      <td>0</td>\n",
              "      <td>0</td>\n",
              "      <td>0</td>\n",
              "      <td>0</td>\n",
              "      <td>0</td>\n",
              "      <td>1</td>\n",
              "      <td>0</td>\n",
              "    </tr>\n",
              "    <tr>\n",
              "      <th>2</th>\n",
              "      <td>audi</td>\n",
              "      <td>a4</td>\n",
              "      <td>2.0</td>\n",
              "      <td>2008</td>\n",
              "      <td>4</td>\n",
              "      <td>manual(m6)</td>\n",
              "      <td>f</td>\n",
              "      <td>20</td>\n",
              "      <td>31</td>\n",
              "      <td>0</td>\n",
              "      <td>1</td>\n",
              "      <td>0</td>\n",
              "      <td>0</td>\n",
              "      <td>0</td>\n",
              "      <td>0</td>\n",
              "      <td>0</td>\n",
              "      <td>0</td>\n",
              "      <td>0</td>\n",
              "      <td>0</td>\n",
              "      <td>1</td>\n",
              "      <td>0</td>\n",
              "    </tr>\n",
              "    <tr>\n",
              "      <th>3</th>\n",
              "      <td>audi</td>\n",
              "      <td>a4</td>\n",
              "      <td>2.0</td>\n",
              "      <td>2008</td>\n",
              "      <td>4</td>\n",
              "      <td>auto(av)</td>\n",
              "      <td>f</td>\n",
              "      <td>21</td>\n",
              "      <td>30</td>\n",
              "      <td>0</td>\n",
              "      <td>1</td>\n",
              "      <td>0</td>\n",
              "      <td>0</td>\n",
              "      <td>0</td>\n",
              "      <td>0</td>\n",
              "      <td>0</td>\n",
              "      <td>0</td>\n",
              "      <td>0</td>\n",
              "      <td>0</td>\n",
              "      <td>1</td>\n",
              "      <td>0</td>\n",
              "    </tr>\n",
              "    <tr>\n",
              "      <th>4</th>\n",
              "      <td>audi</td>\n",
              "      <td>a4</td>\n",
              "      <td>2.8</td>\n",
              "      <td>1999</td>\n",
              "      <td>6</td>\n",
              "      <td>auto(l5)</td>\n",
              "      <td>f</td>\n",
              "      <td>16</td>\n",
              "      <td>26</td>\n",
              "      <td>0</td>\n",
              "      <td>1</td>\n",
              "      <td>0</td>\n",
              "      <td>0</td>\n",
              "      <td>0</td>\n",
              "      <td>0</td>\n",
              "      <td>0</td>\n",
              "      <td>0</td>\n",
              "      <td>0</td>\n",
              "      <td>0</td>\n",
              "      <td>1</td>\n",
              "      <td>0</td>\n",
              "    </tr>\n",
              "  </tbody>\n",
              "</table>\n",
              "</div>"
            ],
            "text/plain": [
              "  manufacturer model  displ  year  cyl  ... fl_c fl_d  fl_e  fl_p  fl_r\n",
              "0         audi    a4    1.8  1999    4  ...    0    0     0     1     0\n",
              "1         audi    a4    1.8  1999    4  ...    0    0     0     1     0\n",
              "2         audi    a4    2.0  2008    4  ...    0    0     0     1     0\n",
              "3         audi    a4    2.0  2008    4  ...    0    0     0     1     0\n",
              "4         audi    a4    2.8  1999    6  ...    0    0     0     1     0\n",
              "\n",
              "[5 rows x 21 columns]"
            ]
          },
          "metadata": {},
          "execution_count": 140
        }
      ]
    },
    {
      "cell_type": "code",
      "metadata": {
        "id": "Akr1AoEQTd1R"
      },
      "source": [
        "carros2['trans_auto'] = None"
      ],
      "execution_count": 141,
      "outputs": []
    },
    {
      "cell_type": "code",
      "metadata": {
        "colab": {
          "base_uri": "https://localhost:8080/"
        },
        "id": "LC-x_U8jSI51",
        "outputId": "d9c25ef7-1e70-423c-b9f3-3dd39e914ef9"
      },
      "source": [
        "#Criação manual de variável dummy para transmissão \n",
        "#dividir apenas em auto=1 ou manual=0\n",
        "\n",
        "trans_auto=[]\n",
        "for k in range(0, len(carros2)):\n",
        "  if 'auto' in carros2['trans'][k]:\n",
        "    carros2['trans_auto'][k] = 1\n",
        "  else:\n",
        "    carros2['trans_auto'][k] = 0"
      ],
      "execution_count": 142,
      "outputs": [
        {
          "output_type": "stream",
          "name": "stderr",
          "text": [
            "/usr/local/lib/python3.7/dist-packages/ipykernel_launcher.py:7: SettingWithCopyWarning: \n",
            "A value is trying to be set on a copy of a slice from a DataFrame\n",
            "\n",
            "See the caveats in the documentation: https://pandas.pydata.org/pandas-docs/stable/user_guide/indexing.html#returning-a-view-versus-a-copy\n",
            "  import sys\n",
            "/usr/local/lib/python3.7/dist-packages/ipykernel_launcher.py:9: SettingWithCopyWarning: \n",
            "A value is trying to be set on a copy of a slice from a DataFrame\n",
            "\n",
            "See the caveats in the documentation: https://pandas.pydata.org/pandas-docs/stable/user_guide/indexing.html#returning-a-view-versus-a-copy\n",
            "  if __name__ == '__main__':\n"
          ]
        }
      ]
    },
    {
      "cell_type": "code",
      "metadata": {
        "colab": {
          "base_uri": "https://localhost:8080/",
          "height": 226
        },
        "id": "RfBHjIQ_TsE9",
        "outputId": "a841148e-194c-494b-c73b-7baccae970ab"
      },
      "source": [
        "carros2.head()"
      ],
      "execution_count": 143,
      "outputs": [
        {
          "output_type": "execute_result",
          "data": {
            "text/html": [
              "<div>\n",
              "<style scoped>\n",
              "    .dataframe tbody tr th:only-of-type {\n",
              "        vertical-align: middle;\n",
              "    }\n",
              "\n",
              "    .dataframe tbody tr th {\n",
              "        vertical-align: top;\n",
              "    }\n",
              "\n",
              "    .dataframe thead th {\n",
              "        text-align: right;\n",
              "    }\n",
              "</style>\n",
              "<table border=\"1\" class=\"dataframe\">\n",
              "  <thead>\n",
              "    <tr style=\"text-align: right;\">\n",
              "      <th></th>\n",
              "      <th>manufacturer</th>\n",
              "      <th>model</th>\n",
              "      <th>displ</th>\n",
              "      <th>year</th>\n",
              "      <th>cyl</th>\n",
              "      <th>trans</th>\n",
              "      <th>drv</th>\n",
              "      <th>cty</th>\n",
              "      <th>hwy</th>\n",
              "      <th>class_2seater</th>\n",
              "      <th>class_compact</th>\n",
              "      <th>class_midsize</th>\n",
              "      <th>class_minivan</th>\n",
              "      <th>class_pickup</th>\n",
              "      <th>class_subcompact</th>\n",
              "      <th>class_suv</th>\n",
              "      <th>fl_c</th>\n",
              "      <th>fl_d</th>\n",
              "      <th>fl_e</th>\n",
              "      <th>fl_p</th>\n",
              "      <th>fl_r</th>\n",
              "      <th>trans_auto</th>\n",
              "    </tr>\n",
              "  </thead>\n",
              "  <tbody>\n",
              "    <tr>\n",
              "      <th>0</th>\n",
              "      <td>audi</td>\n",
              "      <td>a4</td>\n",
              "      <td>1.8</td>\n",
              "      <td>1999</td>\n",
              "      <td>4</td>\n",
              "      <td>auto(l5)</td>\n",
              "      <td>f</td>\n",
              "      <td>18</td>\n",
              "      <td>29</td>\n",
              "      <td>0</td>\n",
              "      <td>1</td>\n",
              "      <td>0</td>\n",
              "      <td>0</td>\n",
              "      <td>0</td>\n",
              "      <td>0</td>\n",
              "      <td>0</td>\n",
              "      <td>0</td>\n",
              "      <td>0</td>\n",
              "      <td>0</td>\n",
              "      <td>1</td>\n",
              "      <td>0</td>\n",
              "      <td>1</td>\n",
              "    </tr>\n",
              "    <tr>\n",
              "      <th>1</th>\n",
              "      <td>audi</td>\n",
              "      <td>a4</td>\n",
              "      <td>1.8</td>\n",
              "      <td>1999</td>\n",
              "      <td>4</td>\n",
              "      <td>manual(m5)</td>\n",
              "      <td>f</td>\n",
              "      <td>21</td>\n",
              "      <td>29</td>\n",
              "      <td>0</td>\n",
              "      <td>1</td>\n",
              "      <td>0</td>\n",
              "      <td>0</td>\n",
              "      <td>0</td>\n",
              "      <td>0</td>\n",
              "      <td>0</td>\n",
              "      <td>0</td>\n",
              "      <td>0</td>\n",
              "      <td>0</td>\n",
              "      <td>1</td>\n",
              "      <td>0</td>\n",
              "      <td>0</td>\n",
              "    </tr>\n",
              "    <tr>\n",
              "      <th>2</th>\n",
              "      <td>audi</td>\n",
              "      <td>a4</td>\n",
              "      <td>2.0</td>\n",
              "      <td>2008</td>\n",
              "      <td>4</td>\n",
              "      <td>manual(m6)</td>\n",
              "      <td>f</td>\n",
              "      <td>20</td>\n",
              "      <td>31</td>\n",
              "      <td>0</td>\n",
              "      <td>1</td>\n",
              "      <td>0</td>\n",
              "      <td>0</td>\n",
              "      <td>0</td>\n",
              "      <td>0</td>\n",
              "      <td>0</td>\n",
              "      <td>0</td>\n",
              "      <td>0</td>\n",
              "      <td>0</td>\n",
              "      <td>1</td>\n",
              "      <td>0</td>\n",
              "      <td>0</td>\n",
              "    </tr>\n",
              "    <tr>\n",
              "      <th>3</th>\n",
              "      <td>audi</td>\n",
              "      <td>a4</td>\n",
              "      <td>2.0</td>\n",
              "      <td>2008</td>\n",
              "      <td>4</td>\n",
              "      <td>auto(av)</td>\n",
              "      <td>f</td>\n",
              "      <td>21</td>\n",
              "      <td>30</td>\n",
              "      <td>0</td>\n",
              "      <td>1</td>\n",
              "      <td>0</td>\n",
              "      <td>0</td>\n",
              "      <td>0</td>\n",
              "      <td>0</td>\n",
              "      <td>0</td>\n",
              "      <td>0</td>\n",
              "      <td>0</td>\n",
              "      <td>0</td>\n",
              "      <td>1</td>\n",
              "      <td>0</td>\n",
              "      <td>1</td>\n",
              "    </tr>\n",
              "    <tr>\n",
              "      <th>4</th>\n",
              "      <td>audi</td>\n",
              "      <td>a4</td>\n",
              "      <td>2.8</td>\n",
              "      <td>1999</td>\n",
              "      <td>6</td>\n",
              "      <td>auto(l5)</td>\n",
              "      <td>f</td>\n",
              "      <td>16</td>\n",
              "      <td>26</td>\n",
              "      <td>0</td>\n",
              "      <td>1</td>\n",
              "      <td>0</td>\n",
              "      <td>0</td>\n",
              "      <td>0</td>\n",
              "      <td>0</td>\n",
              "      <td>0</td>\n",
              "      <td>0</td>\n",
              "      <td>0</td>\n",
              "      <td>0</td>\n",
              "      <td>1</td>\n",
              "      <td>0</td>\n",
              "      <td>1</td>\n",
              "    </tr>\n",
              "  </tbody>\n",
              "</table>\n",
              "</div>"
            ],
            "text/plain": [
              "  manufacturer model  displ  year  cyl  ... fl_d fl_e  fl_p  fl_r  trans_auto\n",
              "0         audi    a4    1.8  1999    4  ...    0    0     1     0           1\n",
              "1         audi    a4    1.8  1999    4  ...    0    0     1     0           0\n",
              "2         audi    a4    2.0  2008    4  ...    0    0     1     0           0\n",
              "3         audi    a4    2.0  2008    4  ...    0    0     1     0           1\n",
              "4         audi    a4    2.8  1999    6  ...    0    0     1     0           1\n",
              "\n",
              "[5 rows x 22 columns]"
            ]
          },
          "metadata": {},
          "execution_count": 143
        }
      ]
    },
    {
      "cell_type": "code",
      "metadata": {
        "colab": {
          "base_uri": "https://localhost:8080/"
        },
        "id": "p8QKqItSTz0R",
        "outputId": "66dc3ee7-74e9-42f0-dbaf-007182b45569"
      },
      "source": [
        "carros2['trans_auto'][0]"
      ],
      "execution_count": 144,
      "outputs": [
        {
          "output_type": "execute_result",
          "data": {
            "text/plain": [
              "1"
            ]
          },
          "metadata": {},
          "execution_count": 144
        }
      ]
    },
    {
      "cell_type": "code",
      "metadata": {
        "id": "NcvasyclUYSL"
      },
      "source": [
        "carros2.drop(columns=[\n",
        "                      'manufacturer', 'model', 'year', 'trans', 'drv'\n",
        "                      ],\n",
        "             inplace=True)"
      ],
      "execution_count": 145,
      "outputs": []
    },
    {
      "cell_type": "code",
      "metadata": {
        "colab": {
          "base_uri": "https://localhost:8080/",
          "height": 206
        },
        "id": "5Bnl8mrJVCF9",
        "outputId": "dcb6567f-279d-4632-b001-1b1d45e16b6f"
      },
      "source": [
        "carros2.head()"
      ],
      "execution_count": 146,
      "outputs": [
        {
          "output_type": "execute_result",
          "data": {
            "text/html": [
              "<div>\n",
              "<style scoped>\n",
              "    .dataframe tbody tr th:only-of-type {\n",
              "        vertical-align: middle;\n",
              "    }\n",
              "\n",
              "    .dataframe tbody tr th {\n",
              "        vertical-align: top;\n",
              "    }\n",
              "\n",
              "    .dataframe thead th {\n",
              "        text-align: right;\n",
              "    }\n",
              "</style>\n",
              "<table border=\"1\" class=\"dataframe\">\n",
              "  <thead>\n",
              "    <tr style=\"text-align: right;\">\n",
              "      <th></th>\n",
              "      <th>displ</th>\n",
              "      <th>cyl</th>\n",
              "      <th>cty</th>\n",
              "      <th>hwy</th>\n",
              "      <th>class_2seater</th>\n",
              "      <th>class_compact</th>\n",
              "      <th>class_midsize</th>\n",
              "      <th>class_minivan</th>\n",
              "      <th>class_pickup</th>\n",
              "      <th>class_subcompact</th>\n",
              "      <th>class_suv</th>\n",
              "      <th>fl_c</th>\n",
              "      <th>fl_d</th>\n",
              "      <th>fl_e</th>\n",
              "      <th>fl_p</th>\n",
              "      <th>fl_r</th>\n",
              "      <th>trans_auto</th>\n",
              "    </tr>\n",
              "  </thead>\n",
              "  <tbody>\n",
              "    <tr>\n",
              "      <th>0</th>\n",
              "      <td>1.8</td>\n",
              "      <td>4</td>\n",
              "      <td>18</td>\n",
              "      <td>29</td>\n",
              "      <td>0</td>\n",
              "      <td>1</td>\n",
              "      <td>0</td>\n",
              "      <td>0</td>\n",
              "      <td>0</td>\n",
              "      <td>0</td>\n",
              "      <td>0</td>\n",
              "      <td>0</td>\n",
              "      <td>0</td>\n",
              "      <td>0</td>\n",
              "      <td>1</td>\n",
              "      <td>0</td>\n",
              "      <td>1</td>\n",
              "    </tr>\n",
              "    <tr>\n",
              "      <th>1</th>\n",
              "      <td>1.8</td>\n",
              "      <td>4</td>\n",
              "      <td>21</td>\n",
              "      <td>29</td>\n",
              "      <td>0</td>\n",
              "      <td>1</td>\n",
              "      <td>0</td>\n",
              "      <td>0</td>\n",
              "      <td>0</td>\n",
              "      <td>0</td>\n",
              "      <td>0</td>\n",
              "      <td>0</td>\n",
              "      <td>0</td>\n",
              "      <td>0</td>\n",
              "      <td>1</td>\n",
              "      <td>0</td>\n",
              "      <td>0</td>\n",
              "    </tr>\n",
              "    <tr>\n",
              "      <th>2</th>\n",
              "      <td>2.0</td>\n",
              "      <td>4</td>\n",
              "      <td>20</td>\n",
              "      <td>31</td>\n",
              "      <td>0</td>\n",
              "      <td>1</td>\n",
              "      <td>0</td>\n",
              "      <td>0</td>\n",
              "      <td>0</td>\n",
              "      <td>0</td>\n",
              "      <td>0</td>\n",
              "      <td>0</td>\n",
              "      <td>0</td>\n",
              "      <td>0</td>\n",
              "      <td>1</td>\n",
              "      <td>0</td>\n",
              "      <td>0</td>\n",
              "    </tr>\n",
              "    <tr>\n",
              "      <th>3</th>\n",
              "      <td>2.0</td>\n",
              "      <td>4</td>\n",
              "      <td>21</td>\n",
              "      <td>30</td>\n",
              "      <td>0</td>\n",
              "      <td>1</td>\n",
              "      <td>0</td>\n",
              "      <td>0</td>\n",
              "      <td>0</td>\n",
              "      <td>0</td>\n",
              "      <td>0</td>\n",
              "      <td>0</td>\n",
              "      <td>0</td>\n",
              "      <td>0</td>\n",
              "      <td>1</td>\n",
              "      <td>0</td>\n",
              "      <td>1</td>\n",
              "    </tr>\n",
              "    <tr>\n",
              "      <th>4</th>\n",
              "      <td>2.8</td>\n",
              "      <td>6</td>\n",
              "      <td>16</td>\n",
              "      <td>26</td>\n",
              "      <td>0</td>\n",
              "      <td>1</td>\n",
              "      <td>0</td>\n",
              "      <td>0</td>\n",
              "      <td>0</td>\n",
              "      <td>0</td>\n",
              "      <td>0</td>\n",
              "      <td>0</td>\n",
              "      <td>0</td>\n",
              "      <td>0</td>\n",
              "      <td>1</td>\n",
              "      <td>0</td>\n",
              "      <td>1</td>\n",
              "    </tr>\n",
              "  </tbody>\n",
              "</table>\n",
              "</div>"
            ],
            "text/plain": [
              "   displ  cyl  cty  hwy  class_2seater  ...  fl_d  fl_e  fl_p  fl_r  trans_auto\n",
              "0    1.8    4   18   29              0  ...     0     0     1     0           1\n",
              "1    1.8    4   21   29              0  ...     0     0     1     0           0\n",
              "2    2.0    4   20   31              0  ...     0     0     1     0           0\n",
              "3    2.0    4   21   30              0  ...     0     0     1     0           1\n",
              "4    2.8    6   16   26              0  ...     0     0     1     0           1\n",
              "\n",
              "[5 rows x 17 columns]"
            ]
          },
          "metadata": {},
          "execution_count": 146
        }
      ]
    },
    {
      "cell_type": "code",
      "metadata": {
        "id": "AsL4Yoh3VIvk"
      },
      "source": [
        "m2 = matrizCorr(carros2)"
      ],
      "execution_count": 147,
      "outputs": []
    },
    {
      "cell_type": "code",
      "metadata": {
        "colab": {
          "base_uri": "https://localhost:8080/"
        },
        "id": "MqqoKYdHZFOb",
        "outputId": "4c470658-9da7-4514-ee7f-c07ce659aa09"
      },
      "source": [
        "m2.shape"
      ],
      "execution_count": 148,
      "outputs": [
        {
          "output_type": "execute_result",
          "data": {
            "text/plain": [
              "(17, 17)"
            ]
          },
          "metadata": {},
          "execution_count": 148
        }
      ]
    },
    {
      "cell_type": "code",
      "metadata": {
        "id": "ly0ueaBAgbmn"
      },
      "source": [
        ""
      ],
      "execution_count": null,
      "outputs": []
    },
    {
      "cell_type": "markdown",
      "metadata": {
        "id": "JaA2Ha25-dj1"
      },
      "source": [
        "## Seção 4: Aplicação dos algoritmos em séries temporais com termos defasados"
      ]
    },
    {
      "cell_type": "markdown",
      "metadata": {
        "id": "azLbKbIRbApt"
      },
      "source": [
        "### Criação do dataset dos termos defasados"
      ]
    },
    {
      "cell_type": "code",
      "metadata": {
        "colab": {
          "base_uri": "https://localhost:8080/",
          "height": 206
        },
        "id": "mpYcjmFl-yHV",
        "outputId": "90b2f36f-ffc7-4f08-962b-e479af60251c"
      },
      "source": [
        "arquivo = 'https://raw.githubusercontent.com/janiosl/python.ds/master/data/yahoo_stock_12-12-2020.csv'\n",
        "acoes = pd.read_csv(arquivo)\n",
        "acoes.head()"
      ],
      "execution_count": 149,
      "outputs": [
        {
          "output_type": "execute_result",
          "data": {
            "text/html": [
              "<div>\n",
              "<style scoped>\n",
              "    .dataframe tbody tr th:only-of-type {\n",
              "        vertical-align: middle;\n",
              "    }\n",
              "\n",
              "    .dataframe tbody tr th {\n",
              "        vertical-align: top;\n",
              "    }\n",
              "\n",
              "    .dataframe thead th {\n",
              "        text-align: right;\n",
              "    }\n",
              "</style>\n",
              "<table border=\"1\" class=\"dataframe\">\n",
              "  <thead>\n",
              "    <tr style=\"text-align: right;\">\n",
              "      <th></th>\n",
              "      <th>Ticker</th>\n",
              "      <th>Date</th>\n",
              "      <th>High</th>\n",
              "      <th>Low</th>\n",
              "      <th>Open</th>\n",
              "      <th>Close</th>\n",
              "      <th>Volume</th>\n",
              "      <th>Adj Close</th>\n",
              "    </tr>\n",
              "  </thead>\n",
              "  <tbody>\n",
              "    <tr>\n",
              "      <th>0</th>\n",
              "      <td>GGBR4.SA</td>\n",
              "      <td>2010-01-04</td>\n",
              "      <td>29.799999</td>\n",
              "      <td>29.280001</td>\n",
              "      <td>29.299999</td>\n",
              "      <td>29.600000</td>\n",
              "      <td>2827700.0</td>\n",
              "      <td>25.257845</td>\n",
              "    </tr>\n",
              "    <tr>\n",
              "      <th>1</th>\n",
              "      <td>GGBR4.SA</td>\n",
              "      <td>2010-01-05</td>\n",
              "      <td>30.170000</td>\n",
              "      <td>29.650000</td>\n",
              "      <td>29.740000</td>\n",
              "      <td>30.100000</td>\n",
              "      <td>4480400.0</td>\n",
              "      <td>25.684504</td>\n",
              "    </tr>\n",
              "    <tr>\n",
              "      <th>2</th>\n",
              "      <td>GGBR4.SA</td>\n",
              "      <td>2010-01-06</td>\n",
              "      <td>30.379999</td>\n",
              "      <td>29.860001</td>\n",
              "      <td>29.959999</td>\n",
              "      <td>30.299999</td>\n",
              "      <td>4499900.0</td>\n",
              "      <td>25.855158</td>\n",
              "    </tr>\n",
              "    <tr>\n",
              "      <th>3</th>\n",
              "      <td>GGBR4.SA</td>\n",
              "      <td>2010-01-07</td>\n",
              "      <td>30.379999</td>\n",
              "      <td>29.520000</td>\n",
              "      <td>30.100000</td>\n",
              "      <td>29.620001</td>\n",
              "      <td>5695900.0</td>\n",
              "      <td>25.274918</td>\n",
              "    </tr>\n",
              "    <tr>\n",
              "      <th>4</th>\n",
              "      <td>GGBR4.SA</td>\n",
              "      <td>2010-01-08</td>\n",
              "      <td>29.879999</td>\n",
              "      <td>29.350000</td>\n",
              "      <td>29.719999</td>\n",
              "      <td>29.540001</td>\n",
              "      <td>4269500.0</td>\n",
              "      <td>25.206648</td>\n",
              "    </tr>\n",
              "  </tbody>\n",
              "</table>\n",
              "</div>"
            ],
            "text/plain": [
              "     Ticker        Date       High  ...      Close     Volume  Adj Close\n",
              "0  GGBR4.SA  2010-01-04  29.799999  ...  29.600000  2827700.0  25.257845\n",
              "1  GGBR4.SA  2010-01-05  30.170000  ...  30.100000  4480400.0  25.684504\n",
              "2  GGBR4.SA  2010-01-06  30.379999  ...  30.299999  4499900.0  25.855158\n",
              "3  GGBR4.SA  2010-01-07  30.379999  ...  29.620001  5695900.0  25.274918\n",
              "4  GGBR4.SA  2010-01-08  29.879999  ...  29.540001  4269500.0  25.206648\n",
              "\n",
              "[5 rows x 8 columns]"
            ]
          },
          "metadata": {},
          "execution_count": 149
        }
      ]
    },
    {
      "cell_type": "code",
      "metadata": {
        "colab": {
          "base_uri": "https://localhost:8080/"
        },
        "id": "hHaCXp0a_aCz",
        "outputId": "245a447e-2242-4767-d6a1-6e053d1a8cd7"
      },
      "source": [
        "close = acoes.Close[:20]\n",
        "close.head()"
      ],
      "execution_count": 189,
      "outputs": [
        {
          "output_type": "execute_result",
          "data": {
            "text/plain": [
              "0    29.600000\n",
              "1    30.100000\n",
              "2    30.299999\n",
              "3    29.620001\n",
              "4    29.540001\n",
              "Name: Close, dtype: float64"
            ]
          },
          "metadata": {},
          "execution_count": 189
        }
      ]
    },
    {
      "cell_type": "code",
      "metadata": {
        "colab": {
          "base_uri": "https://localhost:8080/"
        },
        "id": "PcIqoOAl_pFB",
        "outputId": "4c2ffd77-a8d2-47c3-b1b1-185eec92a9fe"
      },
      "source": [
        "close.describe()"
      ],
      "execution_count": 190,
      "outputs": [
        {
          "output_type": "execute_result",
          "data": {
            "text/plain": [
              "count    20.000000\n",
              "mean     28.099000\n",
              "std       1.772150\n",
              "min      25.340000\n",
              "25%      26.222500\n",
              "50%      28.775001\n",
              "75%      29.545001\n",
              "max      30.299999\n",
              "Name: Close, dtype: float64"
            ]
          },
          "metadata": {},
          "execution_count": 190
        }
      ]
    },
    {
      "cell_type": "code",
      "metadata": {
        "colab": {
          "base_uri": "https://localhost:8080/"
        },
        "id": "KVKmjsZHDKHr",
        "outputId": "f3578fab-d0ad-4963-9022-3bb32ee3a921"
      },
      "source": [
        "len(close)"
      ],
      "execution_count": 191,
      "outputs": [
        {
          "output_type": "execute_result",
          "data": {
            "text/plain": [
              "20"
            ]
          },
          "metadata": {},
          "execution_count": 191
        }
      ]
    },
    {
      "cell_type": "code",
      "metadata": {
        "id": "7PFPNt1kUh13"
      },
      "source": [
        "def ts_lags(ts, w):\n",
        "  \"\"\"\n",
        "  Função recebe uma série temporal e retorna\n",
        "  os termos defasados com base no tamanho de\n",
        "  janela deslizante definido\n",
        "  Parâmetros:\n",
        "    ts = Série Temporal\n",
        "    w = tambanho da janela deslizante\n",
        "  Retorno\n",
        "    legs = Dataset com termos defasados\n",
        "  \"\"\"\n",
        "  #Divisão da série em termos defasados\n",
        "  n_lags = len(ts) - w          #Quantidade de features (termos defasados)\n",
        "  lags = np.zeros((n_lags, w))  #Matriz para armazenar features (termos defasados)\n",
        "\n",
        "  #Variáveis de controle para dos 'deslizamento'\n",
        "  start = 0\n",
        "  end = start + w\n",
        "\n",
        "  #Cada rodada do loop criará um termo defasado\n",
        "  for k in range(0, n_lags):\n",
        "  #for k in range(0, len(ts)):\n",
        "    #Filtra 'w' observações e as armazenam na matriz 'legs'\n",
        "    lags[k] = np.array(ts[start:end])\n",
        "\n",
        "    #Avança um passo na série temporal para criar o próximo termo\n",
        "    start += 1\n",
        "    end += 1\n",
        "\n",
        "  #Transformação em um dataframe\n",
        "  lags = pd.DataFrame(lags.T,\n",
        "                  columns=['T'+str(k) for k in range(0, lags.T.shape[1])])\n",
        "  \n",
        "  return lags"
      ],
      "execution_count": 154,
      "outputs": []
    },
    {
      "cell_type": "code",
      "metadata": {
        "colab": {
          "base_uri": "https://localhost:8080/",
          "height": 206
        },
        "id": "kNLlasTUVOlV",
        "outputId": "96b97921-1e66-4860-dfff-f105d2372cd5"
      },
      "source": [
        "l = ts_lags(close, 5)\n",
        "l"
      ],
      "execution_count": 192,
      "outputs": [
        {
          "output_type": "execute_result",
          "data": {
            "text/html": [
              "<div>\n",
              "<style scoped>\n",
              "    .dataframe tbody tr th:only-of-type {\n",
              "        vertical-align: middle;\n",
              "    }\n",
              "\n",
              "    .dataframe tbody tr th {\n",
              "        vertical-align: top;\n",
              "    }\n",
              "\n",
              "    .dataframe thead th {\n",
              "        text-align: right;\n",
              "    }\n",
              "</style>\n",
              "<table border=\"1\" class=\"dataframe\">\n",
              "  <thead>\n",
              "    <tr style=\"text-align: right;\">\n",
              "      <th></th>\n",
              "      <th>T0</th>\n",
              "      <th>T1</th>\n",
              "      <th>T2</th>\n",
              "      <th>T3</th>\n",
              "      <th>T4</th>\n",
              "      <th>T5</th>\n",
              "      <th>T6</th>\n",
              "      <th>T7</th>\n",
              "      <th>T8</th>\n",
              "      <th>T9</th>\n",
              "      <th>T10</th>\n",
              "      <th>T11</th>\n",
              "      <th>T12</th>\n",
              "      <th>T13</th>\n",
              "      <th>T14</th>\n",
              "    </tr>\n",
              "  </thead>\n",
              "  <tbody>\n",
              "    <tr>\n",
              "      <th>0</th>\n",
              "      <td>29.600000</td>\n",
              "      <td>30.100000</td>\n",
              "      <td>30.299999</td>\n",
              "      <td>29.620001</td>\n",
              "      <td>29.540001</td>\n",
              "      <td>29.559999</td>\n",
              "      <td>29.350000</td>\n",
              "      <td>29.490000</td>\n",
              "      <td>29.459999</td>\n",
              "      <td>28.850000</td>\n",
              "      <td>28.700001</td>\n",
              "      <td>28.610001</td>\n",
              "      <td>27.600000</td>\n",
              "      <td>26.400000</td>\n",
              "      <td>26.049999</td>\n",
              "    </tr>\n",
              "    <tr>\n",
              "      <th>1</th>\n",
              "      <td>30.100000</td>\n",
              "      <td>30.299999</td>\n",
              "      <td>29.620001</td>\n",
              "      <td>29.540001</td>\n",
              "      <td>29.559999</td>\n",
              "      <td>29.350000</td>\n",
              "      <td>29.490000</td>\n",
              "      <td>29.459999</td>\n",
              "      <td>28.850000</td>\n",
              "      <td>28.700001</td>\n",
              "      <td>28.610001</td>\n",
              "      <td>27.600000</td>\n",
              "      <td>26.400000</td>\n",
              "      <td>26.049999</td>\n",
              "      <td>26.280001</td>\n",
              "    </tr>\n",
              "    <tr>\n",
              "      <th>2</th>\n",
              "      <td>30.299999</td>\n",
              "      <td>29.620001</td>\n",
              "      <td>29.540001</td>\n",
              "      <td>29.559999</td>\n",
              "      <td>29.350000</td>\n",
              "      <td>29.490000</td>\n",
              "      <td>29.459999</td>\n",
              "      <td>28.850000</td>\n",
              "      <td>28.700001</td>\n",
              "      <td>28.610001</td>\n",
              "      <td>27.600000</td>\n",
              "      <td>26.400000</td>\n",
              "      <td>26.049999</td>\n",
              "      <td>26.280001</td>\n",
              "      <td>25.530001</td>\n",
              "    </tr>\n",
              "    <tr>\n",
              "      <th>3</th>\n",
              "      <td>29.620001</td>\n",
              "      <td>29.540001</td>\n",
              "      <td>29.559999</td>\n",
              "      <td>29.350000</td>\n",
              "      <td>29.490000</td>\n",
              "      <td>29.459999</td>\n",
              "      <td>28.850000</td>\n",
              "      <td>28.700001</td>\n",
              "      <td>28.610001</td>\n",
              "      <td>27.600000</td>\n",
              "      <td>26.400000</td>\n",
              "      <td>26.049999</td>\n",
              "      <td>26.280001</td>\n",
              "      <td>25.530001</td>\n",
              "      <td>25.600000</td>\n",
              "    </tr>\n",
              "    <tr>\n",
              "      <th>4</th>\n",
              "      <td>29.540001</td>\n",
              "      <td>29.559999</td>\n",
              "      <td>29.350000</td>\n",
              "      <td>29.490000</td>\n",
              "      <td>29.459999</td>\n",
              "      <td>28.850000</td>\n",
              "      <td>28.700001</td>\n",
              "      <td>28.610001</td>\n",
              "      <td>27.600000</td>\n",
              "      <td>26.400000</td>\n",
              "      <td>26.049999</td>\n",
              "      <td>26.280001</td>\n",
              "      <td>25.530001</td>\n",
              "      <td>25.600000</td>\n",
              "      <td>25.340000</td>\n",
              "    </tr>\n",
              "  </tbody>\n",
              "</table>\n",
              "</div>"
            ],
            "text/plain": [
              "          T0         T1         T2  ...        T12        T13        T14\n",
              "0  29.600000  30.100000  30.299999  ...  27.600000  26.400000  26.049999\n",
              "1  30.100000  30.299999  29.620001  ...  26.400000  26.049999  26.280001\n",
              "2  30.299999  29.620001  29.540001  ...  26.049999  26.280001  25.530001\n",
              "3  29.620001  29.540001  29.559999  ...  26.280001  25.530001  25.600000\n",
              "4  29.540001  29.559999  29.350000  ...  25.530001  25.600000  25.340000\n",
              "\n",
              "[5 rows x 15 columns]"
            ]
          },
          "metadata": {},
          "execution_count": 192
        }
      ]
    },
    {
      "cell_type": "markdown",
      "metadata": {
        "id": "jhGRS3XxbE4x"
      },
      "source": [
        "### Aplicação do Cálculo da Matriz de Correlação"
      ]
    },
    {
      "cell_type": "code",
      "metadata": {
        "colab": {
          "base_uri": "https://localhost:8080/"
        },
        "id": "YcGOI-cNohPE",
        "outputId": "d5485fe4-48e4-4dcb-81d1-dca00cf617b6"
      },
      "source": [
        "#Aplicação do cálculo da matriz de correlação nos termos defasados\n",
        "matrizCorr_(l)"
      ],
      "execution_count": 193,
      "outputs": [
        {
          "output_type": "execute_result",
          "data": {
            "text/plain": [
              "array([[ 1.        ,  0.2173729 , -0.20644333,  0.32547061, -0.43482354,\n",
              "         0.35477957,  0.75833809,  0.20074054,  0.22066792,  0.57938515,\n",
              "         0.42834703, -0.0546202 , -0.15469834,  0.49490307,  0.22492872],\n",
              "       [ 0.2173729 ,  1.        ,  0.57048937,  0.59448376,  0.71804655,\n",
              "         0.32436907,  0.69084689,  0.96412221,  0.63232847,  0.67151461,\n",
              "         0.89127102,  0.85762717,  0.62067326,  0.57184048,  0.96671859],\n",
              "       [-0.20644333,  0.57048937,  1.        ,  0.57464115,  0.46439427,\n",
              "         0.63077096,  0.45728513,  0.75149041,  0.85302124,  0.64648548,\n",
              "         0.71396796,  0.8817905 ,  0.98351917,  0.68691956,  0.59539159],\n",
              "       [ 0.32547061,  0.59448376,  0.57464115,  1.        ,  0.03857174,\n",
              "         0.19433427,  0.69681611,  0.6728286 ,  0.45736409,  0.56992063,\n",
              "         0.7534369 ,  0.74849431,  0.48695136,  0.89310787,  0.44028313],\n",
              "       [-0.43482354,  0.71804655,  0.46439427,  0.03857174,  1.        ,\n",
              "         0.05824792,  0.04020738,  0.64708865,  0.35413451,  0.16228913,\n",
              "         0.40923896,  0.63179284,  0.52917063, -0.0391905 ,  0.74060557],\n",
              "       [ 0.35477957,  0.32436907,  0.63077096,  0.19433427,  0.05824792,\n",
              "         1.        ,  0.66224078,  0.50781112,  0.91057844,  0.86324198,\n",
              "         0.62224343,  0.41022583,  0.71619734,  0.60292194,  0.49645061],\n",
              "       [ 0.75833809,  0.69084689,  0.45728513,  0.69681611,  0.04020738,\n",
              "         0.66224078,  1.        ,  0.75737905,  0.7390269 ,  0.93914187,\n",
              "         0.90647271,  0.59319922,  0.49984485,  0.87698016,  0.69674225],\n",
              "       [ 0.20074054,  0.96412221,  0.75149041,  0.6728286 ,  0.64708865,\n",
              "         0.50781112,  0.75737905,  1.        ,  0.79653415,  0.79196536,\n",
              "         0.95850065,  0.93689389,  0.79003023,  0.71833335,  0.95152217],\n",
              "       [ 0.22066792,  0.63232847,  0.85302124,  0.45736409,  0.35413451,\n",
              "         0.91057844,  0.7390269 ,  0.79653415,  1.        ,  0.9181341 ,\n",
              "         0.84132464,  0.74906587,  0.91345983,  0.74474592,  0.73926147],\n",
              "       [ 0.57938515,  0.67151461,  0.64648548,  0.56992063,  0.16228913,\n",
              "         0.86324198,  0.93914187,  0.79196536,  0.9181341 ,  1.        ,\n",
              "         0.91081257,  0.65542452,  0.71120775,  0.84562395,  0.74517826],\n",
              "       [ 0.42834703,  0.89127102,  0.71396796,  0.7534369 ,  0.40923896,\n",
              "         0.62224343,  0.90647271,  0.95850065,  0.84132464,  0.91081257,\n",
              "         1.        ,  0.86869722,  0.74801693,  0.86103729,  0.88303352],\n",
              "       [-0.0546202 ,  0.85762717,  0.8817905 ,  0.74849431,  0.63179284,\n",
              "         0.41022583,  0.59319922,  0.93689389,  0.74906587,  0.65542452,\n",
              "         0.86869722,  1.        ,  0.86755876,  0.72446988,  0.8075056 ],\n",
              "       [-0.15469834,  0.62067326,  0.98351917,  0.48695136,  0.52917063,\n",
              "         0.71619734,  0.49984485,  0.79003023,  0.91345983,  0.71120775,\n",
              "         0.74801693,  0.86755876,  1.        ,  0.65215937,  0.68237827],\n",
              "       [ 0.49490307,  0.57184048,  0.68691956,  0.89310787, -0.0391905 ,\n",
              "         0.60292194,  0.87698016,  0.71833335,  0.74474592,  0.84562395,\n",
              "         0.86103729,  0.72446988,  0.65215937,  1.        ,  0.52279309],\n",
              "       [ 0.22492872,  0.96671859,  0.59539159,  0.44028313,  0.74060557,\n",
              "         0.49645061,  0.69674225,  0.95152217,  0.73926147,  0.74517826,\n",
              "         0.88303352,  0.8075056 ,  0.68237827,  0.52279309,  1.        ]])"
            ]
          },
          "metadata": {},
          "execution_count": 193
        }
      ]
    },
    {
      "cell_type": "code",
      "metadata": {
        "id": "EGYeGgziKVNj"
      },
      "source": [
        "#Atributos Candidatos\n",
        "L = 0.1\n",
        "_, sf = matrizCorr_Select(l, L)"
      ],
      "execution_count": 202,
      "outputs": []
    },
    {
      "cell_type": "code",
      "metadata": {
        "colab": {
          "base_uri": "https://localhost:8080/"
        },
        "id": "RjxgQFSH1mYF",
        "outputId": "ee1f6b5a-4b4c-4af1-d14c-00d45fada915"
      },
      "source": [
        "#Pares de atributos dentro da regra do algoritmo\n",
        "sf"
      ],
      "execution_count": 203,
      "outputs": [
        {
          "output_type": "execute_result",
          "data": {
            "text/plain": [
              "[(0, 11, -0.054620204294228134),\n",
              " (3, 4, 0.03857173916399009),\n",
              " (4, 3, 0.03857173916399009),\n",
              " (4, 5, 0.058247917098142206),\n",
              " (4, 6, 0.04020738337371342),\n",
              " (4, 13, -0.03919050421130269),\n",
              " (5, 4, 0.058247917098142206),\n",
              " (6, 4, 0.04020738337371343),\n",
              " (11, 0, -0.054620204294228134),\n",
              " (13, 4, -0.03919050421130269)]"
            ]
          },
          "metadata": {},
          "execution_count": 203
        }
      ]
    },
    {
      "cell_type": "code",
      "metadata": {
        "colab": {
          "base_uri": "https://localhost:8080/"
        },
        "id": "c75pCRZn4Fmw",
        "outputId": "f7422063-4f7c-47bd-ad15-34b9012bda3c"
      },
      "source": [
        "#Atributos (lags) selecionadas para o modelo\n",
        "f = selectCand(sf)\n",
        "f"
      ],
      "execution_count": 204,
      "outputs": [
        {
          "output_type": "execute_result",
          "data": {
            "text/plain": [
              "{0, 3, 4, 5, 6, 11, 13}"
            ]
          },
          "metadata": {},
          "execution_count": 204
        }
      ]
    },
    {
      "cell_type": "code",
      "metadata": {
        "colab": {
          "base_uri": "https://localhost:8080/"
        },
        "id": "ehyuBCZ_lieX",
        "outputId": "ef84e004-e996-4511-c000-104521d15719"
      },
      "source": [
        "len(f)"
      ],
      "execution_count": 205,
      "outputs": [
        {
          "output_type": "execute_result",
          "data": {
            "text/plain": [
              "7"
            ]
          },
          "metadata": {},
          "execution_count": 205
        }
      ]
    },
    {
      "cell_type": "markdown",
      "metadata": {
        "id": "bhN3uOPlCMKl"
      },
      "source": [
        "# Referências:\n",
        "\n",
        "https://github.com/janiosl/python.ds/blob/master/estatistica/estatistica_basica.ipynb\n",
        "\n",
        "https://github.com/MLRG-CEFET-RJ/ml-class/blob/master/ml_ppcic_dim_reduc.ipynb"
      ]
    }
  ]
}