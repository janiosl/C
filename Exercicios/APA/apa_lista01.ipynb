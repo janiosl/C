{
 "cells": [
  {
   "cell_type": "markdown",
   "id": "stock-turning",
   "metadata": {},
   "source": [
    "# **CEFET-RJ**\n",
    "\n",
    "**Programa de Pós-Gradução em Ciência da Computação - PPCIC**\n",
    "\n",
    "**Mestrado em Ciência da Computação**\n",
    "\n",
    "**Disciplina: Análise e Projeto de Algoritmos - 2021/2**\n",
    "\n",
    "* **Exercícios 01**\n",
    "* **Prof.: Diego Nunes Brandão**\n",
    "* **Aluno: Janio de Souza Lima**\n",
    "\n",
    "---"
   ]
  },
  {
   "cell_type": "markdown",
   "id": "metric-uzbekistan",
   "metadata": {},
   "source": [
    "## Parte 1 - Análise de Complexidade"
   ]
  },
  {
   "cell_type": "markdown",
   "id": "characteristic-management",
   "metadata": {},
   "source": [
    "### 1 "
   ]
  },
  {
   "cell_type": "markdown",
   "id": "geological-provincial",
   "metadata": {},
   "source": [
    "a) $f(n)$ é $O(1)$: \n",
    "A complexidade de $f(n)$ para o pior caso é de ordem $0$ em relação à entrada. Podemos dizer também que significa que o algoritmo representado por $f(n)$ é um algoritmo ótimo para o problema.\n",
    "\n",
    "b) $f(n)$ é $\\theta(1)$: \n",
    "Indica que $f(n)$ é limitada por $n^0$, ou seja, $0 \\leq c1 \\times n^0 \\leq c2 \\times n^0$\n",
    "\n",
    "c) $f(n)$ é $n^{O(1)}$: \n",
    "Esta expressão não faz sentido no contexto de análise de complexidade, tendo em vista que a solução levaria a afirmar que f(n) é n."
   ]
  },
  {
   "cell_type": "markdown",
   "id": "strategic-might",
   "metadata": {},
   "source": [
    "### 4"
   ]
  },
  {
   "cell_type": "markdown",
   "id": "directed-blood",
   "metadata": {},
   "source": [
    "**Busca binária recursiva**:\n",
    "* **Algoritmo**:\n",
    "\n",
    "```\n",
    "\n",
    "```\n",
    "\n",
    "* **Complexidade**: $O(log_2 n)$\n"
   ]
  },
  {
   "cell_type": "markdown",
   "id": "artificial-advocate",
   "metadata": {},
   "source": [
    "**Busca binária não recursiva**:\n",
    "* **Algoritmo**:\n",
    "```\n",
    "início = 1\n",
    "final = tamanho do vetor de Itens A\n",
    "ENQUANTO início <= final\n",
    "        i = DIV((início + final), 2)\n",
    "        SE A[i] == item ENTÃO\n",
    "                RETORNE i\n",
    "        FIM SE\n",
    "        SE A[i] < item ENTÃO\n",
    "                início = i + 1\n",
    "        SENÃO\n",
    "                final = i\n",
    "        FIM SE\n",
    "FIM ENQUANTO\n",
    "RETORNE -1\n",
    "\n",
    "```\n",
    "\n",
    "\n",
    "* **Complexidade**: $O(log_2 n)$"
   ]
  },
  {
   "cell_type": "markdown",
   "id": "phantom-spelling",
   "metadata": {},
   "source": [
    "## Parte 2 - Revisão de Programação Básica"
   ]
  },
  {
   "cell_type": "markdown",
   "id": "fatal-elite",
   "metadata": {},
   "source": [
    "## 5 "
   ]
  },
  {
   "cell_type": "markdown",
   "id": "curious-timothy",
   "metadata": {},
   "source": [
    "\n",
    "Código com resposta disponível em anexo no arquivo apa01_05_read_text.c e cópia no repositório: https://github.com/janiosl/C/blob/master/Exercicios/APA/apa01_05_read_text.c\n",
    "\n",
    "A célula abaixo reproduz o código, contudo não pode ser executada corretamente neste notebook, tendo em vista limitação da ferramentação para interação com prompt ou com leitura de arquivos, por isso, anexamos a imagem com a demonstração da compilação e execução do programa.\n",
    "\n",
    "![](https://github.com/janiosl/C/blob/master/Exercicios/APA/apa01_05_Exec.png?raw=true)"
   ]
  },
  {
   "cell_type": "code",
   "execution_count": null,
   "id": "varying-longitude",
   "metadata": {},
   "outputs": [],
   "source": [
    "#include <stdio.h>\n",
    "#include <stdlib.h>\n",
    "\n",
    "int count_v(char text[]){\n",
    "    /*\n",
    "    Função realiza a contagem de vogais em um texto recebido\n",
    "    ---------------------------------------------------------------------------------\n",
    "    */\n",
    "\n",
    "    /*Variáveis para identificação e contagem das vogais*/\n",
    "    char v[10] = \"AaEeIiOoUu\";\n",
    "    int c = 0;\n",
    "\n",
    "    /*Variáveis de controle dos loops e condições*/\n",
    "    int i, j;\n",
    "\n",
    "    /*Para cada letra do texto até seu final (\\0) */\n",
    "    for (i = 0; text[i] != '\\0'; i++){\n",
    "        /*Para cada vogal*/\n",
    "        for (j = 0; v[j] != '\\0'; j++){\n",
    "            /*Se a j-ésima vogal for igual à i-ésima letra adiciona 1 a variável c*/\n",
    "            if (v[j] == text[i]) {\n",
    "                c ++;\n",
    "                break;\n",
    "            }\n",
    "        }\n",
    "    }\n",
    "    return c;\n",
    "}\n",
    "\n",
    "int main(){\n",
    "    /*\n",
    "    Programa recebe um texto, conta suas vogais e exibe o resultado\n",
    "    ---------------------------------------------------------------------------------\n",
    "    Para receber texto via arquivo o programa deve ser executado com a sintaxe:\n",
    "    read_text < [arquivo.txt]\n",
    "    * read_text é o nome sugerido para o programa compilado\n",
    "    * [arquivo.txt] deve ser substituído pelo arquivo contendo o texto para análise\n",
    "    ---------------------------------------------------------------------------------\n",
    "    A saída exibirá o texto contido no arquivo e a quantidade de vogais identificadas\n",
    "    Se o arquivo não for passado o programa aguardará a digitação pelo usuário.\n",
    "    */\n",
    "\n",
    "    /*Variáveis para receber texto e gravar resultado*/\n",
    "    char text[100];\n",
    "    int result;\n",
    "\n",
    "    /*Leitura do texto*/\n",
    "    scanf(\"%99[^\\n]\", text);\n",
    "    \n",
    "    /*Execução da função e exibição do resultado*/\n",
    "    result = count_v(text);\n",
    "    printf(\"Texto recebido:\\n%s\\nVogais identificadas: %i\\n\", text, result);\n",
    "\n",
    "    return 0;\n",
    "}"
   ]
  },
  {
   "cell_type": "markdown",
   "id": "enabling-dover",
   "metadata": {},
   "source": [
    "## Parte 3 - Programação com Estrutura de Dados"
   ]
  },
  {
   "cell_type": "code",
   "execution_count": null,
   "id": "biblical-bronze",
   "metadata": {},
   "outputs": [],
   "source": []
  }
 ],
 "metadata": {
  "kernelspec": {
   "display_name": "C",
   "language": "c",
   "name": "c"
  },
  "language_info": {
   "file_extension": ".c",
   "mimetype": "text/plain",
   "name": "c"
  }
 },
 "nbformat": 4,
 "nbformat_minor": 5
}
