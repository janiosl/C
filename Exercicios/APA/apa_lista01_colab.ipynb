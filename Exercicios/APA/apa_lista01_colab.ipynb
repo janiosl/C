{
  "nbformat": 4,
  "nbformat_minor": 0,
  "metadata": {
    "colab": {
      "name": "apa_lista01_colab.ipynb",
      "provenance": [],
      "collapsed_sections": [],
      "authorship_tag": "ABX9TyN1hw5A0fplNYnfEE5kelFK",
      "include_colab_link": true
    },
    "kernelspec": {
      "name": "python3",
      "display_name": "Python 3"
    },
    "language_info": {
      "name": "python"
    }
  },
  "cells": [
    {
      "cell_type": "markdown",
      "metadata": {
        "id": "view-in-github",
        "colab_type": "text"
      },
      "source": [
        "<a href=\"https://colab.research.google.com/github/janiosl/C/blob/master/Exercicios/APA/apa_lista01_colab.ipynb\" target=\"_parent\"><img src=\"https://colab.research.google.com/assets/colab-badge.svg\" alt=\"Open In Colab\"/></a>"
      ]
    },
    {
      "cell_type": "markdown",
      "metadata": {
        "id": "nq-MZjcak6TF"
      },
      "source": [
        "# **CEFET-RJ**\n",
        "\n",
        "**Programa de Pós-Gradução em Ciência da Computação - PPCIC**\n",
        "\n",
        "**Mestrado em Ciência da Computação**\n",
        "\n",
        "**Disciplina: Análise e Projeto de Algoritmos - 2021/2**\n",
        "\n",
        "* **Exercícios 01**\n",
        "* **Prof.: Diego Nunes Brandão**\n",
        "* **Aluno: Janio de Souza Lima**\n",
        "\n",
        "---"
      ]
    },
    {
      "cell_type": "markdown",
      "metadata": {
        "id": "152Mcu53k38H"
      },
      "source": [
        "## Parte 1 - Análise de Complexidade"
      ]
    },
    {
      "cell_type": "markdown",
      "metadata": {
        "id": "8D3-5e8UlAgB"
      },
      "source": [
        "### Questão 1"
      ]
    },
    {
      "cell_type": "markdown",
      "metadata": {
        "id": "FpU-hSKZk1XT"
      },
      "source": [
        "a) $f(n)$ é $O(1)$: \n",
        "A complexidade de $f(n)$ para o pior caso é de ordem $0$ em relação à entrada. Podemos dizer também que significa que o algoritmo representado por $f(n)$ é um algoritmo ótimo para o problema, tendo a constante 1 como limite assintótico superior.\n",
        "\n",
        "b) $f(n)$ é $\\theta(1)$: \n",
        "Indica que $f(n)$ é limitada acima e abaixo por $n^0$, ou seja, $0 \\leq c1 \\times n^0 \\leq c2 \\times n^0$. Conforme Cormen et al. [2012] esta representação é usada frequentemente para indicar uma constante em relação a alguma variável.\n",
        "\n",
        "c) $f(n)$ é $n^{O(1)}$: \n",
        "Esta expressão não faz sentido no contexto de análise de complexidade, tendo em vista que a solução levaria a afirmar que f(n) é n."
      ]
    },
    {
      "cell_type": "markdown",
      "metadata": {
        "id": "gNCibs-Y0PQQ"
      },
      "source": [
        "###Questão 2"
      ]
    },
    {
      "cell_type": "markdown",
      "metadata": {
        "id": "S-TxzmoL0S51"
      },
      "source": [
        ""
      ]
    },
    {
      "cell_type": "markdown",
      "metadata": {
        "id": "IzMxeh_h0TYZ"
      },
      "source": [
        "###Questão 3"
      ]
    },
    {
      "cell_type": "markdown",
      "metadata": {
        "id": "M0CFI38Z0XQy"
      },
      "source": [
        ""
      ]
    },
    {
      "cell_type": "markdown",
      "metadata": {
        "id": "Tx590IY8lX2Q"
      },
      "source": [
        "### Questão 4"
      ]
    },
    {
      "cell_type": "markdown",
      "metadata": {
        "id": "WwV3iEe8kpKM"
      },
      "source": [
        "**Busca binária recursiva**:\n",
        "* **Algoritmo**:\n",
        "\n",
        "```\n",
        "A = vetor de Itens\n",
        "início = 1\n",
        "final = tamanho de A\n",
        "\n",
        "Algoritmo: BuscaBinariaRec\n",
        "Propósito: Encontrar um item, identificado por itemProcurado, em um vetor de itens usando uma busca binária através de recursividade\n",
        "Pré-condição: Dados: vetor, início, final, itemProcurado\n",
        "Retorno: índice do item procurado ou -1 caso o item não esteja na lista\n",
        "\n",
        "BuscaBinariaRec(A, inicio, final, itemProcurado)\n",
        "    i = DIV((início + final), 2)\n",
        "\n",
        "    SE início > final ENTÃO\n",
        "        RETORNO: -1\n",
        "    FIM SE   \n",
        "\n",
        "    SE A[i] == itemProcurado ENTÃO\n",
        "        RETORNO: i\n",
        "    FIM SE\n",
        "\n",
        "    SE A[i] < itemProcurado ENTÃO\n",
        "        RETORNO: BuscaBinariaRec(A, i+1, final, itemProcurado)\n",
        "    SENÃO\n",
        "        RETORNO: BuscaBinariaRec(A, início, i - 1, itemProcurado)\n",
        "    FIM SE\n",
        "```\n",
        "---\n",
        "\n",
        "**Busca binária não recursiva**:\n",
        "* **Algoritmo**:\n",
        "\n",
        "```\n",
        "Algoritmo: BuscaBinaria\n",
        "Propósito: Encontrar um item, identificado por itemProcurado, em um vetor de itens usando uma busca binária através de laço\n",
        "Pré-condição: Dados: vetor, início, final, itemProcurado\n",
        "Retorno: índice do item procurado ou -1 caso o item não esteja na lista\n",
        "\n",
        "A = vetor de Itens\n",
        "início = 1\n",
        "final = tamanho de A\n",
        "\n",
        "ENQUANTO início <= final\n",
        "        i = DIV((início + final), 2)\n",
        "        \n",
        "        SE A[i] == itemProcurado ENTÃO\n",
        "                RETORNO: i\n",
        "        FIM SE\n",
        "        \n",
        "        SE A[i] < itemProcurado ENTÃO\n",
        "                início = i + 1\n",
        "        SENÃO\n",
        "                final = i\n",
        "        FIM SE\n",
        "FIM ENQUANTO\n",
        "RETORNO: -1\n",
        "```\n",
        "\n",
        "---\n",
        "\n",
        "* **Complexidade**: Tanto o algoritmo de **busca binária recursiva** quanto o de **busca binária não recursiva** apresentam complexidade $O(log_2 n)$, tendo em vista que a cada execução o algoritmo reduz o espaço de busca pela metade."
      ]
    },
    {
      "cell_type": "markdown",
      "metadata": {
        "id": "xluMECafyLPD"
      },
      "source": [
        "**Implementação dos códigos**:\n",
        "* Busca binária recursiva\n",
        "```\n",
        "#include <stdio.h>\n",
        "int buscaBinariaRec(int A[], int inicio, int final, int itemProcurado){\n",
        "    /*Aplicação da estratégia de divisão e conquista*/\n",
        "    int i = (inicio + final) / 2;\n",
        "    \n",
        "    /*Resultado se o item não for localizado*/\n",
        "    if (inicio > final){\n",
        "        return -1;\n",
        "    }\n",
        "\n",
        "    /*Retorno do índice do item procurado*/\n",
        "    if (A[i] == itemProcurado){\n",
        "        return i;\n",
        "    }\n",
        "\n",
        "    /*Aplicação da recursividade para chamar a função para cada metade do vetor de itens*/\n",
        "\n",
        "    if (A[i] < itemProcurado){\n",
        "        /*Segue buscando depois do meio*/\n",
        "        return buscaBinariaRec(A, i + 1, final, itemProcurado);\n",
        "    } else {\n",
        "        /*Segue buscando antes do meio*/\n",
        "        return buscaBinariaRec(A, inicio,  i - 1, itemProcurado);\n",
        "    }\n",
        "}\n",
        "int main(){\n",
        "    int A[] = {1,2,3,4,5};                  /*Vetor de itens*/\n",
        "    int inicio = 0;                         /*Início do vetor*/\n",
        "    int final = sizeof(A)/sizeof(A[0]);     /*Tamanho do vetor*/\n",
        "    int result;                             /*Índice de localização do item procurado*/\n",
        "    \n",
        "    /*Aplicação da função*/\n",
        "    int itemProcurado = 3;\n",
        "    result = buscaBinariaRec(A, inicio, final, itemProcurado);\n",
        "    \n",
        "    /*Exibição do resultado na tela*/\n",
        "    printf(\"Item procurado: %i\\n\", itemProcurado);\n",
        "    if (result == -1){\n",
        "        puts(\"Item não localizado\\n\");\n",
        "    } else {\n",
        "        printf(\"Indice do item procurado no vetor de itens: %i\\n\", result);\n",
        "    }\n",
        "    \n",
        "    return 0;\n",
        "}\n",
        "```\n",
        "\n",
        "Em função de limitações da plataforma, este código não pode ser executado diretamente nesse notebook, mas uma cópia compilável está disponível no repositório abaixo e a imagem a seguir exibe algumas demonstrações de sua execução.\n",
        "\n",
        "https://github.com/janiosl/C/blob/master/Exercicios/APA/apa01_04_buscaRec.c\n",
        "\n",
        "![](https://github.com/janiosl/C/blob/master/Exercicios/APA/apa01_04_Rec.png?raw=true)"
      ]
    },
    {
      "cell_type": "markdown",
      "metadata": {
        "id": "CErTeuN9ysWx"
      },
      "source": [
        "* Busca binária não recursiva\n",
        "```\n",
        "#include <stdio.h>\n",
        "int buscaBinaria(int A[], int inicio, int final, int itemProcurado){\n",
        "    while (inicio <= final){\n",
        "        /*Aplicação da estratégia de divisão e conquista*/\n",
        "        int i = (inicio + final) / 2;\n",
        "\n",
        "        /*Retorno do índice do item procurado*/\n",
        "        if (A[i] == itemProcurado){\n",
        "            return i;\n",
        "        }\n",
        "\n",
        "        /*Aplicação da condição para chamar levar o laço para cada metade do vetor de itens*/\n",
        "        if (A[i] < itemProcurado){\n",
        "            /*Segue buscando depois do meio*/\n",
        "            inicio = i + 1;\n",
        "        } else {\n",
        "            /*Segue buscando antes do meio*/\n",
        "            final = i;\n",
        "        }\n",
        "    }\n",
        "    /*Resultado se o item não for localizado*/\n",
        "    return -1;\n",
        "}\n",
        "int main(){\n",
        "    int A[] = {1,2,3,4,5};                    /*Vetor de itens*/\n",
        "    int inicio = 0;                           /*Início do vetor*/\n",
        "    int tamanho = sizeof(A)/sizeof(A[0]);     /*Tamanho do vetor*/\n",
        "    int final = tamanho - 1;                  /*Final = Tamanho - 1 para controlar o final do laço*/\n",
        "    int result;                               /*Índice de localização do item procurado*/\n",
        "\n",
        "    /*Aplicação da função*/\n",
        "    int itemProcurado = 5;\n",
        "    result = buscaBinaria(A, inicio, final, itemProcurado);\n",
        "    \n",
        "    /*Exibição do resultado na tela*/\n",
        "    printf(\"Item procurado: %i\\n\", itemProcurado);\n",
        "    if (result == -1){\n",
        "        puts(\"Item nao localizado\\n\");\n",
        "    } else {\n",
        "        printf(\"Indice do item procurado no vetor de itens: %i\\n\", result);\n",
        "    }\n",
        "    return 0;\n",
        "}\n",
        "```\n",
        "\n",
        "Em função de limitações da plataforma, este código não pode ser executado diretamente nesse notebook, mas uma cópia compilável está disponível no repositório abaixo e a imagem a seguir exibe algumas demonstrações de sua execução.\n",
        "\n",
        "https://github.com/janiosl/C/blob/master/Exercicios/APA/apa01_04_busca.c\n",
        "\n",
        "![](https://github.com/janiosl/C/blob/master/Exercicios/APA/apa01_04_N_Rec.png?raw=true)"
      ]
    },
    {
      "cell_type": "markdown",
      "metadata": {
        "id": "u8JLqTT7lGCn"
      },
      "source": [
        "##Parte 2 - Revisão de Programação Básica"
      ]
    },
    {
      "cell_type": "markdown",
      "metadata": {
        "id": "P9Cnhs2TlbMa"
      },
      "source": [
        "### Questão 5"
      ]
    },
    {
      "cell_type": "markdown",
      "metadata": {
        "id": "_PUygESilJ4d"
      },
      "source": [
        "Código com resposta disponível em anexo no arquivo apa01_05_read_text.c e cópia no repositório: https://github.com/janiosl/C/blob/master/Exercicios/APA/apa01_05_read_text.c\n",
        "\n",
        "A célula abaixo reproduz o código, contudo não pode ser executada corretamente neste notebook, tendo em vista limitação da ferramentação para interação com prompt ou com leitura de arquivos, por isso, anexamos a imagem com a demonstração da compilação e execução do programa.\n",
        "\n",
        "![](https://github.com/janiosl/C/blob/master/Exercicios/APA/apa01_05_Exec.png?raw=true)"
      ]
    },
    {
      "cell_type": "markdown",
      "metadata": {
        "id": "_2Wz4NpOlLXv"
      },
      "source": [
        "```\n",
        "#include <stdio.h>\n",
        "#include <stdlib.h>\n",
        "\n",
        "int count_v(char text[]){\n",
        "    /*\n",
        "    Função realiza a contagem de vogais em um texto recebido\n",
        "    ---------------------------------------------------------------------------------\n",
        "    */\n",
        "\n",
        "    /*Variáveis para identificação e contagem das vogais*/\n",
        "    char v[10] = \"AaEeIiOoUu\";\n",
        "    int c = 0;\n",
        "\n",
        "    /*Variáveis de controle dos loops e condições*/\n",
        "    int i, j;\n",
        "\n",
        "    /*Para cada letra do texto até seu final (\\0) */\n",
        "    for (i = 0; text[i] != '\\0'; i++){\n",
        "        /*Para cada vogal*/\n",
        "        for (j = 0; v[j] != '\\0'; j++){\n",
        "            /*Se a j-ésima vogal for igual à i-ésima letra adiciona 1 a variável c*/\n",
        "            if (v[j] == text[i]) {\n",
        "                c ++;\n",
        "                break;\n",
        "            }\n",
        "        }\n",
        "    }\n",
        "    return c;\n",
        "}\n",
        "\n",
        "int main(){\n",
        "    /*\n",
        "    Programa recebe um texto, conta suas vogais e exibe o resultado\n",
        "    ---------------------------------------------------------------------------------\n",
        "    Para receber texto via arquivo o programa deve ser executado com a sintaxe:\n",
        "    read_text < [arquivo.txt]\n",
        "    * read_text é o nome sugerido para o programa compilado\n",
        "    * [arquivo.txt] deve ser substituído pelo arquivo contendo o texto para análise\n",
        "    ---------------------------------------------------------------------------------\n",
        "    A saída exibirá o texto contido no arquivo e a quantidade de vogais identificadas\n",
        "    Se o arquivo não for passado o programa aguardará a digitação pelo usuário.\n",
        "    */\n",
        "\n",
        "    /*Variáveis para receber texto e gravar resultado*/\n",
        "    char text[100];\n",
        "    int result;\n",
        "\n",
        "    /*Leitura do texto*/\n",
        "    scanf(\"%99[^\\n]\", text);\n",
        "    \n",
        "    /*Execução da função e exibição do resultado*/\n",
        "    result = count_v(text);\n",
        "    printf(\"Texto recebido:\\n%s\\nVogais identificadas: %i\\n\", text, result);\n",
        "\n",
        "    return 0;\n",
        "}\n",
        "```"
      ]
    },
    {
      "cell_type": "markdown",
      "metadata": {
        "id": "DhuugIZgs83L"
      },
      "source": [
        "###Questão 6"
      ]
    },
    {
      "cell_type": "markdown",
      "metadata": {
        "id": "Rw-edZwVs-is"
      },
      "source": [
        "Código com resposta disponível em anexo no arquivo apa01_06_matPermut.c e cópia no repositório: https://github.com/janiosl/C/blob/master/Exercicios/APA/apa01_06_matPermut.c\n",
        "\n",
        "A célula abaixo reproduz o código, contudo, tendo em vista limitação da ferramentação, anexei a imagem com a demonstração da compilação e execução do programa.\n",
        "\n",
        "![](https://github.com/janiosl/C/blob/master/Exercicios/APA/apa01_06_MatrizPermuta.png?raw=true)"
      ]
    },
    {
      "cell_type": "markdown",
      "metadata": {
        "id": "m8CXBolQtcnm"
      },
      "source": [
        "```\n",
        "#include <stdio.h>\n",
        "#define N 3\n",
        "int verifMatPerm(int matriz[N][N], int tamanho){\n",
        "    int i, j;\n",
        "    i = 0;\n",
        "    j = 0;\n",
        "    int somaGeral = 0;\n",
        "    int somaLinha, somaColuna;\n",
        "    for (i=0; i<tamanho; i++){\n",
        "        somaLinha = 0;\n",
        "        for(j=0; j<tamanho; j++){\n",
        "            if(matriz[i][j] == 1){\n",
        "                somaLinha ++;\n",
        "                somaGeral ++;\n",
        "            }\n",
        "        }\n",
        "        /*Checagem da linha*/\n",
        "        if(somaLinha != 1){\n",
        "            return 0;\n",
        "        }\n",
        "    }\n",
        "    for (j=0; j<tamanho; j++){\n",
        "        somaColuna = 0;\n",
        "        for(i=0; i<tamanho; i++){\n",
        "            if(matriz[i][j] == 1){\n",
        "                somaColuna ++;\n",
        "            }\n",
        "        }\n",
        "        /*Checagem da coluna*/\n",
        "        if(somaColuna != 1){\n",
        "            return 0;\n",
        "        }\n",
        "    }\n",
        "    /*Checagem geral*/\n",
        "    /*Esta checagem geral garante a integridade geral,\n",
        "    mas com as checagens anteriores se torna desnecessária,\n",
        "    por isso está inativa*/\n",
        "    /*\n",
        "    if(somaGeral/tamanho == 1){\n",
        "        return 1;\n",
        "    } else {\n",
        "        return 0;\n",
        "    }*/\n",
        "    /*A função chegará no retorno verdadeiro (1) apenas\n",
        "    se não for terminado antecipadamente pela reprovação\n",
        "    nas checagens das regras de definição da matriz de permutação\n",
        "    =============================================================*/\n",
        "    return 1;\n",
        "}\n",
        "int main(){\n",
        "    int i, j;\n",
        "    int result;\n",
        "    /*Criação das matrizes para teste*/\n",
        "    /*===============================*/\n",
        "    int A[N][N];\n",
        "    /*Criando uma matriz que NÃO atende aos requisitos*/\n",
        "    /*=================================================*/\n",
        "    for (i=0; i<N; i++){\n",
        "        for(j=0; j<N; j++){\n",
        "            A[i][j] = 0;\n",
        "        }\n",
        "    }\n",
        "    /*A matriz abaixo é de permutação*/\n",
        "    /*===============================*/\n",
        "    int B[N][N] = {1,0,0,0,1,0,0,0,1};\n",
        "    /*O exemplo abaixo NÃO é uma matriz de permutação, mas se a lógica\n",
        "    estiver errada será interpretada equivocadamente*/\n",
        "    /*==================================================================*/\n",
        "    int C[N][N] = {1,0,0,1,0,0,1,0,0};\n",
        "    \n",
        "    /*Visualizando as matrizes*/\n",
        "    /*========================*/\n",
        "    puts(\"Matriz A:\");\n",
        "    for ( i=0; i<N; i++ ) {\n",
        "        for ( j=0; j<N; j++ ){\n",
        "            printf (\"%d\", A[ i ][ j ]);\n",
        "        }\n",
        "        puts(\"\");\n",
        "    }\n",
        "    /*Testando a primeira matriz*/\n",
        "    result = verifMatPerm(A, N);\n",
        "    if (result == 1){\n",
        "        puts(\"Matriz de permutacao: Verdadeiro\\n\");\n",
        "    } else {\n",
        "        puts(\"Matriz de permutacao: Falso\\n\");\n",
        "    }\n",
        "    puts(\"Matriz B:\");\n",
        "        for ( i=0; i<3; i++ ) {\n",
        "            for ( j=0; j<3; j++ ){\n",
        "                printf (\"%d\", B[ i ][ j ]);\n",
        "            }\n",
        "            puts(\"\");\n",
        "        }\n",
        "    /*Testando a segunda matriz*/\n",
        "    result = verifMatPerm(B, N);\n",
        "    if (result == 1){\n",
        "        puts(\"Matriz de permutacao: Verdadeiro\\n\");\n",
        "    } else {\n",
        "        puts(\"Matriz de permutacao: Falso\\n\");\n",
        "    }\n",
        "    puts(\"Matriz C:\");\n",
        "    for ( i=0; i<3; i++ ) {\n",
        "        for ( j=0; j<3; j++ ){\n",
        "            printf (\"%d\", C[ i ][ j ]);\n",
        "        }\n",
        "        puts(\"\");\n",
        "    }\n",
        "    /*Testando a terceira matriz*/\n",
        "    result = verifMatPerm(C, N);\n",
        "    if (result == 1){\n",
        "        puts(\"Matriz de permutacao: Verdadeiro\\n\");\n",
        "    } else {\n",
        "        puts(\"Matriz de permutacao: Falso\\n\");\n",
        "    }\n",
        "    return 0;\n",
        "}\n",
        "```"
      ]
    },
    {
      "cell_type": "markdown",
      "metadata": {
        "id": "-3bBfckAlg_j"
      },
      "source": [
        "##Parte 3 - Programação com Estrutura de Dados"
      ]
    },
    {
      "cell_type": "markdown",
      "metadata": {
        "id": "AWFCdJXoF1Ia"
      },
      "source": [
        ""
      ]
    },
    {
      "cell_type": "markdown",
      "metadata": {
        "id": "48tii76Glkih"
      },
      "source": [
        "###Questão 8"
      ]
    },
    {
      "cell_type": "markdown",
      "metadata": {
        "id": "ru7OPdPzlmtt"
      },
      "source": [
        ""
      ]
    },
    {
      "cell_type": "markdown",
      "metadata": {
        "id": "nkSdAatnF2lE"
      },
      "source": [
        "###Questão 12"
      ]
    },
    {
      "cell_type": "markdown",
      "metadata": {
        "id": "P1gnzW_8F4iw"
      },
      "source": [
        "Código com resposta disponível em anexo no arquivo `apa01_12_fatPrimo.c` e cópia no repositório: https://github.com/janiosl/C/blob/master/Exercicios/APA/apa01_12_fatPrimo.c\n",
        "\n",
        "A célula abaixo reproduz o código, contudo, tendo em vista limitação da ferramentação, anexei a imagem com a demonstração da compilação e execução do programa.\n",
        "\n",
        "![](https://github.com/janiosl/C/blob/master/Exercicios/APA/apa01_12_fatPrimo.png?raw=true)"
      ]
    },
    {
      "cell_type": "markdown",
      "metadata": {
        "id": "ogUp4cryGZO_"
      },
      "source": [
        "Os trechos do próprio código contém diversos comentários para explicação das etapas realizadas tanto para implementação da TAD pilha quanto da função para cálculo do fator primo de um dado número.\n",
        "Alguns fatores relevantes a considerar:\n",
        "* Na implementação da TAD as funções estão no mesmo código, mas tanto para este caso quanto para as questões anteriores, seria possível modularizar, deixando um biblioteca separada com as funções e o código fonte do programa principal em arquivos separados para melhor organização e gestão do programa.\n",
        "* A primeira parte (implementação da pilha), apesar de não ser a resposta em si para o problema, permitiu a organização dos dados de maneira adequada e a própria lógica da ordem na qual os itens de uma pilha são estruturados, usando a lógica LIFO (*last in, first out*) facilita o processo de exibição ordenada dos fatores primos calculados.\n",
        "* Tendo em vista o objetivo principal de demonstração e como o cálculo do fator primo seria a última etapa do programa, ao invés de criar uma nova função para visualização dos fatores na ordem inversa, aproveitei a característica inerente a este tipo de TAD que realiza a exclusão do topo da pilha para baixo, apenas acrescentando uma linha de comando para visualização (`printf`) à medida que cada elemento era excluído.\n",
        "* Na prática, a decisão do item anterior, atende a questão didática da exibição, mas elimina os itens da pilha, então em uma situação em produção, esta opção só seria aceitável se a estrutura de dados não fosse ser reaproveitada para outras tarefas.\n"
      ]
    },
    {
      "cell_type": "markdown",
      "metadata": {
        "id": "SJ24Jd9PNKcJ"
      },
      "source": [
        "```\n",
        "#include <stdio.h>\n",
        "#include <stdlib.h>\n",
        "#include <assert.h>\n",
        "int len;\n",
        "/*=========================*/\n",
        "/*Cria a estrutura da pilha*/\n",
        "/*=========================*/\n",
        "struct pilha {\n",
        "    int info;\n",
        "    struct pilha* prox;\n",
        "};\n",
        "typedef struct pilha Pilha;\n",
        "/*==========================================*/\n",
        "/*Função de criação: retorna uma pilha vazia*/\n",
        "/*==========================================*/\n",
        "void pilha_cria(Pilha *plh){\n",
        "    plh->prox = NULL;\n",
        "    len=0;\n",
        "}\n",
        "/*======================================*/\n",
        "/*Função verifica se a pilha está vazia*/\n",
        "/*======================================*/\n",
        "int pilha_vazia(Pilha *plh){\n",
        "    if(plh->prox == NULL){\n",
        "        return 1;\n",
        "    } else {\n",
        "        return 0;\n",
        "    }\n",
        "}\n",
        "/*========================================*/\n",
        "/*Função de inserção de elementos à pilha*/\n",
        "/*========================================*/\n",
        "void pilha_insere(Pilha* plh, int item){\n",
        "    /*Alocação da memória*/\n",
        "    /*Incluir stdlib.h para usar malloc*/\n",
        "    Pilha *novo=(Pilha*)malloc(sizeof(Pilha));\n",
        "    /*Inserção do item novo*/\n",
        "    if(!novo){\n",
        "        puts(\"Sem memoria\\n\");\n",
        "        exit(1);\n",
        "    }else{\n",
        "        novo->info = item;\n",
        "    }\n",
        "    novo->prox = NULL;\n",
        "    if(pilha_vazia(plh)){\n",
        "        plh->prox = novo;\n",
        "    } else{\n",
        "        Pilha *t = plh->prox;\n",
        "        while(t->prox != NULL){\n",
        "            t = t->prox;\n",
        "        }\n",
        "        t->prox = novo;\n",
        "    }\n",
        "    len ++;\n",
        "}\n",
        "/*========================================*/\n",
        "/*Função de exclusão de elementos da pilha*/\n",
        "/*========================================*/\n",
        "Pilha* pilha_exclui(Pilha* plh){\n",
        "    if(plh->prox == NULL){\n",
        "        puts(\"Pilha vazia!\");\n",
        "        return NULL;\n",
        "    } else{\n",
        "        /*Variáveis de apoio para percorrer pilha*/\n",
        "        Pilha *u = plh->prox; /*Último item*/\n",
        "        Pilha *pu = plh;      /*Penúlmtimo item*/\n",
        "        /*Lógica para ajustar posição dos itens*/\n",
        "        while(u->prox != NULL){\n",
        "            pu = u;\n",
        "            u = u->prox;\n",
        "        }\n",
        "        pu->prox = NULL;\n",
        "        len --;\n",
        "        printf(\"%i\", u->info);\n",
        "        return u;\n",
        "    }\n",
        "}\n",
        "/*==================================================*/\n",
        "/*Função de impressão: imprime valores dos elementos*/\n",
        "/*==================================================*/\n",
        "void pilha_imprime(Pilha *plh){\n",
        "    puts(\"\\nVisualizar itens da pilha:\");\n",
        "    if(pilha_vazia(plh)){\n",
        "        puts(\"Pilha vazia!\");\n",
        "        return;\n",
        "    }\n",
        "    Pilha *p, *t; /*p = próximo; t = tual*/\n",
        "    t = plh->prox;\n",
        "    while(t != NULL){\n",
        "        p = t->prox;\n",
        "        printf(\"%i\\n\", t->info);\n",
        "        t = p;\n",
        "    }\n",
        "}\n",
        "/*==================================================*/\n",
        "/*Função libera: libera a pilha completa da memória */\n",
        "/*==================================================*/\n",
        "void pilha_liberar(Pilha *plh){\n",
        "    /*Executa a lógica apenas se a pilha não estiver vazia*/\n",
        "    if(!pilha_vazia(plh)){\n",
        "        /*Variáveis auxiliares para percorrer a pilha*/\n",
        "        Pilha *p, *t; /* p = Próximo; t = Atual*/\n",
        "        t = plh->prox;\n",
        "        while(t != NULL){\n",
        "            p = t->prox;\n",
        "            free(t);\n",
        "            t = p;\n",
        "        }\n",
        "    }\n",
        "}\n",
        "/*======================================*/\n",
        "/*Função de identificação do fator primo*/\n",
        "/*======================================*/\n",
        "Pilha* fatPrimo(int n){\n",
        "    printf(\"Fatores primos para %i\\n\", n);\n",
        "    /*Cria uma pilha para manipular os fatores*/\n",
        "    Pilha *fatores = (Pilha*)malloc(sizeof(Pilha));\n",
        "    pilha_cria(fatores);\n",
        "    /*Aplica o cálculo dos fatores*/\n",
        "    int d = 2; /*Inicia pelo menor fator (2)*/\n",
        "    /*Lógica para cálculo*/\n",
        "    while(d * d <= n){\n",
        "        /*Verifica se o resto da divisão é zero*/\n",
        "        while(n % d == 0){\n",
        "            n = n / d;\n",
        "            /*Adiciona cada fator à pilha*/\n",
        "            pilha_insere(fatores, d);\n",
        "        }\n",
        "        d++;\n",
        "    }\n",
        "    /*Evita a inclusão do 1 na pilha de fatores*/\n",
        "    if(n>1){\n",
        "        assert(d <= n);\n",
        "        pilha_insere(fatores, n);\n",
        "    }\n",
        "    /*Exibe os fatores calculados*/\n",
        "    /*pilha_imprime(fatores);*/\n",
        "    return fatores;\n",
        "}\n",
        "/*==================*/\n",
        "/*Programa principal*/\n",
        "/*==================*/\n",
        "int main(){\n",
        "    /*Cria uma pilha vazia*/\n",
        "    puts(\"Iniciando a pilha...\");\n",
        "    Pilha *pilha = (Pilha*)malloc(sizeof(Pilha));\n",
        "    pilha_cria(pilha);\n",
        "    /*Teste a lógica de exclusão e verifica se a pilha está vazia*/\n",
        "    printf(\"Removendo da pilha item: \");\n",
        "    pilha_exclui(pilha);\n",
        "    puts(\"Verificar pilha vazia:\\n1 = Vazia; 0 = Com elementos\");\n",
        "    int verifica;\n",
        "    verifica = pilha_vazia(pilha);\n",
        "    printf(\"Vazia? %i\\n\\n\", verifica);\n",
        "    pilha_imprime(pilha);\n",
        "    /*Insere itens na pilha*/\n",
        "    puts(\"Inserindo itens na pilha...\");\n",
        "    pilha_insere(pilha, 12);\n",
        "    pilha_insere(pilha, 24);\n",
        "    pilha_insere(pilha, 36);\n",
        "    pilha_insere(pilha, 72);\n",
        "    /*Teste a lógica de exclusão e verifica se a pilha está vazia*/\n",
        "    puts(\"Verificar pilha vazia:\\n1 = Vazia; 0 = Com elementos\");\n",
        "    verifica = pilha_vazia(pilha);\n",
        "    printf(\"Vazia? %i\\n\\n\", verifica);\n",
        "    pilha_imprime(pilha);\n",
        "    /*Teste a lógica de exclusão na pilha com elementos*/\n",
        "    printf(\"Removendo da pilha item: \");\n",
        "    pilha_exclui(pilha);\n",
        "    pilha_imprime(pilha);\n",
        "    /*Libera a memória*/\n",
        "    pilha_liberar(pilha);\n",
        "    printf(\"Vazia? %i\\n\\n\", verifica);\n",
        "    /*--------------------------------------\n",
        "    ATENÇÃO: As etapas anteriores foram usadas\n",
        "    para testar o funcionamento da TAD pilha\n",
        "    *** A seguir é usada esta TAD junto com a\n",
        "    função fatPrimo para realizar a identificação\n",
        "    do fator primo de um numero qualquer.\n",
        "    ----------------------------------------*/\n",
        "    int n;\n",
        "    puts(\"-----------------------\");\n",
        "    puts(\"Identificar fator primo\");\n",
        "    puts(\"-----------------------\");\n",
        "    printf(\"Digite um numero: \");\n",
        "    scanf(\"%i\", &n);\n",
        "    Pilha* fp;\n",
        "    fp = fatPrimo(n);\n",
        "    /*Eliminação dos elementos e exibição na tela no formato requisitado*/\n",
        "    while(1){\n",
        "        pilha_exclui(fp);\n",
        "        if(fp->prox == NULL){\n",
        "            break;\n",
        "        }\n",
        "        printf(\" * \");\n",
        "    }\n",
        "    /*Como a eliminaçaõ acima é feita na ordem inversa,\n",
        "    ou seja, do topo da pilha até o final, conseguimos \n",
        "    visualizar a ordem desejada dos itens*/\n",
        "    pilha_liberar(fp);\n",
        "    return 0;\n",
        "}\n",
        "```"
      ]
    },
    {
      "cell_type": "markdown",
      "metadata": {
        "id": "_GcoR1WQBMzc"
      },
      "source": [
        "##Referência"
      ]
    },
    {
      "cell_type": "markdown",
      "metadata": {
        "id": "a7i6zKXNBPjz"
      },
      "source": [
        "Thomas H. Cormen, Charles E. Leiserson, Ronald. L. Rivest, Clifford Stein. **Algoritmos**: teoria e prática. Elsevier, 2012.\n",
        "\n",
        "Behrouz Forouzan, Firouz Mosharraf. **Fundamentos de Ciência da Computação**. Cengage, 2017."
      ]
    }
  ]
}