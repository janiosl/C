{
  "nbformat": 4,
  "nbformat_minor": 0,
  "metadata": {
    "colab": {
      "name": "apa_lista02.ipynb",
      "provenance": [],
      "collapsed_sections": [],
      "toc_visible": true,
      "authorship_tag": "ABX9TyPdy78PWXjLLrmsl8pOhT8N",
      "include_colab_link": true
    },
    "kernelspec": {
      "name": "python3",
      "display_name": "Python 3"
    },
    "language_info": {
      "name": "python"
    }
  },
  "cells": [
    {
      "cell_type": "markdown",
      "metadata": {
        "id": "view-in-github",
        "colab_type": "text"
      },
      "source": [
        "<a href=\"https://colab.research.google.com/github/janiosl/C/blob/master/Exercicios/APA/apa_lista02.ipynb\" target=\"_parent\"><img src=\"https://colab.research.google.com/assets/colab-badge.svg\" alt=\"Open In Colab\"/></a>"
      ]
    },
    {
      "cell_type": "markdown",
      "metadata": {
        "id": "dJCAG_AFVmb6"
      },
      "source": [
        "# **CEFET-RJ**\n",
        "\n",
        "**Programa de Pós-Gradução em Ciência da Computação - PPCIC**\n",
        "\n",
        "**Mestrado em Ciência da Computação**\n",
        "\n",
        "**Disciplina: Análise e Projeto de Algoritmos - 2021/2**\n",
        "\n",
        "* **Exercícios 02**\n",
        "* **Prof.: Diego Nunes Brandão**\n",
        "* **Aluno: Janio de Souza Lima**\n",
        "\n",
        "---\n",
        "\n",
        "Uma versão online para facilitar a leitura desse notebook foi disponibilizada em: https://github.com/janiosl/C/blob/master/Exercicios/APA/apa_lista02.ipynb"
      ]
    },
    {
      "cell_type": "markdown",
      "metadata": {
        "id": "HGm4yMfiuBLm"
      },
      "source": [
        "## **Questão 1**: Quantos antecedentes tem um nó no nível $n$ em uma árvore binária? Prove!"
      ]
    },
    {
      "cell_type": "markdown",
      "metadata": {
        "id": "6TPmQfkuuT_Z"
      },
      "source": [
        "Como o nível de um nó é sempre o nível de seu pai + 1, podemos dizer que o nível a quantidade de antecedentes de um nó de nível $n$ é $n-1$, o que equivale ao nível de seu pai."
      ]
    },
    {
      "cell_type": "markdown",
      "metadata": {
        "id": "zpwpx6jp1nuk"
      },
      "source": [
        "## **Questão 2**: Escreva um programa que implementa funções para:"
      ]
    },
    {
      "cell_type": "markdown",
      "metadata": {
        "id": "hgr70KBC1sf5"
      },
      "source": [
        "O código com a implementação do TAD árvore binária e as funções para atendimento às questões abaixo está disponível no anexo `apa02_02_arvBin.c` e no repositório: https://github.com/janiosl/C/blob/master/Exercicios/APA/apa02_02_arvBin.c\n",
        "\n",
        "Abaixo de cada questão está a demonstração da execução do programa com o atendimento ao passo desejado.\n",
        "\n",
        "a) contar o número de nós em uma árvore binária;\n",
        "\n",
        "b) o número de folhas;\n",
        "\n",
        "c) o número de filhos à direita;\n",
        "\n",
        "d) a altura da árvore.\n",
        "\n",
        "\n",
        "![](https://github.com/janiosl/C/blob/master/Exercicios/APA/apa02_02_arvBin_A.PNG?raw=true)"
      ]
    },
    {
      "cell_type": "markdown",
      "metadata": {
        "id": "bKQFHlWFTeBs"
      },
      "source": [
        "* **Código com a implementação:**\n",
        "\n",
        "```\n",
        "#include <stdio.h>\n",
        "#include <stdlib.h>\n",
        "/*------------------\n",
        "TAD - Árvore Binária\n",
        "------------------*/\n",
        "struct arv{\n",
        "    char info;\n",
        "    struct arv* esq;\n",
        "    struct arv* dir;\n",
        "};typedef struct arv Arv;\n",
        "/*----------------------------------------\n",
        "Funções para manipulação da Árvore Binária\n",
        "----------------------------------------*/\n",
        "Arv* arv_criavazia(void){\n",
        "    //Cria a árvore vazia\n",
        "    return NULL;\n",
        "}\n",
        "int arv_vazia(Arv* a){\n",
        "    //Verifica se a árvore é vazia\n",
        "    return a==NULL;\n",
        "}\n",
        "Arv* arv_cria(char c, Arv* sae, Arv* sad){\n",
        "    /*Cria a árvore com um nós\n",
        "    e as sub-árvores sae e sad*/\n",
        "    Arv* p=(Arv*)malloc(sizeof(Arv));\n",
        "    p->info = c;\n",
        "    p->esq = sae;\n",
        "    p->dir = sad;\n",
        "    return p;\n",
        "}\n",
        "Arv* arv_libera(Arv* a){\n",
        "    //Libera a árvore da memória\n",
        "    if (!arv_vazia(a)){\n",
        "        arv_libera(a->esq); /* libera sae */\n",
        "        arv_libera(a->dir); /* libera sad */\n",
        "        free(a);            /* libera raiz */\n",
        "    }\n",
        "    return NULL;\n",
        "}\n",
        "/*----------------------------------------\n",
        "Funções análise da Árvore Binária\n",
        "----------------------------------------*/\n",
        "void arv_imprime (Arv* a){\n",
        "    //Imprime as informações da árvore\n",
        "    printf(\"<\");\n",
        "    if (!arv_vazia(a)){\n",
        "        printf(\"%c \", a->info); /* mostra raiz */\n",
        "        arv_imprime(a->esq);    /* mostra sae */\n",
        "        arv_imprime(a->dir);    /* mostra sad */\n",
        "    }\n",
        "    printf(\">\");\n",
        "}\n",
        "int arv_conta_nos(Arv* a){\n",
        "    //Conta a quantidade de nós da árvore\n",
        "\tif(!a)\n",
        "\t\treturn 0;\n",
        "\telse\n",
        "\t\treturn 1+ arv_conta_nos(a->esq)+arv_conta_nos(a->dir);\n",
        "}\n",
        "int arv_num_folhas(Arv *a){\n",
        "    //Conta quantidade de folhas\n",
        "    int nf;\n",
        "    nf = 0;\n",
        "    //Verifica se a arvore é vazia\n",
        "    if(!arv_vazia(a)){\n",
        "        if(arv_vazia(a->esq) && arv_vazia(a->dir)){\n",
        "            nf ++;\n",
        "        } else{\n",
        "            nf = nf + arv_num_folhas(a->esq);\n",
        "            nf = nf + arv_num_folhas(a->dir);\n",
        "        }\n",
        "        return nf;\n",
        "    }\n",
        "    return 0;\n",
        "}\n",
        "int arv_filhos_direita(Arv *a){\n",
        "    //Conta quantidade de filhos à direita\n",
        "    return 0;\n",
        "}\n",
        "int arv_altura(Arv *a){\n",
        "    //Calcula a altura da árvore\n",
        "    return 0;\n",
        "}\n",
        "/*------------------\n",
        "Programa principal\n",
        "------------------*/\n",
        "int main(){\n",
        "    /* sub-árvore 'd' */\n",
        "    Arv* a1= arv_cria('d',arv_criavazia(),arv_criavazia());\n",
        "    /* sub-árvore 'b' */\n",
        "    Arv* a2= arv_cria('b',arv_criavazia(),a1);\n",
        "    /* sub-árvore 'e' */\n",
        "    Arv* a3= arv_cria('e',arv_criavazia(),arv_criavazia());\n",
        "    /* sub-árvore 'f' */\n",
        "    Arv* a4= arv_cria('f',arv_criavazia(),arv_criavazia());\n",
        "    /* sub-árvore 'c' */\n",
        "    Arv* a5= arv_cria('c',a3,a4);\n",
        "    /* árvore 'a' */\n",
        "    Arv* a = arv_cria('a',a2,a5);\n",
        "    /*Analisando arvore completa*/\n",
        "    puts(\"Visualizacao da arvore a:\");\n",
        "    puts(\"-----------------------------------------\");\n",
        "    arv_imprime(a);\n",
        "    puts(\"\\n=========================================\");\n",
        "    int nos;\n",
        "    int folhas;\n",
        "    nos = arv_conta_nos(a);\n",
        "    folhas = arv_num_folhas(a);\n",
        "    printf(\"Nos: %d\\nFolhas: %d\\n\\n\", nos, folhas);\n",
        "    /*Analisando a subárvore arvore c*/\n",
        "    puts(\"Visualizacao da arvore c:\");\n",
        "    puts(\"-----------------------------------------\");\n",
        "    arv_imprime(a5);\n",
        "    puts(\"\\n=========================================\");\n",
        "    nos = arv_conta_nos(a5);\n",
        "    folhas = arv_num_folhas(a5);\n",
        "    printf(\"Nos: %d\\nFolhas: %d\\n\\n\", nos, folhas);\n",
        "    /*Analisando uma árvore vazia*/\n",
        "    Arv* vazia = arv_criavazia();\n",
        "    puts(\"Visualizacao da arvore vazia:\");\n",
        "    puts(\"-----------------------------------------\");\n",
        "    nos = arv_conta_nos(vazia);\n",
        "    arv_imprime(vazia);\n",
        "    puts(\"\\n=========================================\");\n",
        "    folhas = arv_num_folhas(vazia);\n",
        "    printf(\"Nos: %d\\nFolhas: %d\\n\\n\", nos, folhas);\n",
        "    return 0;\n",
        "}\n",
        "```"
      ]
    },
    {
      "cell_type": "markdown",
      "metadata": {
        "id": "9iGtKcqXUS07"
      },
      "source": [
        "##3"
      ]
    },
    {
      "cell_type": "markdown",
      "metadata": {
        "id": "RmXFpuTeUU7J"
      },
      "source": [
        "##4"
      ]
    },
    {
      "cell_type": "markdown",
      "metadata": {
        "id": "LnSDrEkkUUgA"
      },
      "source": [
        "## **Questão 5**: Observando cada um dos caracteres que formam a palavra C O M P U T A Ç Ã O. Crie uma tabela de dispersão (hash table) que armazene cada um destes caracteres, utilizando a seguinte função: $h(char) = (ordem de char no alfabeto)\\%5$.\n",
        "\n",
        "Desenhe o esquema de como ficaram a hash table e as listas encadeadas."
      ]
    },
    {
      "cell_type": "code",
      "metadata": {
        "id": "O4XoIZXYHcIU"
      },
      "source": [
        "def ordem(char):\n",
        "  \"\"\"\n",
        "  Função identifica a ordem alfabética de uma letra\n",
        "  Argumentos:\n",
        "      str char => Letra a ser analisada\n",
        "  Retorno:\n",
        "      int ord => Posição da letra no alfabeto (começando em 1)\n",
        "  \"\"\"\n",
        "  #Tratamento de minúscula\n",
        "  c = char.upper()\n",
        "\n",
        "  #Tratamento de caracteres latinos e acentos\n",
        "  if c == \"Ç\":\n",
        "    c = 'C'\n",
        "  elif c in 'ÃÁÀÂÄ':\n",
        "    c = 'A'\n",
        "  elif c in 'ÉÈÊË':\n",
        "    c = 'E'\n",
        "  elif c in 'ÍÌÎÏ':\n",
        "    c = 'I'\n",
        "  elif c in 'ÕÓÒÔÖ':\n",
        "    c = 'O'\n",
        "  elif c in 'ÚÙÛÜ':\n",
        "    c = 'U'\n",
        "  elif c in 'Ñ':\n",
        "    c = 'N'\n",
        "\n",
        "  #Função hash\n",
        "  #Define a ordem da letra no alfabeto\n",
        "  alfa = 'ABCDEFGHIJKLMNOPQRSTUVWXYZ'\n",
        "  ord = alfa.find(c)+1\n",
        "\n",
        "  return ord\n",
        "\n",
        "\n",
        "def h(char, ord):\n",
        "  \"\"\"\n",
        "  Função Calcula a função hash para definir a posição da letra na tabela\n",
        "  Argumentos:\n",
        "      str char => Letra a ser analisada\n",
        "      int ord => Ordem da letra no alfabeto\n",
        "  Retorno:\n",
        "      dict hash => Dicionário contendo:\n",
        "          str char => Letra analisada\n",
        "          int pos => Calculada baseada na função h(char) = (ordem alfabética)%5\n",
        "  \"\"\"\n",
        "  pos = int(ord % 5)\n",
        "  hash = {pos: char}\n",
        "\n",
        "  return hash"
      ],
      "execution_count": null,
      "outputs": []
    },
    {
      "cell_type": "code",
      "metadata": {
        "id": "cT8sbLNgIl6J"
      },
      "source": [
        "#Teste da aplicação da função coma diferentes grafias da mesma palavra\n",
        "palavra = 'COMPUTAÇÃO'\n",
        "#palavra = 'COmPUTAÇÃO'\n",
        "#palavra = 'computação'"
      ],
      "execution_count": null,
      "outputs": []
    },
    {
      "cell_type": "code",
      "metadata": {
        "colab": {
          "base_uri": "https://localhost:8080/"
        },
        "id": "IXBNQ0eCIGU4",
        "outputId": "6839383a-160d-48a3-a637-8caadb2a8555"
      },
      "source": [
        "#Aplicação da função hash e exibição da posição de cada letra\n",
        "print('Caractere : Posição')\n",
        "for letra in palavra:\n",
        "  o = ordem(letra)\n",
        "  hs = h(letra, o)\n",
        "  for k, v in hs.items():\n",
        "    print(f'{v:^10}:{k:^8}')"
      ],
      "execution_count": null,
      "outputs": [
        {
          "output_type": "stream",
          "text": [
            "Caractere : Posição\n",
            "    C     :   3    \n",
            "    O     :   0    \n",
            "    M     :   3    \n",
            "    P     :   1    \n",
            "    U     :   1    \n",
            "    T     :   0    \n",
            "    A     :   1    \n",
            "    Ç     :   3    \n",
            "    Ã     :   1    \n",
            "    O     :   0    \n"
          ],
          "name": "stdout"
        }
      ]
    },
    {
      "cell_type": "markdown",
      "metadata": {
        "id": "XzMQDt83RKLH"
      },
      "source": [
        "Percebe-se que com a função hash definida por $h(char) =$ (ordem alfabética)$\\%5$ a tabela construída conterá diversas colisões. Por exemplo, a posição $3$ conterá os caracteres C, M e Ç. Podemos ver em mais detalhes a distribuição dos caracteres na tabela a seguir, que evidencia ainda que poucas posições foram usadas para alocação dos elementos na *hash table*.\n",
        "\n",
        "| Posição  |  Caractere  |\n",
        "| -------- | ----------- |\n",
        "|  0 |  O, T, O |\n",
        "|  1 |  P, U, A, Ã |\n",
        "|  3 |  C, M, Ç |\n",
        "\n",
        "Seria interessante a aplicação de uma técnica de tratamento de colisção para evitar esta situação. Por exemplo, posicionando o elemento (caractere) na próxima posição livre quando o resultado da funçao *hash* aponta para uma posição ocupada, ou seja, à medida que colisões fossem identificadas. Esta abordagem é conhecida como **endereçamento aberto** e uma aplicação manual dela em nosso exemplo, resultaria na tabela abaixo:\n",
        "\n",
        "|Hash | Posição  |  Caractere  |\n",
        "|---| ---| ----------- |\n",
        "| 0 |  0 |  O |\n",
        "| 1 |  1 |  P |\n",
        "| 1 |  2 |  U |\n",
        "| 3 |  3 |  C |\n",
        "| 3 |  4 |  M |\n",
        "| 0 |  5 |  T |\n",
        "| 1 |  6 |  A |\n",
        "| 3 |  7 |  Ç |\n",
        "| 1 |  8 |  Ã |\n",
        "| 0 |  9 |  O |"
      ]
    },
    {
      "cell_type": "markdown",
      "metadata": {
        "id": "JPbjI2mkXzHR"
      },
      "source": [
        "A seguir apresento também uma implementação em `C` de uma versão simplificada da função de hash e sua aplicação."
      ]
    },
    {
      "cell_type": "markdown",
      "metadata": {
        "id": "J6LgGhPeX8J0"
      },
      "source": [
        "```\n",
        "#include <stdio.h>\n",
        "#include <stdlib.h>\n",
        "/*--------------------------------------------------------------------------\n",
        "Função Calcula a função hash para definir a posição da letra na tabela\n",
        "Argumentos:\n",
        "    int ord => Ordem da letra no alfabeto\n",
        "Retorno:\n",
        "    int pos => Calculada baseada na função h(char) = (ordem alfabética)%5\n",
        "--------------------------------------------------------------------------*/\n",
        "int h(int ord){\n",
        "    int pos;\n",
        "    pos = ord % 5;\n",
        "    return pos;\n",
        "}\n",
        "/*--------------------------------------------------------------------------\n",
        "Programa Principal\n",
        "--------------------------------------------------------------------------*/\n",
        "int main(){\n",
        "    char letra;\n",
        "    puts(\"Letra: \");\n",
        "    scanf(\"%c\", &letra);\n",
        "    int ord;\n",
        "    ord = ordem(letra);\n",
        "    int pos;\n",
        "    pos = h(ord);\n",
        "    puts(\"----------------------\");\n",
        "    puts(\"Letra : Pos Hash Table\");\n",
        "    printf(\"  %c   :       \", letra);\n",
        "    printf(\"%d\\n\", pos);\n",
        "    puts(\"----------------------\");\n",
        "    return 0;\n",
        "}\n",
        "```\n",
        "\n",
        "\n",
        "**OBSERVAÇÃO:** Na implementação abaixo não está implementada a função `int ordem(char letra)` que ainda está em desenvolvimento. Mas a lógica é a mesma da função implementada em Python acima (`ordem(char)`), ou seja, conferir a ordem alfabética da letra desejada e passar esta posição como argumento para função `h(ord)` que retornará um valor inteiro com a posição definida pela função *hash*.\n",
        "\n",
        "O resultado da execução em C está demonstrado na imagem a seguir, realizada usando o código acima com a função de ordenação parcial/incompleta (https://github.com/janiosl/C/blob/master/Exercicios/APA/apa02_05_hashComp.c), mas que já demonstra a parte principal que é a aplicação da função *hash*.\n",
        "\n",
        "![](https://github.com/janiosl/C/blob/master/Exercicios/APA/apa02_05_hashComp.PNG?raw=true)"
      ]
    },
    {
      "cell_type": "markdown",
      "metadata": {
        "id": "4oilXHl28ANa"
      },
      "source": [
        "## **Questão 6**:"
      ]
    },
    {
      "cell_type": "markdown",
      "metadata": {
        "id": "e8We4pGFpUlk"
      },
      "source": [
        "###6.1 Obtenção dos dados"
      ]
    },
    {
      "cell_type": "markdown",
      "metadata": {
        "id": "vDu5EpKlHx2l"
      },
      "source": [
        "Inicialmente os trechos abaixo realizam apenas a varredura de uma página na internet (Wikipedia) com uma tabela com a lista de todos os municípios de Minas Gerais. Esta etapa será apenas para carga dos dados que serão usados nas demais etapas da questão."
      ]
    },
    {
      "cell_type": "code",
      "metadata": {
        "id": "UcyFHCYVgBLu"
      },
      "source": [
        "#Carga dos dados das cidades\n",
        "#Página wikipedia com cidades de Minas Gerais\n",
        "url = 'https://pt.wikipedia.org/wiki/Lista_de_munic%C3%ADpios_de_Minas_Gerais_por_popula%C3%A7%C3%A3o'"
      ],
      "execution_count": null,
      "outputs": []
    },
    {
      "cell_type": "code",
      "metadata": {
        "id": "eLXQaqxV8T-W"
      },
      "source": [
        "#Bibliotecas para carga de dados via web scraping\n",
        "from bs4 import BeautifulSoup\n",
        "import requests\n",
        "#Biblioteca para limpeza do texto\n",
        "import re"
      ],
      "execution_count": null,
      "outputs": []
    },
    {
      "cell_type": "code",
      "metadata": {
        "id": "e8xcbjV18YnI"
      },
      "source": [
        "def cidades_minas(url, q, iniciais):\n",
        "  #Carga da tabela de ciades da url desejada\n",
        "  page = requests.get(url)\n",
        "  bs = BeautifulSoup(page.content, 'html.parser')\n",
        "  tabela = bs.find_all('td')\n",
        "\n",
        "  #Captura do texto da tabela\n",
        "  cidades = []\n",
        "  for k in range(0, len(tabela)):\n",
        "    cidades.append(tabela[k].get_text())\n",
        "\n",
        "  #Limpeza do texto (eliminação de quebra de linhas)\n",
        "  cidades = [re.sub('\\n', '', cidades[i]) for i in range(0, len(cidades))]\n",
        "\n",
        "  #Eliminação das linhas indesejadas (posição e população)\n",
        "  #Iniciais desejadas: a, b, c e s.\n",
        "  c = []\n",
        "  for k in range(0, len(cidades)):\n",
        "    #Selecionada linhas iniciadas pelas letras desejadas\n",
        "    #cidades[k][0].isalpha() and \n",
        "    if cidades[k][0].lower() in iniciais:\n",
        "      c.append(cidades[k])\n",
        "\n",
        "  #Seleciona apenas as q primeiras cidades\n",
        "  cidades = c[:q]\n",
        "  del(c)\n",
        "\n",
        "  return cidades"
      ],
      "execution_count": null,
      "outputs": []
    },
    {
      "cell_type": "code",
      "metadata": {
        "id": "HTkC2b5NCYSj"
      },
      "source": [
        "q = 25\n",
        "letras = 'abcs'\n",
        "cidades = cidades_minas(url, q, letras)"
      ],
      "execution_count": null,
      "outputs": []
    },
    {
      "cell_type": "code",
      "metadata": {
        "colab": {
          "base_uri": "https://localhost:8080/"
        },
        "id": "EHarLXRBFACL",
        "outputId": "0b84605e-b99b-4694-b0a1-15afcc7f308a"
      },
      "source": [
        "#Visualização da lista de cidades\n",
        "cidades.sort()\n",
        "cidades"
      ],
      "execution_count": null,
      "outputs": [
        {
          "output_type": "execute_result",
          "data": {
            "text/plain": [
              "['Alfenas',\n",
              " 'Araguari',\n",
              " 'Araxá',\n",
              " 'Barbacena',\n",
              " 'Belo Horizonte',\n",
              " 'Betim',\n",
              " 'Bocaiúva',\n",
              " 'Bom Despacho',\n",
              " 'Caeté',\n",
              " 'Campo Belo',\n",
              " 'Caratinga',\n",
              " 'Cataguases',\n",
              " 'Congonhas',\n",
              " 'Conselheiro Lafaiete',\n",
              " 'Contagem',\n",
              " 'Coronel Fabriciano',\n",
              " 'Curvelo',\n",
              " 'Sabará',\n",
              " 'Santa Luzia',\n",
              " 'Santos Dumont',\n",
              " 'Sete Lagoas',\n",
              " 'São Francisco',\n",
              " 'São João del Rei',\n",
              " 'São Lourenço',\n",
              " 'São Sebastião do Paraíso']"
            ]
          },
          "metadata": {
            "tags": []
          },
          "execution_count": 213
        }
      ]
    },
    {
      "cell_type": "markdown",
      "metadata": {
        "id": "gGue2T1FgkdK"
      },
      "source": [
        "###6.2 Função Hash: Experimentos"
      ]
    },
    {
      "cell_type": "markdown",
      "metadata": {
        "id": "t-rZomNaOvoN"
      },
      "source": [
        "Primeiro experimento:\n",
        "\n",
        "$h(cidade) \\approx \\sqrt{\\sum_{i=1}^n{unicode(Letra_i(cidade))}}$\n",
        "\n",
        "A função *hash* proposta será calculada pela raiz quadrada do somatório das $i$-ésimas letras. Sendo que $i$ vai de $1$ até a quantidade $n$,  definida no momento da aplicação *hash*, $n \\leq$ tamanho do nome cidade. Usamos o símbolo de aproximado ($\\approx$) ao invés de igual ($=$), pois na função estamos arredondando o resultado para um número inteiro (com a função interna do `int`), tendo em vista que o resultado deverá ser uma posição exata em nossa *hash table*."
      ]
    },
    {
      "cell_type": "code",
      "metadata": {
        "id": "r9IoffuUMVPY"
      },
      "source": [
        "def h_cidades(nome, n):\n",
        "  \"\"\"\n",
        "  Função hash baseada na raiz quadrada do somatório do unicode das n letras\n",
        "  \"\"\"\n",
        "  #Checa o tamanho de n\n",
        "  if n > len(nome):\n",
        "    print('Tamanho de N inválido')\n",
        "    return None\n",
        "\n",
        "  #Aplica a função hash definida\n",
        "  h = 0\n",
        "  for k in range(0, n):\n",
        "    h += ord(nome[k])\n",
        "\n",
        "  h = int(h**(1/2))\n",
        "\n",
        "  return h"
      ],
      "execution_count": null,
      "outputs": []
    },
    {
      "cell_type": "code",
      "metadata": {
        "colab": {
          "base_uri": "https://localhost:8080/"
        },
        "id": "xfvZDVPoIx9R",
        "outputId": "4feee458-e80e-41a7-ce8a-7b1a63668f85"
      },
      "source": [
        "h_cidades(cidades[0], 5)"
      ],
      "execution_count": null,
      "outputs": [
        {
          "output_type": "execute_result",
          "data": {
            "text/plain": [
              "22"
            ]
          },
          "metadata": {
            "tags": []
          },
          "execution_count": 215
        }
      ]
    },
    {
      "cell_type": "code",
      "metadata": {
        "id": "KLsGPls7NGBL"
      },
      "source": [
        "def gera_hash_table(cidades, N, imprimir):\n",
        "  #Hash table vazia para receber os dados\n",
        "  hash_table_cidades = dict()\n",
        "  #Variáveis de controle das iterações\n",
        "  hTemp = []\n",
        "\n",
        "  for c in cidades:\n",
        "    h = h_cidades(c, N)\n",
        "    if h not in hTemp:\n",
        "      hash_table_cidades[h] = [c]\n",
        "      hTemp.append(h)\n",
        "    else:\n",
        "      for k, v in hash_table_cidades.items():\n",
        "        if k==h:\n",
        "          v.append(c)\n",
        "\n",
        "    #Imprime passo a passo na tela se o parâmetro estiver configurado = True\n",
        "    if imprimir:\n",
        "      print(f'{h} : {c}')\n",
        "  \n",
        "  return hash_table_cidades"
      ],
      "execution_count": null,
      "outputs": []
    },
    {
      "cell_type": "markdown",
      "metadata": {
        "id": "V1E0xCyslg7K"
      },
      "source": [
        "Experimento 1.1 => $N=5$"
      ]
    },
    {
      "cell_type": "code",
      "metadata": {
        "colab": {
          "base_uri": "https://localhost:8080/"
        },
        "id": "bGIGnNKPlaqH",
        "outputId": "db4e5c43-9d44-4287-f932-4852f1b6906e"
      },
      "source": [
        "N = 5\n",
        "ht = gera_hash_table(cidades, N, True)"
      ],
      "execution_count": null,
      "outputs": [
        {
          "output_type": "stream",
          "text": [
            "22 : Alfenas\n",
            "22 : Araguari\n",
            "24 : Araxá\n",
            "21 : Barbacena\n",
            "20 : Belo Horizonte\n",
            "22 : Betim\n",
            "21 : Bocaiúva\n",
            "19 : Bom Despacho\n",
            "24 : Caeté\n",
            "22 : Campo Belo\n",
            "22 : Caratinga\n",
            "21 : Cataguases\n",
            "22 : Congonhas\n",
            "22 : Conselheiro Lafaiete\n",
            "22 : Contagem\n",
            "22 : Coronel Fabriciano\n",
            "22 : Curvelo\n",
            "22 : Sabará\n",
            "22 : Santa Luzia\n",
            "22 : Santos Dumont\n",
            "20 : Sete Lagoas\n",
            "22 : São Francisco\n",
            "22 : São João del Rei\n",
            "23 : São Lourenço\n",
            "23 : São Sebastião do Paraíso\n"
          ],
          "name": "stdout"
        }
      ]
    },
    {
      "cell_type": "code",
      "metadata": {
        "colab": {
          "base_uri": "https://localhost:8080/"
        },
        "id": "wm_GLLvKN-8Z",
        "outputId": "e29a2587-d4c3-492c-bbb2-4ac287236fa9"
      },
      "source": [
        "#Conferência do resultado\n",
        "ht"
      ],
      "execution_count": null,
      "outputs": [
        {
          "output_type": "execute_result",
          "data": {
            "text/plain": [
              "{19: ['Bom Despacho'],\n",
              " 20: ['Belo Horizonte', 'Sete Lagoas'],\n",
              " 21: ['Barbacena', 'Bocaiúva', 'Cataguases'],\n",
              " 22: ['Alfenas',\n",
              "  'Araguari',\n",
              "  'Betim',\n",
              "  'Campo Belo',\n",
              "  'Caratinga',\n",
              "  'Congonhas',\n",
              "  'Conselheiro Lafaiete',\n",
              "  'Contagem',\n",
              "  'Coronel Fabriciano',\n",
              "  'Curvelo',\n",
              "  'Sabará',\n",
              "  'Santa Luzia',\n",
              "  'Santos Dumont',\n",
              "  'São Francisco',\n",
              "  'São João del Rei'],\n",
              " 23: ['São Lourenço', 'São Sebastião do Paraíso'],\n",
              " 24: ['Araxá', 'Caeté']}"
            ]
          },
          "metadata": {
            "tags": []
          },
          "execution_count": 218
        }
      ]
    },
    {
      "cell_type": "code",
      "metadata": {
        "colab": {
          "base_uri": "https://localhost:8080/"
        },
        "id": "a8qQm1M_b8Fw",
        "outputId": "f0bb9372-bbfd-429c-9313-f064022f5bce"
      },
      "source": [
        "#Visualização detalhada para análise de colisões\n",
        "print('Posição : Colisões : Elementos  ')\n",
        "for k, v in ht.items():\n",
        "  if k != None:\n",
        "    print(f'{k:^8}:{len(v)-1:^10}: {v}')\n",
        "  else:\n",
        "    print(f'  {k}  :{len(v)-1:^10}: {v}')"
      ],
      "execution_count": null,
      "outputs": [
        {
          "output_type": "stream",
          "text": [
            "Posição : Colisões : Elementos  \n",
            "   22   :    14    : ['Alfenas', 'Araguari', 'Betim', 'Campo Belo', 'Caratinga', 'Congonhas', 'Conselheiro Lafaiete', 'Contagem', 'Coronel Fabriciano', 'Curvelo', 'Sabará', 'Santa Luzia', 'Santos Dumont', 'São Francisco', 'São João del Rei']\n",
            "   24   :    1     : ['Araxá', 'Caeté']\n",
            "   21   :    2     : ['Barbacena', 'Bocaiúva', 'Cataguases']\n",
            "   20   :    1     : ['Belo Horizonte', 'Sete Lagoas']\n",
            "   19   :    0     : ['Bom Despacho']\n",
            "   23   :    1     : ['São Lourenço', 'São Sebastião do Paraíso']\n"
          ],
          "name": "stdout"
        }
      ]
    },
    {
      "cell_type": "markdown",
      "metadata": {
        "id": "g7xBHt43lmNG"
      },
      "source": [
        "Experimento 1.2 => $N=3$"
      ]
    },
    {
      "cell_type": "code",
      "metadata": {
        "id": "8y-Yk6PxlekB"
      },
      "source": [
        "N = 3\n",
        "ht = gera_hash_table(cidades, N, False)"
      ],
      "execution_count": null,
      "outputs": []
    },
    {
      "cell_type": "code",
      "metadata": {
        "colab": {
          "base_uri": "https://localhost:8080/"
        },
        "id": "Z1aMPw6Rlvsm",
        "outputId": "cf5c421e-ad76-4085-c1d4-7cb2516de771"
      },
      "source": [
        "#Visualização detalhada para análise de colisões\n",
        "print('Posição : Colisões : Elementos  ')\n",
        "for k, v in ht.items():\n",
        "  if k != None:\n",
        "    print(f'{k:^8}:{len(v)-1:^10}: {v}')\n",
        "  else:\n",
        "    print(f'  {k}  :{len(v)-1:^10}: {v}')"
      ],
      "execution_count": null,
      "outputs": [
        {
          "output_type": "stream",
          "text": [
            "Posição : Colisões : Elementos  \n",
            "   16   :    15    : ['Alfenas', 'Araguari', 'Araxá', 'Barbacena', 'Belo Horizonte', 'Betim', 'Bocaiúva', 'Bom Despacho', 'Caeté', 'Campo Belo', 'Caratinga', 'Cataguases', 'Congonhas', 'Conselheiro Lafaiete', 'Contagem', 'Sabará']\n",
            "   17   :    4     : ['Coronel Fabriciano', 'Curvelo', 'Santa Luzia', 'Santos Dumont', 'Sete Lagoas']\n",
            "   20   :    3     : ['São Francisco', 'São João del Rei', 'São Lourenço', 'São Sebastião do Paraíso']\n"
          ],
          "name": "stdout"
        }
      ]
    },
    {
      "cell_type": "code",
      "metadata": {
        "colab": {
          "base_uri": "https://localhost:8080/"
        },
        "id": "qFGRTBlTl5io",
        "outputId": "7becbbb0-79aa-4b75-a840-4ee37d7fd11b"
      },
      "source": [
        "N = 7\n",
        "ht = gera_hash_table(cidades, N, True)"
      ],
      "execution_count": null,
      "outputs": [
        {
          "output_type": "stream",
          "text": [
            "26 : Alfenas\n",
            "26 : Araguari\n",
            "Tamanho de N inválido\n",
            "None : Araxá\n",
            "25 : Barbacena\n",
            "24 : Belo Horizonte\n",
            "Tamanho de N inválido\n",
            "None : Betim\n",
            "29 : Bocaiúva\n",
            "24 : Bom Despacho\n",
            "Tamanho de N inválido\n",
            "None : Caeté\n",
            "24 : Campo Belo\n",
            "26 : Caratinga\n",
            "26 : Cataguases\n",
            "26 : Congonhas\n",
            "26 : Conselheiro Lafaiete\n",
            "26 : Contagem\n",
            "26 : Coronel Fabriciano\n",
            "27 : Curvelo\n",
            "Tamanho de N inválido\n",
            "None : Sabará\n",
            "24 : Santa Luzia\n",
            "25 : Santos Dumont\n",
            "24 : Sete Lagoas\n",
            "27 : São Francisco\n",
            "29 : São João del Rei\n",
            "27 : São Lourenço\n",
            "27 : São Sebastião do Paraíso\n"
          ],
          "name": "stdout"
        }
      ]
    },
    {
      "cell_type": "code",
      "metadata": {
        "colab": {
          "base_uri": "https://localhost:8080/"
        },
        "id": "054QYyo_l6ON",
        "outputId": "9dae232d-9f51-44e6-ce26-53bcd4014d9d"
      },
      "source": [
        "#Visualização detalhada para análise de colisões\n",
        "print('Posição : Colisões : Elementos  ')\n",
        "for k, v in ht.items():\n",
        "  if k != None:\n",
        "    print(f'{k:^8}:{len(v)-1:^10}: {v}')\n",
        "  else:\n",
        "    print(f'  {k}  :{len(v)-1:^10}: {v}')"
      ],
      "execution_count": null,
      "outputs": [
        {
          "output_type": "stream",
          "text": [
            "Posição : Colisões : Elementos  \n",
            "   26   :    7     : ['Alfenas', 'Araguari', 'Caratinga', 'Cataguases', 'Congonhas', 'Conselheiro Lafaiete', 'Contagem', 'Coronel Fabriciano']\n",
            "  None  :    3     : ['Araxá', 'Betim', 'Caeté', 'Sabará']\n",
            "   25   :    1     : ['Barbacena', 'Santos Dumont']\n",
            "   24   :    4     : ['Belo Horizonte', 'Bom Despacho', 'Campo Belo', 'Santa Luzia', 'Sete Lagoas']\n",
            "   29   :    1     : ['Bocaiúva', 'São João del Rei']\n",
            "   27   :    3     : ['Curvelo', 'São Francisco', 'São Lourenço', 'São Sebastião do Paraíso']\n"
          ],
          "name": "stdout"
        }
      ]
    },
    {
      "cell_type": "markdown",
      "metadata": {
        "id": "g-g_PKWKmrta"
      },
      "source": [
        "Segundo experimento:\n",
        "\n",
        "$h(cidade) \\approx \\frac{\\sum_{i=1}^n{unicode(Letra_i(cidade))}}{n} $\n",
        "\n",
        "A função *hash* proposta será calculada pela raiz quadrada do somatório das $i$-ésimas letras. Sendo que $i$ vai de $1$ até a quantidade $n$,  definida no momento da aplicação *hash*, $n \\leq$ tamanho do nome cidade. Usamos o símbolo de aproximado ($\\approx$) ao invés de igual ($=$), pois na função estamos arredondando o resultado para um número inteiro (com a função interna do `int`), tendo em vista que o resultado deverá ser uma posição exata em nossa *hash table*."
      ]
    },
    {
      "cell_type": "code",
      "metadata": {
        "id": "YfHoU1GmoNQT"
      },
      "source": [
        "def h_cidades(nome, n):\n",
        "  \"\"\"\n",
        "  Função hash baseada na raiz quadrada do somatório do unicode das n letras\n",
        "  \"\"\"\n",
        "  #Checa o tamanho de n\n",
        "  if n > len(nome):\n",
        "    print('Tamanho de N inválido')\n",
        "    return None\n",
        "\n",
        "  #Aplica a função hash definida\n",
        "  h = 0\n",
        "  for k in range(0, n):\n",
        "    h += ord(nome[k])\n",
        "\n",
        "  h = int(h/n)\n",
        "\n",
        "  return h"
      ],
      "execution_count": null,
      "outputs": []
    },
    {
      "cell_type": "code",
      "metadata": {
        "colab": {
          "base_uri": "https://localhost:8080/"
        },
        "id": "AU1W-8uxoSon",
        "outputId": "bac04946-c4ee-46ba-a4bb-62101323d27b"
      },
      "source": [
        "N = 5\n",
        "ht = gera_hash_table(cidades, N, True)"
      ],
      "execution_count": null,
      "outputs": [
        {
          "output_type": "stream",
          "text": [
            "97 : Alfenas\n",
            "99 : Araguari\n",
            "124 : Araxá\n",
            "94 : Barbacena\n",
            "83 : Belo Horizonte\n",
            "99 : Betim\n",
            "95 : Bocaiúva\n",
            "77 : Bom Despacho\n",
            "122 : Caeté\n",
            "99 : Campo Belo\n",
            "98 : Caratinga\n",
            "96 : Cataguases\n",
            "100 : Congonhas\n",
            "100 : Conselheiro Lafaiete\n",
            "100 : Contagem\n",
            "102 : Coronel Fabriciano\n",
            "103 : Curvelo\n",
            "97 : Sabará\n",
            "100 : Santa Luzia\n",
            "103 : Santos Dumont\n",
            "86 : Sete Lagoas\n",
            "104 : São Francisco\n",
            "105 : São João del Rei\n",
            "105 : São Lourenço\n",
            "107 : São Sebastião do Paraíso\n"
          ],
          "name": "stdout"
        }
      ]
    },
    {
      "cell_type": "code",
      "metadata": {
        "colab": {
          "base_uri": "https://localhost:8080/"
        },
        "id": "jmrN_GILoYBK",
        "outputId": "244a9d69-e59e-4998-ada3-d481f8f7c8da"
      },
      "source": [
        "#Visualização detalhada para análise de colisões\n",
        "print('Posição : Colisões : Elementos  ')\n",
        "for k, v in ht.items():\n",
        "  if k != None:\n",
        "    print(f'{k:^8}:{len(v)-1:^10}: {v}')\n",
        "  else:\n",
        "    print(f'  {k}  :{len(v)-1:^10}: {v}')"
      ],
      "execution_count": null,
      "outputs": [
        {
          "output_type": "stream",
          "text": [
            "Posição : Colisões : Elementos  \n",
            "   97   :    1     : ['Alfenas', 'Sabará']\n",
            "   99   :    2     : ['Araguari', 'Betim', 'Campo Belo']\n",
            "  124   :    0     : ['Araxá']\n",
            "   94   :    0     : ['Barbacena']\n",
            "   83   :    0     : ['Belo Horizonte']\n",
            "   95   :    0     : ['Bocaiúva']\n",
            "   77   :    0     : ['Bom Despacho']\n",
            "  122   :    0     : ['Caeté']\n",
            "   98   :    0     : ['Caratinga']\n",
            "   96   :    0     : ['Cataguases']\n",
            "  100   :    3     : ['Congonhas', 'Conselheiro Lafaiete', 'Contagem', 'Santa Luzia']\n",
            "  102   :    0     : ['Coronel Fabriciano']\n",
            "  103   :    1     : ['Curvelo', 'Santos Dumont']\n",
            "   86   :    0     : ['Sete Lagoas']\n",
            "  104   :    0     : ['São Francisco']\n",
            "  105   :    1     : ['São João del Rei', 'São Lourenço']\n",
            "  107   :    0     : ['São Sebastião do Paraíso']\n"
          ],
          "name": "stdout"
        }
      ]
    },
    {
      "cell_type": "markdown",
      "metadata": {
        "id": "tEECJ-pwUZoB"
      },
      "source": [
        "##7"
      ]
    }
  ]
}