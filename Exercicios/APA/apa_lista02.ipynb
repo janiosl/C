{
  "nbformat": 4,
  "nbformat_minor": 0,
  "metadata": {
    "colab": {
      "name": "apa_lista02.ipynb",
      "provenance": [],
      "collapsed_sections": [],
      "authorship_tag": "ABX9TyPI0V2swc9bO+6GOyqzdITs",
      "include_colab_link": true
    },
    "kernelspec": {
      "name": "python3",
      "display_name": "Python 3"
    },
    "language_info": {
      "name": "python"
    }
  },
  "cells": [
    {
      "cell_type": "markdown",
      "metadata": {
        "id": "view-in-github",
        "colab_type": "text"
      },
      "source": [
        "<a href=\"https://colab.research.google.com/github/janiosl/C/blob/master/Exercicios/APA/apa_lista02.ipynb\" target=\"_parent\"><img src=\"https://colab.research.google.com/assets/colab-badge.svg\" alt=\"Open In Colab\"/></a>"
      ]
    },
    {
      "cell_type": "markdown",
      "metadata": {
        "id": "dJCAG_AFVmb6"
      },
      "source": [
        "# **CEFET-RJ**\n",
        "\n",
        "**Programa de Pós-Gradução em Ciência da Computação - PPCIC**\n",
        "\n",
        "**Mestrado em Ciência da Computação**\n",
        "\n",
        "**Disciplina: Análise e Projeto de Algoritmos - 2021/2**\n",
        "\n",
        "* **Exercícios 02**\n",
        "* **Prof.: Diego Nunes Brandão**\n",
        "* **Aluno: Janio de Souza Lima**\n",
        "\n",
        "---\n",
        "\n",
        "Uma versão online para facilitar a leitura desse notebook foi disponibilizada em: https://github.com/janiosl/C/blob/master/Exercicios/APA/apa_lista02.ipynb"
      ]
    },
    {
      "cell_type": "markdown",
      "metadata": {
        "id": "HGm4yMfiuBLm"
      },
      "source": [
        "## **Questão 1**: Quantos antecedentes tem um nó no nível $n$ em uma árvore binária? Prove!"
      ]
    },
    {
      "cell_type": "markdown",
      "metadata": {
        "id": "6TPmQfkuuT_Z"
      },
      "source": [
        "Como o nível de um nó é sempre o nível de seu pai + 1, podemos dizer que o nível a quantidade de antecedentes de um nó de nível $n$ é $n-1$, o que equivale ao nível de seu pai."
      ]
    },
    {
      "cell_type": "markdown",
      "metadata": {
        "id": "zpwpx6jp1nuk"
      },
      "source": [
        "## **Questão 2**: Escreva um programa que implementa funções para:"
      ]
    },
    {
      "cell_type": "markdown",
      "metadata": {
        "id": "hgr70KBC1sf5"
      },
      "source": [
        "O código com a implementação do TAD árvore binária e as funções para atendimento às questões abaixo está disponível no anexo `apa02_02_arvBin.c` e no repositório: https://github.com/janiosl/C/blob/master/Exercicios/APA/apa02_02_arvBin.c\n",
        "\n",
        "Abaixo de cada questão está a demonstração da execução do programa com o atendimento ao passo desejado.\n",
        "\n",
        "a) contar o número de nós em uma árvore binária;\n",
        "\n",
        "b) o número de folhas;\n",
        "\n",
        "c) o número de filhos à direita;\n",
        "\n",
        "d) a altura da árvore.\n",
        "\n",
        "\n",
        "![](https://github.com/janiosl/C/blob/master/Exercicios/APA/apa02_02_arvBin_A.PNG?raw=true)"
      ]
    },
    {
      "cell_type": "markdown",
      "metadata": {
        "id": "bKQFHlWFTeBs"
      },
      "source": [
        "* **Código com a implementação:**\n",
        "\n",
        "```\n",
        "#include <stdio.h>\n",
        "#include <stdlib.h>\n",
        "/*------------------\n",
        "TAD - Árvore Binária\n",
        "------------------*/\n",
        "struct arv{\n",
        "    char info;\n",
        "    struct arv* esq;\n",
        "    struct arv* dir;\n",
        "};typedef struct arv Arv;\n",
        "/*----------------------------------------\n",
        "Funções para manipulação da Árvore Binária\n",
        "----------------------------------------*/\n",
        "Arv* arv_criavazia(void){\n",
        "    //Cria a árvore vazia\n",
        "    return NULL;\n",
        "}\n",
        "int arv_vazia(Arv* a){\n",
        "    //Verifica se a árvore é vazia\n",
        "    return a==NULL;\n",
        "}\n",
        "Arv* arv_cria(char c, Arv* sae, Arv* sad){\n",
        "    /*Cria a árvore com um nós\n",
        "    e as sub-árvores sae e sad*/\n",
        "    Arv* p=(Arv*)malloc(sizeof(Arv));\n",
        "    p->info = c;\n",
        "    p->esq = sae;\n",
        "    p->dir = sad;\n",
        "    return p;\n",
        "}\n",
        "Arv* arv_libera(Arv* a){\n",
        "    //Libera a árvore da memória\n",
        "    if (!arv_vazia(a)){\n",
        "        arv_libera(a->esq); /* libera sae */\n",
        "        arv_libera(a->dir); /* libera sad */\n",
        "        free(a);            /* libera raiz */\n",
        "    }\n",
        "    return NULL;\n",
        "}\n",
        "/*----------------------------------------\n",
        "Funções análise da Árvore Binária\n",
        "----------------------------------------*/\n",
        "void arv_imprime (Arv* a){\n",
        "    //Imprime as informações da árvore\n",
        "    printf(\"<\");\n",
        "    if (!arv_vazia(a)){\n",
        "        printf(\"%c \", a->info); /* mostra raiz */\n",
        "        arv_imprime(a->esq);    /* mostra sae */\n",
        "        arv_imprime(a->dir);    /* mostra sad */\n",
        "    }\n",
        "    printf(\">\");\n",
        "}\n",
        "int arv_conta_nos(Arv* a){\n",
        "    //Conta a quantidade de nós da árvore\n",
        "\tif(!a)\n",
        "\t\treturn 0;\n",
        "\telse\n",
        "\t\treturn 1+ arv_conta_nos(a->esq)+arv_conta_nos(a->dir);\n",
        "}\n",
        "int arv_num_folhas(Arv *a){\n",
        "    //Conta quantidade de folhas\n",
        "    int nf;\n",
        "    nf = 0;\n",
        "    //Verifica se a arvore é vazia\n",
        "    if(!arv_vazia(a)){\n",
        "        if(arv_vazia(a->esq) && arv_vazia(a->dir)){\n",
        "            nf ++;\n",
        "        } else{\n",
        "            nf = nf + arv_num_folhas(a->esq);\n",
        "            nf = nf + arv_num_folhas(a->dir);\n",
        "        }\n",
        "        return nf;\n",
        "    }\n",
        "    return 0;\n",
        "}\n",
        "int arv_filhos_direita(Arv *a){\n",
        "    //Conta quantidade de filhos à direita\n",
        "    return 0;\n",
        "}\n",
        "int arv_altura(Arv *a){\n",
        "    //Calcula a altura da árvore\n",
        "    return 0;\n",
        "}\n",
        "/*------------------\n",
        "Programa principal\n",
        "------------------*/\n",
        "int main(){\n",
        "    /* sub-árvore 'd' */\n",
        "    Arv* a1= arv_cria('d',arv_criavazia(),arv_criavazia());\n",
        "    /* sub-árvore 'b' */\n",
        "    Arv* a2= arv_cria('b',arv_criavazia(),a1);\n",
        "    /* sub-árvore 'e' */\n",
        "    Arv* a3= arv_cria('e',arv_criavazia(),arv_criavazia());\n",
        "    /* sub-árvore 'f' */\n",
        "    Arv* a4= arv_cria('f',arv_criavazia(),arv_criavazia());\n",
        "    /* sub-árvore 'c' */\n",
        "    Arv* a5= arv_cria('c',a3,a4);\n",
        "    /* árvore 'a' */\n",
        "    Arv* a = arv_cria('a',a2,a5);\n",
        "    /*Analisando arvore completa*/\n",
        "    puts(\"Visualizacao da arvore a:\");\n",
        "    puts(\"-----------------------------------------\");\n",
        "    arv_imprime(a);\n",
        "    puts(\"\\n=========================================\");\n",
        "    int nos;\n",
        "    int folhas;\n",
        "    nos = arv_conta_nos(a);\n",
        "    folhas = arv_num_folhas(a);\n",
        "    printf(\"Nos: %d\\nFolhas: %d\\n\\n\", nos, folhas);\n",
        "    /*Analisando a subárvore arvore c*/\n",
        "    puts(\"Visualizacao da arvore c:\");\n",
        "    puts(\"-----------------------------------------\");\n",
        "    arv_imprime(a5);\n",
        "    puts(\"\\n=========================================\");\n",
        "    nos = arv_conta_nos(a5);\n",
        "    folhas = arv_num_folhas(a5);\n",
        "    printf(\"Nos: %d\\nFolhas: %d\\n\\n\", nos, folhas);\n",
        "    /*Analisando uma árvore vazia*/\n",
        "    Arv* vazia = arv_criavazia();\n",
        "    puts(\"Visualizacao da arvore vazia:\");\n",
        "    puts(\"-----------------------------------------\");\n",
        "    nos = arv_conta_nos(vazia);\n",
        "    arv_imprime(vazia);\n",
        "    puts(\"\\n=========================================\");\n",
        "    folhas = arv_num_folhas(vazia);\n",
        "    printf(\"Nos: %d\\nFolhas: %d\\n\\n\", nos, folhas);\n",
        "    return 0;\n",
        "}\n",
        "```"
      ]
    },
    {
      "cell_type": "markdown",
      "metadata": {
        "id": "LnSDrEkkUUgA"
      },
      "source": [
        "## **Questão 5**: Observando cada um dos caracteres que formam a palavra C O M P U T A Ç Ã O. Crie uma tabela de dispersão (hash table) que armazene cada um destes caracteres, utilizando a seguinte função: $h(char) = (ordem de char no alfabeto)\\%5$.\n",
        "\n",
        "Desenhe o esquema de como ficaram a hash table e as listas encadeadas."
      ]
    },
    {
      "cell_type": "code",
      "metadata": {
        "id": "O4XoIZXYHcIU"
      },
      "source": [
        "def ordem(char):\n",
        "  \"\"\"\n",
        "  Função identifica a ordem alfabética de uma letra\n",
        "  Argumentos:\n",
        "      str char => Letra a ser analisada\n",
        "  Retorno:\n",
        "      int ord => Posição da letra no alfabeto (começando em 1)\n",
        "  \"\"\"\n",
        "  #Tratamento de minúscula\n",
        "  c = char.upper()\n",
        "\n",
        "  #Tratamento de caracteres latinos e acentos\n",
        "  if c == \"Ç\":\n",
        "    c = 'C'\n",
        "  elif c in 'ÃÁÀÂÄ':\n",
        "    c = 'A'\n",
        "  elif c in 'ÉÈÊË':\n",
        "    c = 'E'\n",
        "  elif c in 'ÍÌÎÏ':\n",
        "    c = 'I'\n",
        "  elif c in 'ÕÓÒÔÖ':\n",
        "    c = 'O'\n",
        "  elif c in 'ÚÙÛÜ':\n",
        "    c = 'U'\n",
        "  elif c in 'Ñ':\n",
        "    c = 'N'\n",
        "\n",
        "  #Função hash\n",
        "  #Define a ordem da letra no alfabeto\n",
        "  alfa = 'ABCDEFGHIJKLMNOPQRSTUVWXYZ'\n",
        "  ord = alfa.find(c)+1\n",
        "\n",
        "  return ord\n",
        "\n",
        "\n",
        "def h(char, ord):\n",
        "  \"\"\"\n",
        "  Função Calcula a função hash para definir a posição da letra na tabela\n",
        "  Argumentos:\n",
        "      str char => Letra a ser analisada\n",
        "      int ord => Ordem da letra no alfabeto\n",
        "  Retorno:\n",
        "      dict hash => Dicionário contendo:\n",
        "          str char => Letra analisada\n",
        "          int pos => Calculada baseada na função h(char) = (ordem alfabética)%5\n",
        "  \"\"\"\n",
        "  pos = int(ord % 5)\n",
        "  hash = {pos: char}\n",
        "\n",
        "  return hash"
      ],
      "execution_count": 1,
      "outputs": []
    },
    {
      "cell_type": "code",
      "metadata": {
        "id": "cT8sbLNgIl6J"
      },
      "source": [
        "#Teste da aplicação da função coma diferentes grafias da mesma palavra\n",
        "palavra = 'COMPUTAÇÃO'\n",
        "#palavra = 'COmPUTAÇÃO'\n",
        "#palavra = 'computação'"
      ],
      "execution_count": 2,
      "outputs": []
    },
    {
      "cell_type": "code",
      "metadata": {
        "colab": {
          "base_uri": "https://localhost:8080/"
        },
        "id": "IXBNQ0eCIGU4",
        "outputId": "dd990728-7511-4f0d-e5bb-0fb88e814b2a"
      },
      "source": [
        "#Aplicação da função hash e exibição da posição de cada letra\n",
        "print('Caractere : Posição')\n",
        "for letra in palavra:\n",
        "  o = ordem(letra)\n",
        "  hs = h(letra, o)\n",
        "  for k, v in hs.items():\n",
        "    print(f'{v:^10}:{k:^8}')"
      ],
      "execution_count": 3,
      "outputs": [
        {
          "output_type": "stream",
          "text": [
            "Caractere : Posição\n",
            "    C     :   3    \n",
            "    O     :   0    \n",
            "    M     :   3    \n",
            "    P     :   1    \n",
            "    U     :   1    \n",
            "    T     :   0    \n",
            "    A     :   1    \n",
            "    Ç     :   3    \n",
            "    Ã     :   1    \n",
            "    O     :   0    \n"
          ],
          "name": "stdout"
        }
      ]
    },
    {
      "cell_type": "markdown",
      "metadata": {
        "id": "XzMQDt83RKLH"
      },
      "source": [
        "Percebe-se que com a função hash definida por $h(char) =$ (ordem alfabética)$\\%5$ a tabela construída conterá diversas colisões. Por exemplo, a posição $3$ conterá os caracteres C, M e Ç. Podemos ver em mais detalhes a distribuição dos caracteres na tabela a seguir, que evidencia ainda que poucas posições foram usadas para alocação dos elementos na *hash table*.\n",
        "\n",
        "| Posição  |  Caractere  |\n",
        "| -------- | ----------- |\n",
        "|  0 |  O, T, O |\n",
        "|  1 |  P, U, A, Ã |\n",
        "|  3 |  C, M, Ç |\n",
        "\n",
        "Seria interessante a aplicação de uma técnica de colisção para evitar esta situação. Por exemplo, posicionando os caracteres na próxima posição livre, à medida que colisões fossem identificadas."
      ]
    },
    {
      "cell_type": "markdown",
      "metadata": {
        "id": "JPbjI2mkXzHR"
      },
      "source": [
        "A seguir apresento também uma implementação em `C` de uma versão simplificada da função de hash e sua aplicação."
      ]
    },
    {
      "cell_type": "markdown",
      "metadata": {
        "id": "J6LgGhPeX8J0"
      },
      "source": [
        "```\n",
        "#include <stdio.h>\n",
        "#include <stdlib.h>\n",
        "/*--------------------------------------------------------------------------\n",
        "Função Calcula a função hash para definir a posição da letra na tabela\n",
        "Argumentos:\n",
        "    int ord => Ordem da letra no alfabeto\n",
        "Retorno:\n",
        "    int pos => Calculada baseada na função h(char) = (ordem alfabética)%5\n",
        "--------------------------------------------------------------------------*/\n",
        "int h(int ord){\n",
        "    int pos;\n",
        "    pos = ord % 5;\n",
        "    return pos;\n",
        "}\n",
        "/*--------------------------------------------------------------------------\n",
        "Programa Principal\n",
        "--------------------------------------------------------------------------*/\n",
        "int main(){\n",
        "    char letra;\n",
        "    puts(\"Letra: \");\n",
        "    scanf(\"%c\", &letra);\n",
        "    int ord;\n",
        "    ord = ordem(letra);\n",
        "    int pos;\n",
        "    pos = h(ord);\n",
        "    puts(\"----------------------\");\n",
        "    puts(\"Letra : Pos Hash Table\");\n",
        "    printf(\"  %c   :       \", letra);\n",
        "    printf(\"%d\\n\", pos);\n",
        "    puts(\"----------------------\");\n",
        "    return 0;\n",
        "}\n",
        "```\n",
        "\n",
        "\n",
        "**OBSERVAÇÃO:** Na implementação abaixo não está implementada a função `int ordem(char letra)` que ainda está em desenvolvimento. Mas a lógica é a mesma da função implementada em Python acima (`ordem(char)`), ou seja, conferir a ordem alfabética da letra desejada e passar esta posição como argumento para função `h(ord)` que retornará um valor inteiro com a posição definida pela função *hash*.\n",
        "\n",
        "O resultado da execução em C está demonstrado na imagem a seguir, realizada usando o código acima com a função de ordenação parcial/incompleta (https://github.com/janiosl/C/blob/master/Exercicios/APA/apa02_05_hashComp.c), mas que já demonstra a parte principal que é a aplicação da função *hash*.\n",
        "\n",
        "![](https://github.com/janiosl/C/blob/master/Exercicios/APA/apa02_05_hashComp.PNG?raw=true)"
      ]
    },
    {
      "cell_type": "code",
      "metadata": {
        "id": "UcyFHCYVgBLu"
      },
      "source": [
        ""
      ],
      "execution_count": 3,
      "outputs": []
    }
  ]
}