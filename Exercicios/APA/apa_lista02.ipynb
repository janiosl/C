{
  "nbformat": 4,
  "nbformat_minor": 0,
  "metadata": {
    "colab": {
      "name": "apa_lista02.ipynb",
      "provenance": [],
      "authorship_tag": "ABX9TyPTXwhQZ49H8AND1gEz3uGU",
      "include_colab_link": true
    },
    "kernelspec": {
      "name": "python3",
      "display_name": "Python 3"
    },
    "language_info": {
      "name": "python"
    }
  },
  "cells": [
    {
      "cell_type": "markdown",
      "metadata": {
        "id": "view-in-github",
        "colab_type": "text"
      },
      "source": [
        "<a href=\"https://colab.research.google.com/github/janiosl/C/blob/master/Exercicios/APA/apa_lista02.ipynb\" target=\"_parent\"><img src=\"https://colab.research.google.com/assets/colab-badge.svg\" alt=\"Open In Colab\"/></a>"
      ]
    },
    {
      "cell_type": "markdown",
      "metadata": {
        "id": "dJCAG_AFVmb6"
      },
      "source": [
        "# **CEFET-RJ**\n",
        "\n",
        "**Programa de Pós-Gradução em Ciência da Computação - PPCIC**\n",
        "\n",
        "**Mestrado em Ciência da Computação**\n",
        "\n",
        "**Disciplina: Análise e Projeto de Algoritmos - 2021/2**\n",
        "\n",
        "* **Exercícios 02**\n",
        "* **Prof.: Diego Nunes Brandão**\n",
        "* **Aluno: Janio de Souza Lima**\n",
        "\n",
        "---\n",
        "\n",
        "Uma versão online para facilitar a leitura desse notebook foi disponibilizada em: "
      ]
    },
    {
      "cell_type": "markdown",
      "metadata": {
        "id": "LnSDrEkkUUgA"
      },
      "source": [
        "## 5 Observando cada um dos caracteres que formam a palavra C O M P U T A Ç Ã O. Crie uma tabela de dispersão (hash table) que armazene cada um destes caracteres, utilizando a seguinte função: $h(char) = (ordem de char no alfabeto)\\%5$.\n",
        "\n",
        "Desenhe o esquema de como ficaram a hash table e as listas encadeadas."
      ]
    },
    {
      "cell_type": "code",
      "metadata": {
        "id": "O4XoIZXYHcIU"
      },
      "source": [
        "def h(char):\n",
        "  #Tratamento de minúscula\n",
        "  c = char.upper()\n",
        "\n",
        "  #Tratamento de caracteres latinos e acentos\n",
        "  if c == \"Ç\":\n",
        "    c = 'C'\n",
        "  if c in 'ÃÁÀÂÄ':\n",
        "    c = 'A'\n",
        "  if c in 'ÉÈÊË':\n",
        "    c = 'E'\n",
        "  if c in 'ÍÌÎÏ':\n",
        "    c = 'I'\n",
        "  if c in 'ÕÓÒÔÖ':\n",
        "    c = 'O'\n",
        "  if c in 'ÚÙÛÜ':\n",
        "    c = 'U'\n",
        "  if c in 'Ñ':\n",
        "    c = 'N'\n",
        "\n",
        "  #Função hash\n",
        "  #Define a ordem da letra no alfabeto\n",
        "  alfa = 'ABCDEFGHIJKLMNOPQRSTUVWXYZ'\n",
        "  ord = alfa.find(c)+1\n",
        "  #Calcula a função hash para definir a posição da letra na tabela\n",
        "  pos = int(ord % 5)\n",
        "\n",
        "  #Aplicação do resultado da função hash\n",
        "  hash = {char: pos}\n",
        "\n",
        "  return hash"
      ],
      "execution_count": 78,
      "outputs": []
    },
    {
      "cell_type": "code",
      "metadata": {
        "id": "cT8sbLNgIl6J"
      },
      "source": [
        "#Teste da aplicação da função com uma diferentes grafias da mesma palavra\n",
        "palavra = 'COMPUTAÇÃO'\n",
        "#palavra = 'COmPUTAÇÃO'\n",
        "#palavra = 'computação'"
      ],
      "execution_count": 86,
      "outputs": []
    },
    {
      "cell_type": "code",
      "metadata": {
        "colab": {
          "base_uri": "https://localhost:8080/"
        },
        "id": "IXBNQ0eCIGU4",
        "outputId": "1f9727c9-7305-4457-f4f1-1c3f91e4045a"
      },
      "source": [
        "#Aplicação da função hash e exibição da posição de cada letra\n",
        "print('Caractere : Posição')\n",
        "for letra in palavra:\n",
        "  hs = h(letra)\n",
        "  for k, v in hs.items():\n",
        "    print(f'{k:^10}:{v:^8}')"
      ],
      "execution_count": 101,
      "outputs": [
        {
          "output_type": "stream",
          "text": [
            "Caractere : Posição\n",
            "    C     :   3    \n",
            "    O     :   0    \n",
            "    M     :   3    \n",
            "    P     :   1    \n",
            "    U     :   1    \n",
            "    T     :   0    \n",
            "    A     :   1    \n",
            "    Ç     :   3    \n",
            "    Ã     :   1    \n",
            "    O     :   0    \n"
          ],
          "name": "stdout"
        }
      ]
    },
    {
      "cell_type": "markdown",
      "metadata": {
        "id": "XzMQDt83RKLH"
      },
      "source": [
        "Percebe-se que com a função hash definida por $h(char) =$ (ordem alfabética)$\\%5$ a tabela construída conterá diversas colisões. Por exemplo, a posição $3$ conterá os caracteres C, M e Ç. Podemos ver em mais detalhes a distribuição dos caracteres na tabela a seguir, que evidencia ainda que poucas posições foram usadas para alocação dos elementos na *hash table*.\n",
        "\n",
        "| Posição  |  Caractere  |\n",
        "| -------- | ----------- |\n",
        "|  0 |  O, T, O |\n",
        "|  1 |  P, U, A, Ã |\n",
        "|  3 |  C, M, Ç |\n",
        "\n",
        "Seria interessante a aplicação de uma técnica de colisção para evitar esta situação. Por exemplo, posicionando os caracteres na próxima posição livre, à medida que colisões fossem identificadas."
      ]
    }
  ]
}