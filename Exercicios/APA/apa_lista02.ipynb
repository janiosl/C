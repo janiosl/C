{
  "nbformat": 4,
  "nbformat_minor": 0,
  "metadata": {
    "colab": {
      "name": "apa_lista02.ipynb",
      "provenance": [],
      "collapsed_sections": [],
      "toc_visible": true,
      "authorship_tag": "ABX9TyNXGfQYzXdLnbAqC4/HZrkd",
      "include_colab_link": true
    },
    "kernelspec": {
      "name": "python3",
      "display_name": "Python 3"
    },
    "language_info": {
      "name": "python"
    }
  },
  "cells": [
    {
      "cell_type": "markdown",
      "metadata": {
        "id": "view-in-github",
        "colab_type": "text"
      },
      "source": [
        "<a href=\"https://colab.research.google.com/github/janiosl/C/blob/master/Exercicios/APA/apa_lista02.ipynb\" target=\"_parent\"><img src=\"https://colab.research.google.com/assets/colab-badge.svg\" alt=\"Open In Colab\"/></a>"
      ]
    },
    {
      "cell_type": "markdown",
      "metadata": {
        "id": "dJCAG_AFVmb6"
      },
      "source": [
        "# **CEFET-RJ**\n",
        "\n",
        "**Programa de Pós-Gradução em Ciência da Computação - PPCIC**\n",
        "\n",
        "**Mestrado em Ciência da Computação**\n",
        "\n",
        "**Disciplina: Análise e Projeto de Algoritmos - 2021/2**\n",
        "\n",
        "* **Exercícios 02**\n",
        "* **Prof.: Diego Nunes Brandão**\n",
        "* **Aluno: Janio de Souza Lima**\n",
        "\n",
        "---\n",
        "\n",
        "Uma versão online para facilitar a leitura desse notebook foi disponibilizada em: https://github.com/janiosl/C/blob/master/Exercicios/APA/apa_lista02.ipynb"
      ]
    },
    {
      "cell_type": "markdown",
      "metadata": {
        "id": "HGm4yMfiuBLm"
      },
      "source": [
        "## **Questão 1**:\n",
        "\n",
        "Quantos antecedentes tem um nó no nível $n$ em uma árvore binária? Prove!"
      ]
    },
    {
      "cell_type": "markdown",
      "metadata": {
        "id": "6TPmQfkuuT_Z"
      },
      "source": [
        "Como o nível de um nó é sempre o nível de seu pai + 1, podemos dizer que o nível a quantidade de antecedentes de um nó de nível $n$ é $n-1$, o que equivale ao nível de seu pai."
      ]
    },
    {
      "cell_type": "markdown",
      "metadata": {
        "id": "zpwpx6jp1nuk"
      },
      "source": [
        "## **Questão 2**:\n",
        "\n",
        "Escreva um programa que implementa funções para:"
      ]
    },
    {
      "cell_type": "markdown",
      "metadata": {
        "id": "hgr70KBC1sf5"
      },
      "source": [
        "O código com a implementação do TAD árvore binária e as funções para atendimento às questões abaixo está disponível no anexo `apa02_02_arvBin.c` e no repositório: https://github.com/janiosl/C/blob/master/Exercicios/APA/apa02_02_arvBin.c\n",
        "\n",
        "Abaixo de cada questão está a demonstração da execução do programa com o atendimento ao passo desejado.\n",
        "\n",
        "a) contar o número de nós em uma árvore binária;\n",
        "\n",
        "b) o número de folhas;\n",
        "\n",
        "c) o número de filhos à direita;\n",
        "\n",
        "d) a altura da árvore.\n",
        "\n",
        "\n",
        "![](https://github.com/janiosl/C/blob/master/Exercicios/APA/apa02_02_arvBin_A.PNG?raw=true)"
      ]
    },
    {
      "cell_type": "markdown",
      "metadata": {
        "id": "bKQFHlWFTeBs"
      },
      "source": [
        "* **Código com a implementação:**\n",
        "\n",
        "```\n",
        "#include <stdio.h>\n",
        "#include <stdlib.h>\n",
        "/*------------------\n",
        "TAD - Árvore Binária\n",
        "------------------*/\n",
        "struct arv{\n",
        "    char info;\n",
        "    struct arv* esq;\n",
        "    struct arv* dir;\n",
        "};typedef struct arv Arv;\n",
        "/*----------------------------------------\n",
        "Funções para manipulação da Árvore Binária\n",
        "----------------------------------------*/\n",
        "Arv* arv_criavazia(void){\n",
        "    //Cria a árvore vazia\n",
        "    return NULL;\n",
        "}\n",
        "int arv_vazia(Arv* a){\n",
        "    //Verifica se a árvore é vazia\n",
        "    return a==NULL;\n",
        "}\n",
        "Arv* arv_cria(char c, Arv* sae, Arv* sad){\n",
        "    /*Cria a árvore com um nós\n",
        "    e as sub-árvores sae e sad*/\n",
        "    Arv* p=(Arv*)malloc(sizeof(Arv));\n",
        "    p->info = c;\n",
        "    p->esq = sae;\n",
        "    p->dir = sad;\n",
        "    return p;\n",
        "}\n",
        "Arv* arv_libera(Arv* a){\n",
        "    //Libera a árvore da memória\n",
        "    if (!arv_vazia(a)){\n",
        "        arv_libera(a->esq); /* libera sae */\n",
        "        arv_libera(a->dir); /* libera sad */\n",
        "        free(a);            /* libera raiz */\n",
        "    }\n",
        "    return NULL;\n",
        "}\n",
        "/*----------------------------------------\n",
        "Funções análise da Árvore Binária\n",
        "----------------------------------------*/\n",
        "void arv_imprime (Arv* a){\n",
        "    //Imprime as informações da árvore\n",
        "    printf(\"<\");\n",
        "    if (!arv_vazia(a)){\n",
        "        printf(\"%c \", a->info); /* mostra raiz */\n",
        "        arv_imprime(a->esq);    /* mostra sae */\n",
        "        arv_imprime(a->dir);    /* mostra sad */\n",
        "    }\n",
        "    printf(\">\");\n",
        "}\n",
        "int arv_conta_nos(Arv* a){\n",
        "    //Conta a quantidade de nós da árvore\n",
        "\tif(!a)\n",
        "\t\treturn 0;\n",
        "\telse\n",
        "\t\treturn 1+ arv_conta_nos(a->esq)+arv_conta_nos(a->dir);\n",
        "}\n",
        "int arv_num_folhas(Arv *a){\n",
        "    //Conta quantidade de folhas\n",
        "    int nf;\n",
        "    nf = 0;\n",
        "    //Verifica se a arvore é vazia\n",
        "    if(!arv_vazia(a)){\n",
        "        if(arv_vazia(a->esq) && arv_vazia(a->dir)){\n",
        "            nf ++;\n",
        "        } else{\n",
        "            nf = nf + arv_num_folhas(a->esq);\n",
        "            nf = nf + arv_num_folhas(a->dir);\n",
        "        }\n",
        "        return nf;\n",
        "    }\n",
        "    return 0;\n",
        "}\n",
        "int arv_filhos_direita(Arv *a){\n",
        "    //Conta quantidade de filhos à direita\n",
        "    return 0;\n",
        "}\n",
        "int arv_altura(Arv *a){\n",
        "    //Calcula a altura da árvore\n",
        "    return 0;\n",
        "}\n",
        "/*------------------\n",
        "Programa principal\n",
        "------------------*/\n",
        "int main(){\n",
        "    /* sub-árvore 'd' */\n",
        "    Arv* a1= arv_cria('d',arv_criavazia(),arv_criavazia());\n",
        "    /* sub-árvore 'b' */\n",
        "    Arv* a2= arv_cria('b',arv_criavazia(),a1);\n",
        "    /* sub-árvore 'e' */\n",
        "    Arv* a3= arv_cria('e',arv_criavazia(),arv_criavazia());\n",
        "    /* sub-árvore 'f' */\n",
        "    Arv* a4= arv_cria('f',arv_criavazia(),arv_criavazia());\n",
        "    /* sub-árvore 'c' */\n",
        "    Arv* a5= arv_cria('c',a3,a4);\n",
        "    /* árvore 'a' */\n",
        "    Arv* a = arv_cria('a',a2,a5);\n",
        "    /*Analisando arvore completa*/\n",
        "    puts(\"Visualizacao da arvore a:\");\n",
        "    puts(\"-----------------------------------------\");\n",
        "    arv_imprime(a);\n",
        "    puts(\"\\n=========================================\");\n",
        "    int nos;\n",
        "    int folhas;\n",
        "    nos = arv_conta_nos(a);\n",
        "    folhas = arv_num_folhas(a);\n",
        "    printf(\"Nos: %d\\nFolhas: %d\\n\\n\", nos, folhas);\n",
        "    /*Analisando a subárvore arvore c*/\n",
        "    puts(\"Visualizacao da arvore c:\");\n",
        "    puts(\"-----------------------------------------\");\n",
        "    arv_imprime(a5);\n",
        "    puts(\"\\n=========================================\");\n",
        "    nos = arv_conta_nos(a5);\n",
        "    folhas = arv_num_folhas(a5);\n",
        "    printf(\"Nos: %d\\nFolhas: %d\\n\\n\", nos, folhas);\n",
        "    /*Analisando uma árvore vazia*/\n",
        "    Arv* vazia = arv_criavazia();\n",
        "    puts(\"Visualizacao da arvore vazia:\");\n",
        "    puts(\"-----------------------------------------\");\n",
        "    nos = arv_conta_nos(vazia);\n",
        "    arv_imprime(vazia);\n",
        "    puts(\"\\n=========================================\");\n",
        "    folhas = arv_num_folhas(vazia);\n",
        "    printf(\"Nos: %d\\nFolhas: %d\\n\\n\", nos, folhas);\n",
        "    return 0;\n",
        "}\n",
        "```"
      ]
    },
    {
      "cell_type": "markdown",
      "metadata": {
        "id": "9iGtKcqXUS07"
      },
      "source": [
        "##3"
      ]
    },
    {
      "cell_type": "markdown",
      "metadata": {
        "id": "RmXFpuTeUU7J"
      },
      "source": [
        "##4"
      ]
    },
    {
      "cell_type": "markdown",
      "metadata": {
        "id": "LnSDrEkkUUgA"
      },
      "source": [
        "## **Questão 5**:\n",
        "\n",
        "Observando cada um dos caracteres que formam a palavra C O M P U T A Ç Ã O. Crie uma tabela de dispersão (hash table) que armazene cada um destes caracteres, utilizando a seguinte função: $h(char) = (ordem de char no alfabeto)\\%5$.\n",
        "\n",
        "Desenhe o esquema de como ficaram a hash table e as listas encadeadas."
      ]
    },
    {
      "cell_type": "code",
      "metadata": {
        "id": "O4XoIZXYHcIU"
      },
      "source": [
        "def ordem(char):\n",
        "  \"\"\"\n",
        "  Função identifica a ordem alfabética de uma letra\n",
        "  Argumentos:\n",
        "      str char => Letra a ser analisada\n",
        "  Retorno:\n",
        "      int ord => Posição da letra no alfabeto (começando em 1)\n",
        "  \"\"\"\n",
        "  #Tratamento de minúscula\n",
        "  c = char.upper()\n",
        "\n",
        "  #Tratamento de caracteres latinos e acentos\n",
        "  if c == \"Ç\":\n",
        "    c = 'C'\n",
        "  elif c in 'ÃÁÀÂÄ':\n",
        "    c = 'A'\n",
        "  elif c in 'ÉÈÊË':\n",
        "    c = 'E'\n",
        "  elif c in 'ÍÌÎÏ':\n",
        "    c = 'I'\n",
        "  elif c in 'ÕÓÒÔÖ':\n",
        "    c = 'O'\n",
        "  elif c in 'ÚÙÛÜ':\n",
        "    c = 'U'\n",
        "  elif c in 'Ñ':\n",
        "    c = 'N'\n",
        "\n",
        "  #Função hash\n",
        "  #Define a ordem da letra no alfabeto\n",
        "  alfa = 'ABCDEFGHIJKLMNOPQRSTUVWXYZ'\n",
        "  ord = alfa.find(c)+1\n",
        "\n",
        "  return ord\n",
        "\n",
        "\n",
        "def h(char, ord):\n",
        "  \"\"\"\n",
        "  Função Calcula a função hash para definir a posição da letra na tabela\n",
        "  Argumentos:\n",
        "      str char => Letra a ser analisada\n",
        "      int ord => Ordem da letra no alfabeto\n",
        "  Retorno:\n",
        "      dict hash => Dicionário contendo:\n",
        "          str char => Letra analisada\n",
        "          int pos => Calculada baseada na função h(char) = (ordem alfabética)%5\n",
        "  \"\"\"\n",
        "  pos = int(ord % 5)\n",
        "  hash = {pos: char}\n",
        "\n",
        "  return hash"
      ],
      "execution_count": 1,
      "outputs": []
    },
    {
      "cell_type": "code",
      "metadata": {
        "id": "cT8sbLNgIl6J"
      },
      "source": [
        "#Teste da aplicação da função coma diferentes grafias da mesma palavra\n",
        "palavra = 'COMPUTAÇÃO'\n",
        "#palavra = 'COmPUTAÇÃO'\n",
        "#palavra = 'computação'"
      ],
      "execution_count": 2,
      "outputs": []
    },
    {
      "cell_type": "code",
      "metadata": {
        "colab": {
          "base_uri": "https://localhost:8080/"
        },
        "id": "IXBNQ0eCIGU4",
        "outputId": "58fc1cf5-de87-4046-d29c-063aa3a06b5d"
      },
      "source": [
        "#Aplicação da função hash e exibição da posição de cada letra\n",
        "print('Caractere : Posição')\n",
        "for letra in palavra:\n",
        "  o = ordem(letra)\n",
        "  hs = h(letra, o)\n",
        "  for k, v in hs.items():\n",
        "    print(f'{v:^10}:{k:^8}')"
      ],
      "execution_count": 3,
      "outputs": [
        {
          "output_type": "stream",
          "text": [
            "Caractere : Posição\n",
            "    C     :   3    \n",
            "    O     :   0    \n",
            "    M     :   3    \n",
            "    P     :   1    \n",
            "    U     :   1    \n",
            "    T     :   0    \n",
            "    A     :   1    \n",
            "    Ç     :   3    \n",
            "    Ã     :   1    \n",
            "    O     :   0    \n"
          ],
          "name": "stdout"
        }
      ]
    },
    {
      "cell_type": "markdown",
      "metadata": {
        "id": "XzMQDt83RKLH"
      },
      "source": [
        "Percebe-se que com a função hash definida por $h(char) =$ (ordem alfabética)$\\%5$ a tabela construída conterá diversas colisões. Por exemplo, a posição $3$ conterá os caracteres C, M e Ç. Podemos ver em mais detalhes a distribuição dos caracteres na tabela a seguir, que evidencia ainda que poucas posições foram usadas para alocação dos elementos na *hash table*.\n",
        "\n",
        "| Posição  |  Caractere  |\n",
        "| -------- | ----------- |\n",
        "|  0 |  O, T, O |\n",
        "|  1 |  P, U, A, Ã |\n",
        "|  3 |  C, M, Ç |\n",
        "\n",
        "Seria interessante a aplicação de uma técnica de tratamento de colisção para evitar esta situação. Por exemplo, posicionando o elemento (caractere) na próxima posição livre quando o resultado da funçao *hash* aponta para uma posição ocupada, ou seja, à medida que colisões fossem identificadas. Esta abordagem é conhecida como **endereçamento aberto** e uma aplicação manual dela em nosso exemplo, resultaria na tabela abaixo:\n",
        "\n",
        "|Hash | Posição  |  Caractere  |\n",
        "|---| ---| ----------- |\n",
        "| 0 |  0 |  O |\n",
        "| 1 |  1 |  P |\n",
        "| 1 |  2 |  U |\n",
        "| 3 |  3 |  C |\n",
        "| 3 |  4 |  M |\n",
        "| 0 |  5 |  T |\n",
        "| 1 |  6 |  A |\n",
        "| 3 |  7 |  Ç |\n",
        "| 1 |  8 |  Ã |\n",
        "| 0 |  9 |  O |"
      ]
    },
    {
      "cell_type": "markdown",
      "metadata": {
        "id": "JPbjI2mkXzHR"
      },
      "source": [
        "A seguir apresento também uma implementação em `C` de uma versão simplificada da função de hash e sua aplicação."
      ]
    },
    {
      "cell_type": "markdown",
      "metadata": {
        "id": "J6LgGhPeX8J0"
      },
      "source": [
        "```\n",
        "#include <stdio.h>\n",
        "#include <stdlib.h>\n",
        "/*--------------------------------------------------------------------------\n",
        "Função Calcula a função hash para definir a posição da letra na tabela\n",
        "Argumentos:\n",
        "    int ord => Ordem da letra no alfabeto\n",
        "Retorno:\n",
        "    int pos => Calculada baseada na função h(char) = (ordem alfabética)%5\n",
        "--------------------------------------------------------------------------*/\n",
        "int h(int ord){\n",
        "    int pos;\n",
        "    pos = ord % 5;\n",
        "    return pos;\n",
        "}\n",
        "/*--------------------------------------------------------------------------\n",
        "Programa Principal\n",
        "--------------------------------------------------------------------------*/\n",
        "int main(){\n",
        "    char letra;\n",
        "    puts(\"Letra: \");\n",
        "    scanf(\"%c\", &letra);\n",
        "    int ord;\n",
        "    ord = ordem(letra);\n",
        "    int pos;\n",
        "    pos = h(ord);\n",
        "    puts(\"----------------------\");\n",
        "    puts(\"Letra : Pos Hash Table\");\n",
        "    printf(\"  %c   :       \", letra);\n",
        "    printf(\"%d\\n\", pos);\n",
        "    puts(\"----------------------\");\n",
        "    return 0;\n",
        "}\n",
        "```\n",
        "\n",
        "\n",
        "**OBSERVAÇÃO:** Na implementação abaixo não está implementada a função `int ordem(char letra)` que ainda está em desenvolvimento. Mas a lógica é a mesma da função implementada em Python acima (`ordem(char)`), ou seja, conferir a ordem alfabética da letra desejada e passar esta posição como argumento para função `h(ord)` que retornará um valor inteiro com a posição definida pela função *hash*.\n",
        "\n",
        "O resultado da execução em C está demonstrado na imagem a seguir, realizada usando o código acima com a função de ordenação parcial/incompleta (https://github.com/janiosl/C/blob/master/Exercicios/APA/apa02_05_hashComp.c), mas que já demonstra a parte principal que é a aplicação da função *hash*.\n",
        "\n",
        "![](https://github.com/janiosl/C/blob/master/Exercicios/APA/apa02_05_hashComp.PNG?raw=true)"
      ]
    },
    {
      "cell_type": "markdown",
      "metadata": {
        "id": "4oilXHl28ANa"
      },
      "source": [
        "## **Questão 6**:\n",
        "\n",
        "Crie um arquivo hash com registros para $25$ nomes de cidades do estado de Minas Gerais cujos nomes comecem com as seguintes letras do alfabeto: a, b, c e s. A chave de cada registro é o nome da cidade, não sendo necessários outros campos. Coloque inicialmente os nomes das cidades em ordem alfabética."
      ]
    },
    {
      "cell_type": "markdown",
      "metadata": {
        "id": "e8We4pGFpUlk"
      },
      "source": [
        "###6.1 Obtenção dos dados"
      ]
    },
    {
      "cell_type": "markdown",
      "metadata": {
        "id": "vDu5EpKlHx2l"
      },
      "source": [
        "Inicialmente os trechos abaixo realizam apenas a varredura de uma página na internet (Wikipedia) com uma tabela com a lista de todos os municípios de Minas Gerais. Esta etapa será apenas para carga dos dados que serão usados nas demais etapas da questão."
      ]
    },
    {
      "cell_type": "code",
      "metadata": {
        "id": "UcyFHCYVgBLu"
      },
      "source": [
        "#Carga dos dados das cidades\n",
        "#Página wikipedia com cidades de Minas Gerais\n",
        "url = 'https://pt.wikipedia.org/wiki/Lista_de_munic%C3%ADpios_de_Minas_Gerais_por_popula%C3%A7%C3%A3o'"
      ],
      "execution_count": 33,
      "outputs": []
    },
    {
      "cell_type": "code",
      "metadata": {
        "id": "eLXQaqxV8T-W"
      },
      "source": [
        "#Bibliotecas para carga de dados via web scraping\n",
        "from bs4 import BeautifulSoup\n",
        "import requests\n",
        "#Biblioteca para limpeza do texto\n",
        "import re"
      ],
      "execution_count": 34,
      "outputs": []
    },
    {
      "cell_type": "code",
      "metadata": {
        "id": "e8xcbjV18YnI"
      },
      "source": [
        "def cidades_minas(url, q, iniciais):\n",
        "  #Carga da tabela de ciades da url desejada\n",
        "  page = requests.get(url)\n",
        "  bs = BeautifulSoup(page.content, 'html.parser')\n",
        "  tabela = bs.find_all('td')\n",
        "\n",
        "  #Captura do texto da tabela\n",
        "  cidades = []\n",
        "  for k in range(0, len(tabela)):\n",
        "    cidades.append(tabela[k].get_text())\n",
        "\n",
        "  #Limpeza do texto (eliminação de quebra de linhas)\n",
        "  cidades = [re.sub('\\n', '', cidades[i]) for i in range(0, len(cidades))]\n",
        "\n",
        "  #Eliminação das linhas indesejadas (posição e população)\n",
        "  #Seleção cidades com iniciais desejadas\n",
        "  c = []\n",
        "  for k in range(0, len(cidades)):\n",
        "    #Selecionada linhas iniciadas pelas letras desejadas\n",
        "    if cidades[k][0].lower() in iniciais.lower():\n",
        "      c.append(cidades[k])\n",
        "\n",
        "  #Seleciona apenas as q primeiras cidades\n",
        "  cidades = c[:q]\n",
        "\n",
        "  return cidades"
      ],
      "execution_count": 35,
      "outputs": []
    },
    {
      "cell_type": "code",
      "metadata": {
        "id": "HTkC2b5NCYSj"
      },
      "source": [
        "q = 25\n",
        "letras = 'abcs'\n",
        "cidades = cidades_minas(url, q, letras)"
      ],
      "execution_count": 36,
      "outputs": []
    },
    {
      "cell_type": "code",
      "metadata": {
        "colab": {
          "base_uri": "https://localhost:8080/"
        },
        "id": "EHarLXRBFACL",
        "outputId": "62fb1dd3-4eee-4c58-9c41-7eec7808722c"
      },
      "source": [
        "#Visualização da lista de cidades\n",
        "cidades.sort()\n",
        "cidades"
      ],
      "execution_count": 37,
      "outputs": [
        {
          "output_type": "execute_result",
          "data": {
            "text/plain": [
              "['Alfenas',\n",
              " 'Araguari',\n",
              " 'Araxá',\n",
              " 'Barbacena',\n",
              " 'Belo Horizonte',\n",
              " 'Betim',\n",
              " 'Bocaiúva',\n",
              " 'Bom Despacho',\n",
              " 'Caeté',\n",
              " 'Campo Belo',\n",
              " 'Caratinga',\n",
              " 'Cataguases',\n",
              " 'Congonhas',\n",
              " 'Conselheiro Lafaiete',\n",
              " 'Contagem',\n",
              " 'Coronel Fabriciano',\n",
              " 'Curvelo',\n",
              " 'Sabará',\n",
              " 'Santa Luzia',\n",
              " 'Santos Dumont',\n",
              " 'Sete Lagoas',\n",
              " 'São Francisco',\n",
              " 'São João del Rei',\n",
              " 'São Lourenço',\n",
              " 'São Sebastião do Paraíso']"
            ]
          },
          "metadata": {
            "tags": []
          },
          "execution_count": 37
        }
      ]
    },
    {
      "cell_type": "markdown",
      "metadata": {
        "id": "Y1HNsYcqisGH"
      },
      "source": [
        "Analisando de maneira superficial a lista ordenada acima, notamos que algumas situações podem influenciar a predisposição para colisões no uso de funções *hash* baseadas nas letras dos nomes das cidades, conforme segue:\n",
        "* Usar apenas a letra inicial, obviamente, gerará diversas colisões, tendo em vista que a lista resume-se a cidades iniciadas apenas com quatro letras (a, b, c e c).\n",
        "* Mesmo aumentando a quantidade de caracters teremos muitas situações de repetiação nas primeiras quantidade, por exemplo para 3 caracteres teremos diversas cidades iniciadas por \"São\", \"San\", \"Ara\" e \"Con\".\n",
        "* A situação acima agrava-se com o uso de 2 caractesres, pois além dos exemplos já citados, acrescenta-se alguns nomes iniciados por \"Be\", \"Sa\".\n",
        "\n",
        "Nas próximas seções adotaremos duas opções de função *hash* e avaliaremos na prática se os indícios acima se confirma."
      ]
    },
    {
      "cell_type": "markdown",
      "metadata": {
        "id": "gGue2T1FgkdK"
      },
      "source": [
        "###6.2 Função Hash: Experimentos"
      ]
    },
    {
      "cell_type": "markdown",
      "metadata": {
        "id": "t-rZomNaOvoN"
      },
      "source": [
        "Primeiro experimento:\n",
        "\n",
        "$h(cidade) \\approx \\sqrt{\\sum_{i=1}^n{unicode(Letra_i(cidade))}}$\n",
        "\n",
        "A função *hash* proposta será calculada pela raiz quadrada do somatório das $i$-ésimas letras. Sendo que $i$ vai de $1$ até a quantidade $n$,  definida no momento da aplicação *hash*, $n \\leq$ tamanho do nome cidade. Usamos o símbolo de aproximado ($\\approx$) ao invés de igual ($=$), pois na função estamos arredondando o resultado para um número inteiro (com a função interna do `int`), tendo em vista que o resultado deverá ser uma posição exata em nossa *hash table*."
      ]
    },
    {
      "cell_type": "code",
      "metadata": {
        "id": "r9IoffuUMVPY"
      },
      "source": [
        "def h_cidades(nome, n):\n",
        "  \"\"\"\n",
        "  Função hash baseada na raiz quadrada do somatório do unicode das n letras\n",
        "  \"\"\"\n",
        "  #Checa o tamanho de n\n",
        "  if n > len(nome):\n",
        "    print(f'Tamanho de N ({n}) inválido para cidade {nome}')\n",
        "    return None\n",
        "\n",
        "  #Aplica a função hash definida\n",
        "  h = 0\n",
        "  for k in range(0, n):\n",
        "    h += ord(nome[k])\n",
        "\n",
        "  h = int(h**(1/2))\n",
        "\n",
        "  return h"
      ],
      "execution_count": 38,
      "outputs": []
    },
    {
      "cell_type": "code",
      "metadata": {
        "colab": {
          "base_uri": "https://localhost:8080/"
        },
        "id": "xfvZDVPoIx9R",
        "outputId": "85bb5dc8-5004-4c85-c2ac-34582684ff20"
      },
      "source": [
        "h_cidades(cidades[0], 5)"
      ],
      "execution_count": 39,
      "outputs": [
        {
          "output_type": "execute_result",
          "data": {
            "text/plain": [
              "22"
            ]
          },
          "metadata": {
            "tags": []
          },
          "execution_count": 39
        }
      ]
    },
    {
      "cell_type": "code",
      "metadata": {
        "id": "KLsGPls7NGBL"
      },
      "source": [
        "def gera_hash_table(cidades, N, imprimir):\n",
        "  #Hash table vazia para receber os dados\n",
        "  hash_table_cidades = dict()\n",
        "  #Variáveis de controle das iterações\n",
        "  hTemp = []\n",
        "\n",
        "  for c in cidades:\n",
        "    h = h_cidades(c, N)\n",
        "    if h not in hTemp:\n",
        "      hash_table_cidades[h] = [c]\n",
        "      hTemp.append(h)\n",
        "    else:\n",
        "      for k, v in hash_table_cidades.items():\n",
        "        if k==h:\n",
        "          v.append(c)\n",
        "\n",
        "    #Imprime passo a passo na tela se o parâmetro estiver configurado = True\n",
        "    if imprimir:\n",
        "      print(f'{h} : {c}')\n",
        "  \n",
        "  return hash_table_cidades"
      ],
      "execution_count": 40,
      "outputs": []
    },
    {
      "cell_type": "markdown",
      "metadata": {
        "id": "V1E0xCyslg7K"
      },
      "source": [
        "Experimento 1.1 => $N=5$"
      ]
    },
    {
      "cell_type": "code",
      "metadata": {
        "colab": {
          "base_uri": "https://localhost:8080/"
        },
        "id": "bGIGnNKPlaqH",
        "outputId": "3c987eed-0ed5-4a96-f1b8-8533c7d6fca7"
      },
      "source": [
        "N = 5\n",
        "ht = gera_hash_table(cidades, N, True)"
      ],
      "execution_count": 41,
      "outputs": [
        {
          "output_type": "stream",
          "text": [
            "22 : Alfenas\n",
            "22 : Araguari\n",
            "24 : Araxá\n",
            "21 : Barbacena\n",
            "20 : Belo Horizonte\n",
            "22 : Betim\n",
            "21 : Bocaiúva\n",
            "19 : Bom Despacho\n",
            "24 : Caeté\n",
            "22 : Campo Belo\n",
            "22 : Caratinga\n",
            "21 : Cataguases\n",
            "22 : Congonhas\n",
            "22 : Conselheiro Lafaiete\n",
            "22 : Contagem\n",
            "22 : Coronel Fabriciano\n",
            "22 : Curvelo\n",
            "22 : Sabará\n",
            "22 : Santa Luzia\n",
            "22 : Santos Dumont\n",
            "20 : Sete Lagoas\n",
            "22 : São Francisco\n",
            "22 : São João del Rei\n",
            "23 : São Lourenço\n",
            "23 : São Sebastião do Paraíso\n"
          ],
          "name": "stdout"
        }
      ]
    },
    {
      "cell_type": "code",
      "metadata": {
        "colab": {
          "base_uri": "https://localhost:8080/"
        },
        "id": "wm_GLLvKN-8Z",
        "outputId": "0c2d2643-bd04-4a0b-ffeb-4b764b1d0885"
      },
      "source": [
        "#Conferência do resultado\n",
        "ht"
      ],
      "execution_count": 42,
      "outputs": [
        {
          "output_type": "execute_result",
          "data": {
            "text/plain": [
              "{19: ['Bom Despacho'],\n",
              " 20: ['Belo Horizonte', 'Sete Lagoas'],\n",
              " 21: ['Barbacena', 'Bocaiúva', 'Cataguases'],\n",
              " 22: ['Alfenas',\n",
              "  'Araguari',\n",
              "  'Betim',\n",
              "  'Campo Belo',\n",
              "  'Caratinga',\n",
              "  'Congonhas',\n",
              "  'Conselheiro Lafaiete',\n",
              "  'Contagem',\n",
              "  'Coronel Fabriciano',\n",
              "  'Curvelo',\n",
              "  'Sabará',\n",
              "  'Santa Luzia',\n",
              "  'Santos Dumont',\n",
              "  'São Francisco',\n",
              "  'São João del Rei'],\n",
              " 23: ['São Lourenço', 'São Sebastião do Paraíso'],\n",
              " 24: ['Araxá', 'Caeté']}"
            ]
          },
          "metadata": {
            "tags": []
          },
          "execution_count": 42
        }
      ]
    },
    {
      "cell_type": "code",
      "metadata": {
        "colab": {
          "base_uri": "https://localhost:8080/"
        },
        "id": "a8qQm1M_b8Fw",
        "outputId": "49afa2f4-efb1-45ab-de75-038feb50e775"
      },
      "source": [
        "#Visualização detalhada para análise de colisões\n",
        "print('Posição : Colisões : Elementos  ')\n",
        "for k, v in ht.items():\n",
        "  if k != None:\n",
        "    print(f'{k:^8}:{len(v)-1:^10}: {v}')\n",
        "  else:\n",
        "    print(f'  {k}  :{len(v)-1:^10}: {v}')"
      ],
      "execution_count": 43,
      "outputs": [
        {
          "output_type": "stream",
          "text": [
            "Posição : Colisões : Elementos  \n",
            "   22   :    14    : ['Alfenas', 'Araguari', 'Betim', 'Campo Belo', 'Caratinga', 'Congonhas', 'Conselheiro Lafaiete', 'Contagem', 'Coronel Fabriciano', 'Curvelo', 'Sabará', 'Santa Luzia', 'Santos Dumont', 'São Francisco', 'São João del Rei']\n",
            "   24   :    1     : ['Araxá', 'Caeté']\n",
            "   21   :    2     : ['Barbacena', 'Bocaiúva', 'Cataguases']\n",
            "   20   :    1     : ['Belo Horizonte', 'Sete Lagoas']\n",
            "   19   :    0     : ['Bom Despacho']\n",
            "   23   :    1     : ['São Lourenço', 'São Sebastião do Paraíso']\n"
          ],
          "name": "stdout"
        }
      ]
    },
    {
      "cell_type": "markdown",
      "metadata": {
        "id": "g7xBHt43lmNG"
      },
      "source": [
        "Experimento 1.2 => $N=3$"
      ]
    },
    {
      "cell_type": "code",
      "metadata": {
        "id": "8y-Yk6PxlekB"
      },
      "source": [
        "N = 3\n",
        "ht = gera_hash_table(cidades, N, False)"
      ],
      "execution_count": 44,
      "outputs": []
    },
    {
      "cell_type": "code",
      "metadata": {
        "colab": {
          "base_uri": "https://localhost:8080/"
        },
        "id": "Z1aMPw6Rlvsm",
        "outputId": "eae33c92-11ad-48b4-db09-40981b854ec4"
      },
      "source": [
        "#Visualização detalhada para análise de colisões\n",
        "print('Posição : Colisões : Elementos  ')\n",
        "for k, v in ht.items():\n",
        "  if k != None:\n",
        "    print(f'{k:^8}:{len(v)-1:^10}: {v}')\n",
        "  else:\n",
        "    print(f'  {k}  :{len(v)-1:^10}: {v}')"
      ],
      "execution_count": 45,
      "outputs": [
        {
          "output_type": "stream",
          "text": [
            "Posição : Colisões : Elementos  \n",
            "   16   :    15    : ['Alfenas', 'Araguari', 'Araxá', 'Barbacena', 'Belo Horizonte', 'Betim', 'Bocaiúva', 'Bom Despacho', 'Caeté', 'Campo Belo', 'Caratinga', 'Cataguases', 'Congonhas', 'Conselheiro Lafaiete', 'Contagem', 'Sabará']\n",
            "   17   :    4     : ['Coronel Fabriciano', 'Curvelo', 'Santa Luzia', 'Santos Dumont', 'Sete Lagoas']\n",
            "   20   :    3     : ['São Francisco', 'São João del Rei', 'São Lourenço', 'São Sebastião do Paraíso']\n"
          ],
          "name": "stdout"
        }
      ]
    },
    {
      "cell_type": "markdown",
      "metadata": {
        "id": "bpwRJnD1coxf"
      },
      "source": [
        "Experimento 1.3 => $N=7$"
      ]
    },
    {
      "cell_type": "code",
      "metadata": {
        "colab": {
          "base_uri": "https://localhost:8080/"
        },
        "id": "qFGRTBlTl5io",
        "outputId": "06d58f52-97c8-4784-860c-fd7a9de5fd69"
      },
      "source": [
        "N = 7\n",
        "ht = gera_hash_table(cidades, N, True)"
      ],
      "execution_count": 46,
      "outputs": [
        {
          "output_type": "stream",
          "text": [
            "26 : Alfenas\n",
            "26 : Araguari\n",
            "Tamanho de N (7) inválido para cidade Araxá\n",
            "None : Araxá\n",
            "25 : Barbacena\n",
            "24 : Belo Horizonte\n",
            "Tamanho de N (7) inválido para cidade Betim\n",
            "None : Betim\n",
            "29 : Bocaiúva\n",
            "24 : Bom Despacho\n",
            "Tamanho de N (7) inválido para cidade Caeté\n",
            "None : Caeté\n",
            "24 : Campo Belo\n",
            "26 : Caratinga\n",
            "26 : Cataguases\n",
            "26 : Congonhas\n",
            "26 : Conselheiro Lafaiete\n",
            "26 : Contagem\n",
            "26 : Coronel Fabriciano\n",
            "27 : Curvelo\n",
            "Tamanho de N (7) inválido para cidade Sabará\n",
            "None : Sabará\n",
            "24 : Santa Luzia\n",
            "25 : Santos Dumont\n",
            "24 : Sete Lagoas\n",
            "27 : São Francisco\n",
            "29 : São João del Rei\n",
            "27 : São Lourenço\n",
            "27 : São Sebastião do Paraíso\n"
          ],
          "name": "stdout"
        }
      ]
    },
    {
      "cell_type": "code",
      "metadata": {
        "colab": {
          "base_uri": "https://localhost:8080/"
        },
        "id": "054QYyo_l6ON",
        "outputId": "d1a3a163-3aa0-45b4-beec-f4042168c535"
      },
      "source": [
        "#Visualização detalhada para análise de colisões\n",
        "print('Posição : Colisões : Elementos  ')\n",
        "for k, v in ht.items():\n",
        "  if k != None:\n",
        "    print(f'{k:^8}:{len(v)-1:^10}: {v}')\n",
        "  else:\n",
        "    print(f'  {k}  :{len(v)-1:^10}: {v}')"
      ],
      "execution_count": 47,
      "outputs": [
        {
          "output_type": "stream",
          "text": [
            "Posição : Colisões : Elementos  \n",
            "   26   :    7     : ['Alfenas', 'Araguari', 'Caratinga', 'Cataguases', 'Congonhas', 'Conselheiro Lafaiete', 'Contagem', 'Coronel Fabriciano']\n",
            "  None  :    3     : ['Araxá', 'Betim', 'Caeté', 'Sabará']\n",
            "   25   :    1     : ['Barbacena', 'Santos Dumont']\n",
            "   24   :    4     : ['Belo Horizonte', 'Bom Despacho', 'Campo Belo', 'Santa Luzia', 'Sete Lagoas']\n",
            "   29   :    1     : ['Bocaiúva', 'São João del Rei']\n",
            "   27   :    3     : ['Curvelo', 'São Francisco', 'São Lourenço', 'São Sebastião do Paraíso']\n"
          ],
          "name": "stdout"
        }
      ]
    },
    {
      "cell_type": "markdown",
      "metadata": {
        "id": "_OeCqj51fajF"
      },
      "source": [
        "**Análise dos resultados:**\n",
        "\n",
        "Com a função *hash* usada neste primeiro experimento, percebemos que há um excessivo número de colisões, mesmo com o uso de diferentes valores para $n$. Além disso, quando eleva-se muito o valor de $n$, as colisões tenderam a diminuir, mas algumas cidades ficaram sem retorno válido, tendo em vista que o valor de $n$ excedeu a quantidade de caracteres do nome da cidade.\n"
      ]
    },
    {
      "cell_type": "markdown",
      "metadata": {
        "id": "g-g_PKWKmrta"
      },
      "source": [
        "Segundo experimento:\n",
        "\n",
        "$h(cidade) \\approx \\frac{\\sum_{i=1}^n{unicode(Letra_i(cidade))}}{n} $\n",
        "\n",
        "A função *hash* proposta será calculada pela raiz quadrada do somatório das $i$-ésimas letras. Sendo que $i$ vai de $1$ até a quantidade $n$,  definida no momento da aplicação *hash*, $n \\leq$ tamanho do nome cidade. Usamos o símbolo de aproximado ($\\approx$) ao invés de igual ($=$), pois na função estamos arredondando o resultado para um número inteiro (com a função interna do `int`), tendo em vista que o resultado deverá ser uma posição exata em nossa *hash table*."
      ]
    },
    {
      "cell_type": "code",
      "metadata": {
        "id": "YfHoU1GmoNQT"
      },
      "source": [
        "def h_cidades(nome, n):\n",
        "  \"\"\"\n",
        "  Função hash baseada na divisão inteira\n",
        "  do somatório do unicode das n letras por n\n",
        "  \"\"\"\n",
        "  #Checa o tamanho de n\n",
        "  if n > len(nome):\n",
        "    print(f'Tamanho de N ({n}) inválido para cidade {nome}')\n",
        "    return None\n",
        "\n",
        "  #Aplica a função hash definida\n",
        "  h = 0\n",
        "  for k in range(0, n):\n",
        "    h += ord(nome[k])\n",
        "\n",
        "  h = int(h/n)\n",
        "\n",
        "  return h"
      ],
      "execution_count": 48,
      "outputs": []
    },
    {
      "cell_type": "markdown",
      "metadata": {
        "id": "Ifm1NeVqcsRw"
      },
      "source": [
        "Experimento 2.1 => $N=5$"
      ]
    },
    {
      "cell_type": "code",
      "metadata": {
        "colab": {
          "base_uri": "https://localhost:8080/"
        },
        "id": "AU1W-8uxoSon",
        "outputId": "c5a7ce55-db6f-4ea6-f5d9-f551a05c7104"
      },
      "source": [
        "N = 5\n",
        "ht = gera_hash_table(cidades, N, True)"
      ],
      "execution_count": 49,
      "outputs": [
        {
          "output_type": "stream",
          "text": [
            "97 : Alfenas\n",
            "99 : Araguari\n",
            "124 : Araxá\n",
            "94 : Barbacena\n",
            "83 : Belo Horizonte\n",
            "99 : Betim\n",
            "95 : Bocaiúva\n",
            "77 : Bom Despacho\n",
            "122 : Caeté\n",
            "99 : Campo Belo\n",
            "98 : Caratinga\n",
            "96 : Cataguases\n",
            "100 : Congonhas\n",
            "100 : Conselheiro Lafaiete\n",
            "100 : Contagem\n",
            "102 : Coronel Fabriciano\n",
            "103 : Curvelo\n",
            "97 : Sabará\n",
            "100 : Santa Luzia\n",
            "103 : Santos Dumont\n",
            "86 : Sete Lagoas\n",
            "104 : São Francisco\n",
            "105 : São João del Rei\n",
            "105 : São Lourenço\n",
            "107 : São Sebastião do Paraíso\n"
          ],
          "name": "stdout"
        }
      ]
    },
    {
      "cell_type": "code",
      "metadata": {
        "colab": {
          "base_uri": "https://localhost:8080/"
        },
        "id": "jmrN_GILoYBK",
        "outputId": "9a48ea6e-1a8c-4abb-b2ba-e7ce8efe9be1"
      },
      "source": [
        "#Visualização detalhada para análise de colisões\n",
        "print('Posição : Colisões : Elementos  ')\n",
        "for k, v in ht.items():\n",
        "  if k != None:\n",
        "    print(f'{k:^8}:{len(v)-1:^10}: {v}')\n",
        "  else:\n",
        "    print(f'  {k}  :{len(v)-1:^10}: {v}')"
      ],
      "execution_count": 50,
      "outputs": [
        {
          "output_type": "stream",
          "text": [
            "Posição : Colisões : Elementos  \n",
            "   97   :    1     : ['Alfenas', 'Sabará']\n",
            "   99   :    2     : ['Araguari', 'Betim', 'Campo Belo']\n",
            "  124   :    0     : ['Araxá']\n",
            "   94   :    0     : ['Barbacena']\n",
            "   83   :    0     : ['Belo Horizonte']\n",
            "   95   :    0     : ['Bocaiúva']\n",
            "   77   :    0     : ['Bom Despacho']\n",
            "  122   :    0     : ['Caeté']\n",
            "   98   :    0     : ['Caratinga']\n",
            "   96   :    0     : ['Cataguases']\n",
            "  100   :    3     : ['Congonhas', 'Conselheiro Lafaiete', 'Contagem', 'Santa Luzia']\n",
            "  102   :    0     : ['Coronel Fabriciano']\n",
            "  103   :    1     : ['Curvelo', 'Santos Dumont']\n",
            "   86   :    0     : ['Sete Lagoas']\n",
            "  104   :    0     : ['São Francisco']\n",
            "  105   :    1     : ['São João del Rei', 'São Lourenço']\n",
            "  107   :    0     : ['São Sebastião do Paraíso']\n"
          ],
          "name": "stdout"
        }
      ]
    },
    {
      "cell_type": "markdown",
      "metadata": {
        "id": "T10rj11wcwCG"
      },
      "source": [
        "Experimento 2.2 => $N=3$"
      ]
    },
    {
      "cell_type": "code",
      "metadata": {
        "colab": {
          "base_uri": "https://localhost:8080/"
        },
        "id": "hUBqmFyuc0hf",
        "outputId": "4851449d-0ac8-4625-e501-c0a275dbe2a2"
      },
      "source": [
        "N = 3\n",
        "ht = gera_hash_table(cidades, N, True)"
      ],
      "execution_count": 51,
      "outputs": [
        {
          "output_type": "stream",
          "text": [
            "91 : Alfenas\n",
            "92 : Araguari\n",
            "92 : Araxá\n",
            "92 : Barbacena\n",
            "91 : Belo Horizonte\n",
            "94 : Betim\n",
            "92 : Bocaiúva\n",
            "95 : Bom Despacho\n",
            "88 : Caeté\n",
            "91 : Campo Belo\n",
            "92 : Caratinga\n",
            "93 : Cataguases\n",
            "96 : Congonhas\n",
            "96 : Conselheiro Lafaiete\n",
            "96 : Contagem\n",
            "97 : Coronel Fabriciano\n",
            "99 : Curvelo\n",
            "92 : Sabará\n",
            "96 : Santa Luzia\n",
            "96 : Santos Dumont\n",
            "100 : Sete Lagoas\n",
            "140 : São Francisco\n",
            "140 : São João del Rei\n",
            "140 : São Lourenço\n",
            "140 : São Sebastião do Paraíso\n"
          ],
          "name": "stdout"
        }
      ]
    },
    {
      "cell_type": "code",
      "metadata": {
        "colab": {
          "base_uri": "https://localhost:8080/"
        },
        "id": "0tytq48ac2oj",
        "outputId": "270fdc4c-5624-4b8f-8fcd-f62e1c1365d1"
      },
      "source": [
        "#Visualização detalhada para análise de colisões\n",
        "print('Posição : Colisões : Elementos  ')\n",
        "for k, v in ht.items():\n",
        "  if k != None:\n",
        "    print(f'{k:^8}:{len(v)-1:^10}: {v}')\n",
        "  else:\n",
        "    print(f'  {k}  :{len(v)-1:^10}: {v}')"
      ],
      "execution_count": 52,
      "outputs": [
        {
          "output_type": "stream",
          "text": [
            "Posição : Colisões : Elementos  \n",
            "   91   :    2     : ['Alfenas', 'Belo Horizonte', 'Campo Belo']\n",
            "   92   :    5     : ['Araguari', 'Araxá', 'Barbacena', 'Bocaiúva', 'Caratinga', 'Sabará']\n",
            "   94   :    0     : ['Betim']\n",
            "   95   :    0     : ['Bom Despacho']\n",
            "   88   :    0     : ['Caeté']\n",
            "   93   :    0     : ['Cataguases']\n",
            "   96   :    4     : ['Congonhas', 'Conselheiro Lafaiete', 'Contagem', 'Santa Luzia', 'Santos Dumont']\n",
            "   97   :    0     : ['Coronel Fabriciano']\n",
            "   99   :    0     : ['Curvelo']\n",
            "  100   :    0     : ['Sete Lagoas']\n",
            "  140   :    3     : ['São Francisco', 'São João del Rei', 'São Lourenço', 'São Sebastião do Paraíso']\n"
          ],
          "name": "stdout"
        }
      ]
    },
    {
      "cell_type": "markdown",
      "metadata": {
        "id": "4t75-Vh6cxah"
      },
      "source": [
        "Experimento 2.3 => $N=7$"
      ]
    },
    {
      "cell_type": "code",
      "metadata": {
        "colab": {
          "base_uri": "https://localhost:8080/"
        },
        "id": "1NaQDeb5c47u",
        "outputId": "e334cc9e-7f3c-4ea0-f40d-16f7c999324d"
      },
      "source": [
        "N = 7\n",
        "ht = gera_hash_table(cidades, N, True)"
      ],
      "execution_count": 53,
      "outputs": [
        {
          "output_type": "stream",
          "text": [
            "99 : Alfenas\n",
            "101 : Araguari\n",
            "Tamanho de N (7) inválido para cidade Araxá\n",
            "None : Araxá\n",
            "96 : Barbacena\n",
            "85 : Belo Horizonte\n",
            "Tamanho de N (7) inválido para cidade Betim\n",
            "None : Betim\n",
            "120 : Bocaiúva\n",
            "86 : Bom Despacho\n",
            "Tamanho de N (7) inválido para cidade Caeté\n",
            "None : Caeté\n",
            "84 : Campo Belo\n",
            "100 : Caratinga\n",
            "99 : Cataguases\n",
            "102 : Congonhas\n",
            "102 : Conselheiro Lafaiete\n",
            "100 : Contagem\n",
            "103 : Coronel Fabriciano\n",
            "105 : Curvelo\n",
            "Tamanho de N (7) inválido para cidade Sabará\n",
            "None : Sabará\n",
            "87 : Santa Luzia\n",
            "94 : Santos Dumont\n",
            "86 : Sete Lagoas\n",
            "104 : São Francisco\n",
            "123 : São João del Rei\n",
            "108 : São Lourenço\n",
            "105 : São Sebastião do Paraíso\n"
          ],
          "name": "stdout"
        }
      ]
    },
    {
      "cell_type": "code",
      "metadata": {
        "colab": {
          "base_uri": "https://localhost:8080/"
        },
        "id": "mKv1AUWyc70o",
        "outputId": "197b2142-c1af-420e-adb7-293cebd9948a"
      },
      "source": [
        "#Visualização detalhada para análise de colisões\n",
        "print('Posição : Colisões : Elementos  ')\n",
        "for k, v in ht.items():\n",
        "  if k != None:\n",
        "    print(f'{k:^8}:{len(v)-1:^10}: {v}')\n",
        "  else:\n",
        "    print(f'  {k}  :{len(v)-1:^10}: {v}')"
      ],
      "execution_count": 54,
      "outputs": [
        {
          "output_type": "stream",
          "text": [
            "Posição : Colisões : Elementos  \n",
            "   99   :    1     : ['Alfenas', 'Cataguases']\n",
            "  101   :    0     : ['Araguari']\n",
            "  None  :    3     : ['Araxá', 'Betim', 'Caeté', 'Sabará']\n",
            "   96   :    0     : ['Barbacena']\n",
            "   85   :    0     : ['Belo Horizonte']\n",
            "  120   :    0     : ['Bocaiúva']\n",
            "   86   :    1     : ['Bom Despacho', 'Sete Lagoas']\n",
            "   84   :    0     : ['Campo Belo']\n",
            "  100   :    1     : ['Caratinga', 'Contagem']\n",
            "  102   :    1     : ['Congonhas', 'Conselheiro Lafaiete']\n",
            "  103   :    0     : ['Coronel Fabriciano']\n",
            "  105   :    1     : ['Curvelo', 'São Sebastião do Paraíso']\n",
            "   87   :    0     : ['Santa Luzia']\n",
            "   94   :    0     : ['Santos Dumont']\n",
            "  104   :    0     : ['São Francisco']\n",
            "  123   :    0     : ['São João del Rei']\n",
            "  108   :    0     : ['São Lourenço']\n"
          ],
          "name": "stdout"
        }
      ]
    },
    {
      "cell_type": "markdown",
      "metadata": {
        "id": "cvypzHqmgHKx"
      },
      "source": [
        "**Análise dos resultados:**\n",
        "\n",
        "Com a função *hash* usada no segundo experimento, foi possível notar uma redução das colisões. Mesmo com o menor valor de $n$ escolhido ($3$), houve muitas posições sem colisão. Com os valores de $n$ maiores ($5, 7$), os elementos ficaram melhor distribuídos, o que facilitaria por exemplo o uso de técnicas de resolução de colisões sem excessiva diferença entre as posições calculadas inicialmente e as alteradas pela técnica escolhida. Por fim, mantém-se a atenção quando eleva-se muito o valor de $n$, pois algumas cidades ficam sem retorno válido, tendo em vista que o valor de $n$ excedeu a quantidade de caracteres do nome da cidade."
      ]
    },
    {
      "cell_type": "markdown",
      "metadata": {
        "id": "6moRrxdX4_ct"
      },
      "source": [
        "Exemplo de implementações das duas implementações abaixo das funções *hash* em C estão no anexo `apa02_06_hashCid.c` e no repositório: https://github.com/janiosl/C/blob/master/Exercicios/APA/apa02_06_hashCid.c.\n",
        "\n",
        "```\n",
        "#include <stdio.h>\n",
        "float raiz(float numero){\n",
        "    float precisao = 0.000001;\n",
        "    float b = numero, a=1;\n",
        "    while ((b-a) >= precisao){\n",
        "        b = (a+b)/2;\n",
        "        a= numero / b;\n",
        "    }\n",
        "    return b;\n",
        "}\n",
        "int h_cidades_raiz(char *nome, int n){\n",
        "    int asc;\n",
        "    int i;\n",
        "    int h = 0;\n",
        "    //Cálculo do somatório do código ASCII\n",
        "    for(i=0; i<n; i++){\n",
        "        asc = nome[i];\n",
        "        h = h + asc;\n",
        "    }\n",
        "    //Cálculo da raiz quadrada do somatório\n",
        "    return raiz(h);\n",
        "}\n",
        "int h_cidades_div(char *nome, int n){\n",
        "    int asc;\n",
        "    int i;\n",
        "    int h = 0;\n",
        "    //Cálculo do somatório do código ASCII\n",
        "    for(i=0; i<n; i++){\n",
        "        asc = nome[i];\n",
        "        h = h + asc;\n",
        "    }\n",
        "    //Cálculo do somatório dos códigos ASCII / n\n",
        "    return h/n;\n",
        "}\n",
        "int main(){\n",
        "    char cidades[25][100] = {\n",
        "        \"Alfenas\",\"Araguari\",\"Araxá\",\"Barbacena\",\"Belo Horizonte\",\n",
        "        \"Betim\",\"Bocaiúva\",\"Bom Despacho\",\"Caeté\",\"Campo Belo\",\n",
        "        \"Caratinga\",\"Cataguases\",\"Congonhas\",\"Conselheiro Lafaiete\",\n",
        "        \"Contagem\",\"Coronel Fabriciano\",\"Curvelo\",\"Sabará\",\"Santa Luzia\",\n",
        "        \"Santos Dumont\",\"Sete Lagoas\",\"São Francisco\",\"São João del Rei\",\n",
        "        \"São Lourenço\",\"São Sebastião do Paraíso\"};\n",
        "    char *nome;\n",
        "    nome = cidades[0];\n",
        "    int pos;\n",
        "    int n = 3;\n",
        "    puts(\"==================================\");\n",
        "    puts(\"Teste simples\");\n",
        "    puts(\"==================================\");\n",
        "    //Aplicação simples da primeira função hash\n",
        "    printf(\"Hash (op. 1) para N = %d\\n\", n);\n",
        "    puts(\"--------------------------\");\n",
        "    pos = h_cidades_raiz(nome, n);\n",
        "    printf(\"%d : \\\"%s\\\"\\n\", pos, nome);\n",
        "    //Aplicação simples da segunda função hash\n",
        "    printf(\"Hash (op. 2) para N = %d\\n\", n);\n",
        "    puts(\"--------------------------\");\n",
        "    pos = h_cidades_div(nome, n);\n",
        "    printf(\"%d : \\\"%s\\\"\\n\", pos, nome);\n",
        "    //Aplicação da segunda função hash para todas as cidades\n",
        "    puts(\"==================================\");\n",
        "    puts(\"Aplicacao para todas as cidades\");\n",
        "    puts(\"==================================\");\n",
        "    int j;\n",
        "    printf(\"Hash (op. 2) para N = %d\\n\", n);\n",
        "    puts(\"--------------------------\");\n",
        "    for(j=0; j<25; j++){\n",
        "        pos = h_cidades_div(cidades[j], n);\n",
        "        printf(\"%d : \\\"%s\\\"\\n\", pos, cidades[j]);\n",
        "    }\n",
        "    return 0;\n",
        "}\n",
        "```\n",
        "\n",
        "Conforme imagem demonstrando o resultado de sua execução, a princípio o resultado foi bem sucedido, contudo, nas palavras com caracteres acentuados há uma divergência, talvez pela por alguma interpretação diferente entre o compilador usado e o interpretador do Python.\n",
        "\n",
        "![](https://github.com/janiosl/C/blob/master/Exercicios/APA/apa02_06_hashCid.PNG?raw=true)\n",
        "\n",
        "Conferindo os resultados manualmente para $n=3$ e alguns nomes de cidades iniciadas por \"São\", temos o seguinte:\n",
        "\n",
        "|Caractere|ASCII|Função ord()$^1$|\n",
        "|---------|-----|----------------|\n",
        "|S|83|83|\n",
        "|ã|-58|227|\n",
        "|o|111|111|\n",
        "|TOTAL|136|421|\n",
        "|*$^1$ Função usada no Python para cálculo do código de cada caractere.*|\n",
        "\n",
        "* `C`: Aplicação do complemento da função de hash 1: $\\sqrt{136} \\approx 12$\n",
        "* `Python`: Aplicação do complemento da função de hash 1: $\\sqrt{421} \\approx 20$\n",
        "* `C`: Aplicação do complemento da função de hash 2: $\\frac{136}{n} = \\frac{136}{3} \\approx 45$\n",
        "* `Python`: Aplicação do complemento da função de hash 2: $\\frac{421}{n} = \\frac{421}{3} \\approx 140$\n",
        "\n",
        "Percebe-se que os resultados para estes nomes estão coerentes com o resultado a função `ord()` em Python, apesar de serem diferentes dos códigos ASCII obtidos em `C`. Nesta última lingaugem, por usa vez, os cálculos manuais não estão conferindo com o cálculo pela função implementada, isto pode estar ocorrendo por conta do caractere acentuado (ã) não ter sido interpretado da mesma foram ao digitar manualmente e ao ler do vetor de caracteres. De qualquer modo, a lógica geral já apresentada nas partes anteriores da questão já demonstram o uso da função, mas consideri relevante a adição deste trecho para evidenciar o cuidado no uso das funções *hash* para garantir que a interpretação dos elementos serão usados para seu cálculo serão interpretados adequadamente, bem como nos cuidados na adaptação entre diferentes plataformas ou linguagens, que podem levar em um caso real a conclusões indevidas ou dificuldades de resolução/recuperação da informação original tratada com um *hash*.\n",
        "\n",
        "Demonsração da cálculo manual dos códigos ASCII usando script complementar (listado abaixo) para identificação do código de determinando caractere.\n",
        "\n",
        "![](https://github.com/janiosl/C/blob/master/Exercicios/APA/apa02_06_hashCid-conf.PNG?raw=true)\n",
        "\n",
        "```\n",
        "#include <stdio.h>\n",
        "int main(){\n",
        "    int asc;\n",
        "    char caractere;\n",
        "    puts(\"Identificar codigo ASCII\");\n",
        "    puts(\"=====================================\");\n",
        "    printf(\"Digite o caractere desejado: \");\n",
        "    scanf(\"%c\", &caractere);\n",
        "    //Identificação do código ascii do caractere desejado\n",
        "    asc = caractere;\n",
        "    //Exibição do resultado\n",
        "    printf(\"Codigo ASCII para caractere \\\"%c\\\": %d\\n\", caractere, asc);\n",
        "    puts(\"=====================================\");\n",
        "    return 0;\n",
        "}\n",
        "```\n",
        "\n"
      ]
    },
    {
      "cell_type": "markdown",
      "metadata": {
        "id": "tEECJ-pwUZoB"
      },
      "source": [
        "##7"
      ]
    }
  ]
}