{
  "nbformat": 4,
  "nbformat_minor": 0,
  "metadata": {
    "colab": {
      "name": "apa_lista03.ipynb",
      "provenance": [],
      "collapsed_sections": [],
      "authorship_tag": "ABX9TyMlhPSrN0Fuu1GMCxaeD3Hr",
      "include_colab_link": true
    },
    "kernelspec": {
      "name": "python3",
      "display_name": "Python 3"
    },
    "language_info": {
      "name": "python"
    }
  },
  "cells": [
    {
      "cell_type": "markdown",
      "metadata": {
        "id": "view-in-github",
        "colab_type": "text"
      },
      "source": [
        "<a href=\"https://colab.research.google.com/github/janiosl/C/blob/master/Exercicios/APA/apa_lista03.ipynb\" target=\"_parent\"><img src=\"https://colab.research.google.com/assets/colab-badge.svg\" alt=\"Open In Colab\"/></a>"
      ]
    },
    {
      "cell_type": "markdown",
      "metadata": {
        "id": "dJCAG_AFVmb6"
      },
      "source": [
        "# **CEFET-RJ**\n",
        "\n",
        "**Programa de Pós-Gradução em Ciência da Computação - PPCIC**\n",
        "\n",
        "**Mestrado em Ciência da Computação**\n",
        "\n",
        "**Disciplina: Análise e Projeto de Algoritmos - 2021/2**\n",
        "\n",
        "* **Exercícios 03**\n",
        "* **Prof.: Diego Nunes Brandão**\n",
        "* **Aluno: Janio de Souza Lima**\n",
        "\n",
        "---\n",
        "\n",
        "Uma versão online para facilitar a leitura desse notebook foi disponibilizada em: https://github.com/janiosl/C/blob/master/Exercicios/APA/apa_lista03.ipynb"
      ]
    },
    {
      "cell_type": "markdown",
      "metadata": {
        "id": "HGm4yMfiuBLm"
      },
      "source": [
        "## **Questão 1**:\n",
        "\n",
        "Sobre Teoria de Grafos, responda:"
      ]
    },
    {
      "cell_type": "markdown",
      "metadata": {
        "id": "6TPmQfkuuT_Z"
      },
      "source": [
        "### a)"
      ]
    },
    {
      "cell_type": "markdown",
      "metadata": {
        "id": "rHsxSPJJgMEg"
      },
      "source": [
        "#### i.\n",
        "* Conjunto de vérticies: $V=\\{1,2,3,4,5\\}$\n",
        "* Conjunto de arestas: $E=\\{a1,a2,a3,a4,a5\\}$\n",
        "* Funções: $g(a1) = \\{1,2\\}, g(a2) = \\{1,3\\}, g(a3)=\\{3,4\\}, g(a4)=\\{3,4\\}, g(a5)=\\{4,5\\}, g(a6)=\\{5,5\\}$\n",
        "\n",
        "![](https://github.com/janiosl/C/blob/master/Exercicios/APA/apa_03_01_grafo_1_a_i.PNG?raw=true)"
      ]
    },
    {
      "cell_type": "markdown",
      "metadata": {
        "id": "pghiXsmnilUd"
      },
      "source": [
        "#### ii.\n",
        "* Vérticies não adjacentes: $\\{2,4\\} e \\{2,5\\}$\n",
        "* Laço: $\\{5,5\\}$\n",
        "* Grau do vértice 3: 2"
      ]
    },
    {
      "cell_type": "markdown",
      "metadata": {
        "id": "vN3D6aS4ZHw8"
      },
      "source": [
        "#### iv.\n",
        "\n",
        "* Matriz de adjacência"
      ]
    },
    {
      "cell_type": "code",
      "metadata": {
        "colab": {
          "base_uri": "https://localhost:8080/"
        },
        "id": "Q5LEw-8nZmmy",
        "outputId": "2d4d1c7c-ca37-4dc0-9315-d1bd80ad8ef0"
      },
      "source": [
        "#Matriz de adjacências do grafo\n",
        "import numpy as np\n",
        "ma = np.array([[0,1,1,0,0],\n",
        "               [1,0,0,0,0],\n",
        "               [1,0,0,1,0],\n",
        "               [0,0,1,0,1],\n",
        "               [0,0,0,1,1]])\n",
        "\n",
        "ma"
      ],
      "execution_count": 1,
      "outputs": [
        {
          "output_type": "execute_result",
          "data": {
            "text/plain": [
              "array([[0, 1, 1, 0, 0],\n",
              "       [1, 0, 0, 0, 0],\n",
              "       [1, 0, 0, 1, 0],\n",
              "       [0, 0, 1, 0, 1],\n",
              "       [0, 0, 0, 1, 1]])"
            ]
          },
          "metadata": {},
          "execution_count": 1
        }
      ]
    },
    {
      "cell_type": "markdown",
      "metadata": {
        "id": "DtBxNRIscuxG"
      },
      "source": [
        "* Lista de adjacências"
      ]
    },
    {
      "cell_type": "code",
      "metadata": {
        "colab": {
          "base_uri": "https://localhost:8080/"
        },
        "id": "nn15fEpQb_6D",
        "outputId": "085544b9-8533-45bc-e598-b5e4132ce7cc"
      },
      "source": [
        "#Lista de adjacências\n",
        "la = {1:[2,3],\n",
        "      2:[1],\n",
        "      3:[1,4],\n",
        "      4:[3,5],\n",
        "      5:[4,5]\n",
        "      }\n",
        "\n",
        "#Representa gráfica simplificada da lista de adjacências\n",
        "for k,v in la.items():\n",
        "  print(f'\\n{k}-->',end='')\n",
        "  for i in v:\n",
        "    print(f'{i}->',end='')"
      ],
      "execution_count": 11,
      "outputs": [
        {
          "output_type": "stream",
          "name": "stdout",
          "text": [
            "\n",
            "1-->2->3->\n",
            "2-->1->\n",
            "3-->1->4->\n",
            "4-->3->5->\n",
            "5-->4->5->"
          ]
        }
      ]
    },
    {
      "cell_type": "markdown",
      "metadata": {
        "id": "ptWn8h-ULPj2"
      },
      "source": [
        "### b) \n"
      ]
    },
    {
      "cell_type": "markdown",
      "metadata": {
        "id": "pkSxTrGVLbXY"
      },
      "source": [
        "#### i. \n",
        "Caminhos eulerianos ocorrem quando o passeio que o gera passa por cada aresta uma vez, mas pode passar por cada vértice mais de uma vez. Para configurar um grafo euleriano é preciso que uma característica especial esteja presente: inicia e termina no mesmo vértice, fechando um circuito euleriano. Outra característica do grafo euleriano é que todos os vértices precisam ser de grau par [Cormen, 2014].\n",
        "\n",
        "* **Exemplo de grafo euleriano:**\n",
        "\n",
        "![](https://github.com/janiosl/C/blob/master/Exercicios/APA/apa_03_01_grafo_1_b_i1.PNG?raw=true)\n",
        "\n",
        "\n",
        "O grafo hamiltoniano, por sua vez, começa e termina no mesmo vértice e visita cada vértice apenas uma vez, exceto pelo vértice que inicia e termina o passeio [Cormen, 2014]. Para que um caminho hamiltoniano configure um grafo hamiltoniano é necessário que o caminho forme um circuito.\n",
        "\n",
        "* **Exemplo de grafo hamiltoniano:**\n",
        "\n",
        "![](https://upload.wikimedia.org/wikipedia/commons/thumb/6/60/Hamiltonian_path.svg/220px-Hamiltonian_path.svg.png)\n",
        "\n",
        "Fonte: Wikipedia\n",
        "\n"
      ]
    },
    {
      "cell_type": "markdown",
      "metadata": {
        "id": "hXhCthyOYnbK"
      },
      "source": [
        "#### ii. \n",
        "\n",
        "* **Exemplo de grafo contendo uma ponte:**\n",
        "\n",
        "![](https://github.com/janiosl/C/blob/master/Exercicios/APA/apa_03_01_grafo_1_b_ii.PNG?raw=true)"
      ]
    },
    {
      "cell_type": "markdown",
      "metadata": {
        "id": "zpwpx6jp1nuk"
      },
      "source": [
        "## **Questão 2**:\n",
        "\n",
        "Paradigmas de projeto de algoritmos:"
      ]
    },
    {
      "cell_type": "markdown",
      "metadata": {
        "id": "hgr70KBC1sf5"
      },
      "source": [
        "### a) \n",
        "\n",
        "\n",
        "\n"
      ]
    },
    {
      "cell_type": "markdown",
      "metadata": {
        "id": "803cdiAMRKnL"
      },
      "source": [
        "Resposta: Escolheria entregar o segundo algoritmo, mas explicaria para o cliente as alternativas e os impactos da seleção do segundo, demonstrando que a economia para empresa seria relevante em função da proporção dos casos em que a solução seria linear. Esta escolha é em função de que a solução linear levaria a um custo computacional bem menor que o custo quadrático do primeiro algoritmo e da proporção de 90% das situações se enquadrando no melhor caso, pois mesmo que em 10% das situações se chegar a um custo computacional maior (cúbico), esta diferença não compensaria a diferença entre a solução linear e a cúbica nos demais casos."
      ]
    },
    {
      "cell_type": "markdown",
      "metadata": {
        "id": "bKQFHlWFTeBs"
      },
      "source": [
        "### b)"
      ]
    },
    {
      "cell_type": "markdown",
      "metadata": {
        "id": "aTjE7iS8RWPd"
      },
      "source": [
        "#### i.\n",
        "\n",
        "* **Implementação do algoritmo *merge sort***"
      ]
    },
    {
      "cell_type": "code",
      "metadata": {
        "id": "dl3ldAuesjF6"
      },
      "source": [
        "def mergeSort(data):\n",
        "  \"\"\"\n",
        "  Aplicação da abordagem de divisão e conquista para\n",
        "  preparar os dados para ordenação.\n",
        "  \"\"\"\n",
        "  if len(data) < 2:\n",
        "    return data\n",
        "  \n",
        "  #Identificar meio da lista\n",
        "  meio = len(data) // 2\n",
        "\n",
        "  #Fatiar a lista em duas partes\n",
        "  esquerda = mergeSort(data[:meio])\n",
        "  direita = mergeSort(data[meio:])\n",
        "\n",
        "  print('Lado esquerdo: ', esquerda)\n",
        "  print('Lado direito: ', direita)\n",
        "  merged = merge(esquerda, direita)\n",
        "  print('Consolidado: ', merged)\n",
        "\n",
        "  return merged"
      ],
      "execution_count": null,
      "outputs": []
    },
    {
      "cell_type": "code",
      "metadata": {
        "id": "xYxK_LZCtoEM"
      },
      "source": [
        "def merge(esquerda, direita):\n",
        "  \"\"\"\n",
        "  Ordenação da lista\n",
        "  \"\"\"\n",
        "  if not len(esquerda):\n",
        "    return esquerda\n",
        "  if not len(direita):\n",
        "    return direita\n",
        "  \n",
        "  #Variáveis de apoio\n",
        "  result = []\n",
        "  indEsq = 0\n",
        "  indDir = 0\n",
        "  totalLen = len(esquerda) + len(direita)\n",
        "\n",
        "  #Loop para ordenar os elementos\n",
        "  while (len(result) < totalLen):\n",
        "\n",
        "    if esquerda[indEsq] < direita[indDir]:\n",
        "      result.append(esquerda[indEsq])\n",
        "      indEsq += 1\n",
        "    else:\n",
        "      result.append(direita[indDir])\n",
        "      indDir += 1\n",
        "    \n",
        "    if indEsq == len(esquerda) or indDir == len(direita):\n",
        "      result.extend(esquerda[indEsq:] or direita[indDir:])\n",
        "      break\n",
        "  \n",
        "  return result"
      ],
      "execution_count": null,
      "outputs": []
    },
    {
      "cell_type": "code",
      "metadata": {
        "id": "Dj3g9xOqsRHy"
      },
      "source": [
        "#Dados para ordenação\n",
        "dados = [9,5,7,4,2,8,1,10,6,3]"
      ],
      "execution_count": null,
      "outputs": []
    },
    {
      "cell_type": "code",
      "metadata": {
        "colab": {
          "base_uri": "https://localhost:8080/"
        },
        "id": "9_JaHAwktoB-",
        "outputId": "4ee6fb99-c856-4d11-bf52-02f6d23f2e8f"
      },
      "source": [
        "%%time\n",
        "mergeSort(dados)"
      ],
      "execution_count": null,
      "outputs": [
        {
          "output_type": "stream",
          "name": "stdout",
          "text": [
            "Lado esquerdo:  [9]\n",
            "Lado direito:  [5]\n",
            "Consolidado:  [5, 9]\n",
            "Lado esquerdo:  [4]\n",
            "Lado direito:  [2]\n",
            "Consolidado:  [2, 4]\n",
            "Lado esquerdo:  [7]\n",
            "Lado direito:  [2, 4]\n",
            "Consolidado:  [2, 4, 7]\n",
            "Lado esquerdo:  [5, 9]\n",
            "Lado direito:  [2, 4, 7]\n",
            "Consolidado:  [2, 4, 5, 7, 9]\n",
            "Lado esquerdo:  [8]\n",
            "Lado direito:  [1]\n",
            "Consolidado:  [1, 8]\n",
            "Lado esquerdo:  [6]\n",
            "Lado direito:  [3]\n",
            "Consolidado:  [3, 6]\n",
            "Lado esquerdo:  [10]\n",
            "Lado direito:  [3, 6]\n",
            "Consolidado:  [3, 6, 10]\n",
            "Lado esquerdo:  [1, 8]\n",
            "Lado direito:  [3, 6, 10]\n",
            "Consolidado:  [1, 3, 6, 8, 10]\n",
            "Lado esquerdo:  [2, 4, 5, 7, 9]\n",
            "Lado direito:  [1, 3, 6, 8, 10]\n",
            "Consolidado:  [1, 2, 3, 4, 5, 6, 7, 8, 9, 10]\n",
            "CPU times: user 8.14 ms, sys: 0 ns, total: 8.14 ms\n",
            "Wall time: 8.73 ms\n"
          ]
        },
        {
          "output_type": "execute_result",
          "data": {
            "text/plain": [
              "[1, 2, 3, 4, 5, 6, 7, 8, 9, 10]"
            ]
          },
          "metadata": {},
          "execution_count": 4
        }
      ]
    },
    {
      "cell_type": "markdown",
      "metadata": {
        "id": "mcRxUEKMxSZL"
      },
      "source": [
        "* **Implementação do algoritmo *insertion sort***"
      ]
    },
    {
      "cell_type": "code",
      "metadata": {
        "id": "sO5GzCshxjb5"
      },
      "source": [
        "def insertionSort(data):\n",
        "  for scanIndex in range(1, len(data)):\n",
        "    temp = data[scanIndex]\n",
        "\n",
        "    minIndex = scanIndex\n",
        "\n",
        "    while minIndex > 0 and temp < data[minIndex - 1]:\n",
        "      data[minIndex] = data[minIndex - 1]\n",
        "      minIndex -= 1\n",
        "    \n",
        "    data[minIndex] = temp\n",
        "\n",
        "  #print(data)\n",
        "  return data"
      ],
      "execution_count": null,
      "outputs": []
    },
    {
      "cell_type": "code",
      "metadata": {
        "id": "_S3jjGYJ9_hT"
      },
      "source": [
        "#Dados para ordenação\n",
        "dados = [9,5,7,4,2,8,1,10,6,3]"
      ],
      "execution_count": null,
      "outputs": []
    },
    {
      "cell_type": "code",
      "metadata": {
        "colab": {
          "base_uri": "https://localhost:8080/"
        },
        "id": "jjYh0gc40QwK",
        "outputId": "f28e2a11-e110-453c-de16-572af28865a1"
      },
      "source": [
        "%%time\n",
        "insertionSort(dados)"
      ],
      "execution_count": null,
      "outputs": [
        {
          "output_type": "stream",
          "name": "stdout",
          "text": [
            "CPU times: user 12 µs, sys: 2 µs, total: 14 µs\n",
            "Wall time: 16.9 µs\n"
          ]
        },
        {
          "output_type": "execute_result",
          "data": {
            "text/plain": [
              "[1, 2, 3, 4, 5, 6, 7, 8, 9, 10]"
            ]
          },
          "metadata": {},
          "execution_count": 7
        }
      ]
    },
    {
      "cell_type": "code",
      "metadata": {
        "colab": {
          "base_uri": "https://localhost:8080/"
        },
        "id": "2hkX2TbM0v2q",
        "outputId": "2fcbc776-9ba4-4310-c9b5-ee2eee3c88c5"
      },
      "source": [
        "dados"
      ],
      "execution_count": null,
      "outputs": [
        {
          "output_type": "execute_result",
          "data": {
            "text/plain": [
              "[1, 2, 3, 4, 5, 6, 7, 8, 9, 10]"
            ]
          },
          "metadata": {},
          "execution_count": 8
        }
      ]
    },
    {
      "cell_type": "markdown",
      "metadata": {
        "id": "zKe3ot6H2NvV"
      },
      "source": [
        "* **Nova versão do algoritmo**"
      ]
    },
    {
      "cell_type": "code",
      "metadata": {
        "id": "y3dSiWbd2HD4"
      },
      "source": [
        "def miSort(data):\n",
        "  partial = 32\n",
        "  n = len(data)\n",
        "\n",
        "  for i in range(0, n, partial):\n",
        "    insertionSort(data)\n",
        "  \n",
        "  size = partial\n",
        "\n",
        "  while size < n:\n",
        "    for start in range(0, n, size * 2):\n",
        "      half = start + size - 1\n",
        "      end = min((start + size * 2 -1), n-1)\n",
        "      merged = merge(esquerda=data[start:half + 1],\n",
        "                     direita=data[hal + 1:end + 1])\n",
        "      data[start:start + len(merged)] = merged\n",
        "      size = size * 2\n",
        "  \n",
        "  return data"
      ],
      "execution_count": null,
      "outputs": []
    },
    {
      "cell_type": "code",
      "metadata": {
        "id": "RCZVgQv_-BFU"
      },
      "source": [
        "#Dados para ordenação\n",
        "dados = [9,5,7,4,2,8,1,10,6,3]"
      ],
      "execution_count": null,
      "outputs": []
    },
    {
      "cell_type": "code",
      "metadata": {
        "colab": {
          "base_uri": "https://localhost:8080/"
        },
        "id": "CxBnbEAC9Ipb",
        "outputId": "8d5ac726-c3a9-4919-dccd-72f1e48e0db9"
      },
      "source": [
        "%%time\n",
        "miSort(dados)"
      ],
      "execution_count": null,
      "outputs": [
        {
          "output_type": "stream",
          "name": "stdout",
          "text": [
            "CPU times: user 19 µs, sys: 4 µs, total: 23 µs\n",
            "Wall time: 28.1 µs\n"
          ]
        },
        {
          "output_type": "execute_result",
          "data": {
            "text/plain": [
              "[1, 2, 3, 4, 5, 6, 7, 8, 9, 10]"
            ]
          },
          "metadata": {},
          "execution_count": 11
        }
      ]
    },
    {
      "cell_type": "markdown",
      "metadata": {
        "id": "9iGtKcqXUS07"
      },
      "source": [
        "## **Questão 3**:\n",
        "\n"
      ]
    },
    {
      "cell_type": "markdown",
      "metadata": {
        "id": "9aLgcXA0lZD6"
      },
      "source": [
        "* *Questão Inexistente*"
      ]
    },
    {
      "cell_type": "markdown",
      "metadata": {
        "id": "RmXFpuTeUU7J"
      },
      "source": [
        "## **Questão 4**:\n",
        "\n"
      ]
    },
    {
      "cell_type": "markdown",
      "metadata": {
        "id": "S85lJxBhc3rt"
      },
      "source": [
        "### b"
      ]
    },
    {
      "cell_type": "code",
      "metadata": {
        "id": "7_F_Yjw-Fyle"
      },
      "source": [
        "import numpy as np\n",
        "\n",
        "c = 50 #Capacidade\n",
        "p = np.array([40, 30, 20, 10, 20]) #Pesos\n",
        "v = np.array([840, 600, 400, 100, 300]) #Valores"
      ],
      "execution_count": null,
      "outputs": []
    },
    {
      "cell_type": "code",
      "metadata": {
        "id": "8BoY92GCGM2k"
      },
      "source": [
        "def mochila(values, weights, capacity):\n",
        "  items = len(p)\n",
        "  memo = dict()\n",
        "\n",
        "  for size in range(0, capacity +1, 1):\n",
        "    memo[(-1, size)] = ([], 0)\n",
        "  \n",
        "  for item in range(items):\n",
        "    for size in range(0, capacity + 1, 1):\n",
        "      if weights[item] > size:\n",
        "        memo[item, size] = memo[item-1, size]\n",
        "      else:\n",
        "        previous_row, previous_row_value = memo[item-1, size-weights[item]]\n",
        "        if memo[item-1, size][1] > values[item] + previous_row_value:\n",
        "          memo[item, size] = memo[item-1, size]\n",
        "        else:\n",
        "          memo[item, size] = (previous_row + [item], previous_row_value + values[item])\n",
        "  \n",
        "  best_set, score = memo[items-1, capacity]\n",
        "\n",
        "  return best_set, score"
      ],
      "execution_count": null,
      "outputs": []
    },
    {
      "cell_type": "code",
      "metadata": {
        "id": "6i1TG-DeInAS"
      },
      "source": [
        "items_sel, pontuacao = mochila(v, p, c)"
      ],
      "execution_count": null,
      "outputs": []
    },
    {
      "cell_type": "code",
      "metadata": {
        "colab": {
          "base_uri": "https://localhost:8080/"
        },
        "id": "ja9V0kgKI8iX",
        "outputId": "2a0e1924-628e-42df-d49c-64619a6c8d4f"
      },
      "source": [
        "print(f'Melhor configuração:\\nPontuação: {pontuacao}\\nItems: {items_sel}')\n",
        "print(f'Pesos: {p[items_sel]}\\nValores: {v[items_sel]}')"
      ],
      "execution_count": null,
      "outputs": [
        {
          "output_type": "stream",
          "name": "stdout",
          "text": [
            "Melhor configuração:\n",
            "Pontuação: 1000\n",
            "Items: [1, 2]\n",
            "Pesos: [30 20]\n",
            "Valores: [600 400]\n"
          ]
        }
      ]
    },
    {
      "cell_type": "markdown",
      "metadata": {
        "id": "LnSDrEkkUUgA"
      },
      "source": [
        "## **Questão 5**:\n",
        "\n"
      ]
    },
    {
      "cell_type": "markdown",
      "metadata": {
        "id": "JPbjI2mkXzHR"
      },
      "source": [
        "*Questão em elaboração.*"
      ]
    },
    {
      "cell_type": "markdown",
      "metadata": {
        "id": "dMjGdv7gSJ2w"
      },
      "source": [
        "## Referências"
      ]
    },
    {
      "cell_type": "markdown",
      "metadata": {
        "id": "iR2AjJjqSM6t"
      },
      "source": [
        "Behrouz Forouzan, Firouz Mosharraf. **Fundamentos de Ciência da Computação**. Cengage, 2017.\n",
        "\n",
        "John Paul Mueller e Luca Massaron. **Algoritmos para leigos**. Alta Books, 2018.\n",
        "\n",
        "Thomas H. Cormen, Charles E. Leiserson, Ronald. L. Rivest, Clifford Stein. **Algoritmos**: teoria e prática. Elsevier, 2012.\n",
        "\n",
        "Thomas H. Cormen. **Desmistificando algoritmos**. Elsevier, 2014."
      ]
    }
  ]
}