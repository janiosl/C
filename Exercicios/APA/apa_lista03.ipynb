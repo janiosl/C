{
  "nbformat": 4,
  "nbformat_minor": 0,
  "metadata": {
    "colab": {
      "name": "apa_lista03.ipynb",
      "provenance": [],
      "collapsed_sections": [],
      "toc_visible": true,
      "authorship_tag": "ABX9TyMnQ/VlwzwhmuDODqu1rJ1Q",
      "include_colab_link": true
    },
    "kernelspec": {
      "name": "python3",
      "display_name": "Python 3"
    },
    "language_info": {
      "name": "python"
    }
  },
  "cells": [
    {
      "cell_type": "markdown",
      "metadata": {
        "id": "view-in-github",
        "colab_type": "text"
      },
      "source": [
        "<a href=\"https://colab.research.google.com/github/janiosl/C/blob/master/Exercicios/APA/apa_lista03.ipynb\" target=\"_parent\"><img src=\"https://colab.research.google.com/assets/colab-badge.svg\" alt=\"Open In Colab\"/></a>"
      ]
    },
    {
      "cell_type": "markdown",
      "metadata": {
        "id": "dJCAG_AFVmb6"
      },
      "source": [
        "# **CEFET-RJ**\n",
        "\n",
        "**Programa de Pós-Gradução em Ciência da Computação - PPCIC**\n",
        "\n",
        "**Mestrado em Ciência da Computação**\n",
        "\n",
        "**Disciplina: Análise e Projeto de Algoritmos - 2021/2**\n",
        "\n",
        "* **Exercícios 03**\n",
        "* **Prof.: Diego Nunes Brandão**\n",
        "* **Aluno: Janio de Souza Lima**\n",
        "\n",
        "---\n",
        "\n",
        "Uma versão online para facilitar a leitura desse notebook foi disponibilizada em: https://github.com/janiosl/C/blob/master/Exercicios/APA/apa_lista03.ipynb"
      ]
    },
    {
      "cell_type": "markdown",
      "metadata": {
        "id": "HGm4yMfiuBLm"
      },
      "source": [
        "## **Questão 1**:\n",
        "\n",
        "Sobre Teoria de Grafos, responda:"
      ]
    },
    {
      "cell_type": "markdown",
      "metadata": {
        "id": "6TPmQfkuuT_Z"
      },
      "source": [
        "### a)"
      ]
    },
    {
      "cell_type": "markdown",
      "metadata": {
        "id": "rHsxSPJJgMEg"
      },
      "source": [
        "#### i.\n",
        "* Conjunto de vérticies: $V=\\{1,2,3,4,5\\}$\n",
        "* Conjunto de arestas: $E=\\{a1,a2,a3,a4,a5\\}$\n",
        "* Funções: $g(a1) = \\{1,2\\}, g(a2) = \\{1,3\\}, g(a3)=\\{3,4\\}, g(a4)=\\{3,4\\}, g(a5)=\\{4,5\\}, g(a6)=\\{5,5\\}$\n",
        "\n",
        "![](https://github.com/janiosl/C/blob/master/Exercicios/APA/apa_03_01_grafo_1_a_i.PNG?raw=true)"
      ]
    },
    {
      "cell_type": "markdown",
      "metadata": {
        "id": "pghiXsmnilUd"
      },
      "source": [
        "#### ii.\n",
        "* Vérticies não adjacentes: $\\{2,4\\} e \\{2,5\\}$\n",
        "* Laço: $\\{5,5\\}$\n",
        "* Grau do vértice:"
      ]
    },
    {
      "cell_type": "markdown",
      "metadata": {
        "id": "ptWn8h-ULPj2"
      },
      "source": [
        "### b) \n"
      ]
    },
    {
      "cell_type": "markdown",
      "metadata": {
        "id": "pkSxTrGVLbXY"
      },
      "source": [
        "#### i. \n",
        "Caminhos eulerianos ocorrem quando o passeio que o gera passa por cada aresta uma vez, mas pode passar por cada vértice mais de uma vez. Para configurar um grafo euleriano é preciso que uma característica especial esteja presente: inicia e termina no mesmo vértice, fechando um circuito euleriano. Outra característica do grafo euleriano é que todos os vértices precisam ser de grau par [Cormen, 2014].\n",
        "\n",
        "* **Exemplo de grafo euleriano:**\n",
        "\n",
        "![](https://github.com/janiosl/C/blob/master/Exercicios/APA/apa_03_01_grafo_1_b_i1.PNG?raw=true)\n",
        "\n",
        "\n",
        "O grafo hamiltoniano, por sua vez, começa e termina no mesmo vértice e visita cada vértice apenas uma vez, exceto pelo vértice que inicia e termina o passeio [Cormen, 2014]. Para que um caminho hamiltoniano configure um grafo hamiltoniano é necessário que o caminho forme um circuito.\n",
        "\n",
        "* **Exemplo de grafo hamiltoniano:**\n",
        "\n",
        "![](https://upload.wikimedia.org/wikipedia/commons/thumb/6/60/Hamiltonian_path.svg/220px-Hamiltonian_path.svg.png)\n",
        "\n",
        "Fonte: Wikipedia\n",
        "\n"
      ]
    },
    {
      "cell_type": "markdown",
      "metadata": {
        "id": "hXhCthyOYnbK"
      },
      "source": [
        "#### ii. \n",
        "\n",
        "* **Exemplo de grafo contendo uma ponte:**\n",
        "\n",
        "![](https://github.com/janiosl/C/blob/master/Exercicios/APA/apa_03_01_grafo_1_b_ii.PNG?raw=true)"
      ]
    },
    {
      "cell_type": "markdown",
      "metadata": {
        "id": "zpwpx6jp1nuk"
      },
      "source": [
        "## **Questão 2**:\n",
        "\n",
        "Paradigmas de projeto de algoritmos:"
      ]
    },
    {
      "cell_type": "markdown",
      "metadata": {
        "id": "hgr70KBC1sf5"
      },
      "source": [
        "### a) \n",
        "\n",
        "\n",
        "\n"
      ]
    },
    {
      "cell_type": "markdown",
      "metadata": {
        "id": "803cdiAMRKnL"
      },
      "source": [
        "Resposta: Escolheria entregar o segundo algoritmo, mas explicaria para o cliente as alternativas e os impactos da seleção do segundo, demonstrando que a economia para empresa seria relevante em função da proporção dos casos em que a solução seria linear. Esta escolha é em função de que a solução linear levaria a um custo computacional bem menor que o custo quadrático do primeiro algoritmo e da proporção de 90% das situações se enquadrando no melhor caso, pois mesmo que em 10% das situações se chegar a um custo computacional maior (cúbico), esta diferença não compensaria a diferença entre a solução linear e a cúbica nos demais casos."
      ]
    },
    {
      "cell_type": "markdown",
      "metadata": {
        "id": "bKQFHlWFTeBs"
      },
      "source": [
        "### b)"
      ]
    },
    {
      "cell_type": "markdown",
      "metadata": {
        "id": "aTjE7iS8RWPd"
      },
      "source": [
        "Resposta:"
      ]
    },
    {
      "cell_type": "markdown",
      "metadata": {
        "id": "9iGtKcqXUS07"
      },
      "source": [
        "## **Questão 3**:\n",
        "\n"
      ]
    },
    {
      "cell_type": "markdown",
      "metadata": {
        "id": "9aLgcXA0lZD6"
      },
      "source": [
        "*Questão em elaboração.*"
      ]
    },
    {
      "cell_type": "markdown",
      "metadata": {
        "id": "RmXFpuTeUU7J"
      },
      "source": [
        "## **Questão 4**:\n",
        "\n"
      ]
    },
    {
      "cell_type": "markdown",
      "metadata": {
        "id": "S85lJxBhc3rt"
      },
      "source": [
        "*Questão em elaboração.*"
      ]
    },
    {
      "cell_type": "markdown",
      "metadata": {
        "id": "LnSDrEkkUUgA"
      },
      "source": [
        "## **Questão 5**:\n",
        "\n"
      ]
    },
    {
      "cell_type": "markdown",
      "metadata": {
        "id": "JPbjI2mkXzHR"
      },
      "source": [
        "*Questão em elaboração.*"
      ]
    },
    {
      "cell_type": "markdown",
      "metadata": {
        "id": "dMjGdv7gSJ2w"
      },
      "source": [
        "## Referências"
      ]
    },
    {
      "cell_type": "markdown",
      "metadata": {
        "id": "iR2AjJjqSM6t"
      },
      "source": [
        "Behrouz Forouzan, Firouz Mosharraf. **Fundamentos de Ciência da Computação**. Cengage, 2017.\n",
        "\n",
        "John Paul Mueller e Luca Massaron. **Algoritmos para leigos**. Alta Books, 2018.\n",
        "\n",
        "Thomas H. Cormen, Charles E. Leiserson, Ronald. L. Rivest, Clifford Stein. **Algoritmos**: teoria e prática. Elsevier, 2012.\n",
        "\n",
        "Thomas H. Cormen. **Desmistificando algoritmos**. Elsevier, 2014."
      ]
    }
  ]
}